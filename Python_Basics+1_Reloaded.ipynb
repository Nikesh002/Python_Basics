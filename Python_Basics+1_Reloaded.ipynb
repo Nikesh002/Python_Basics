{
  "cells": [
    {
      "attachments": {},
      "cell_type": "markdown",
      "metadata": {
        "id": "31TVqzSyrP3-"
      },
      "source": [
        "\n",
        "<center> <h1 style=\"background-color:orange; color:white\"><br>Python Python Everywhere<br></h1></center>"
      ]
    },
    {
      "attachments": {},
      "cell_type": "markdown",
      "metadata": {
        "id": "Bc3xJTPCrP4C"
      },
      "source": [
        "# `What you can do with Python?`\n",
        "<h1>fields where you can use Python with Libraries & Frameworks</h1>\n",
        "\n",
        "|OpenCV| Web Scrapping | Machine Learning | Automation Testing | Web Development | Game Devlopment |\n",
        "| --- | --- | --- | --- | --- | --- | \n",
        "|* Sciki-image |* Selenium |* Pandas |* PyUnit |* Flask |* Pand3d\n",
        "|* OpenCV |* Beautiful Soup|* Numpy |* PyTest |* Django |* Arcade\n",
        "|* Pillow |* Requests|* Matplotlib |* Behave |* Web2Py |* PyGlet \n",
        "|* Mahotas |* Lxml|* Seaborn |* Robot |* Cheerypy |* PyOpenGl\n",
        "|* SimpleITK|* Scrapy |* Scikit-learn |* Splinter |* Bottle|* PyGame\n",
        "|*** |*** |* Scipy |*** |* Pyramid |***\n",
        "|*** |*** |* Keras |*** |* CubicWeb |***\n",
        "|*** |*** |* TensorFlow |*** |* Dash |***\n",
        "|*** |*** |* PyTorch |*** |* Falcon |***\n",
        "|*** |*** |* Theano |*** |* TurboGears |***\n",
        "\n",
        "\n"
      ]
    },
    {
      "attachments": {},
      "cell_type": "markdown",
      "metadata": {
        "id": "kcBChyR-rP4D"
      },
      "source": [
        "📌 In above table you can see fields like `OpenCV`, `Web Scrapping`, **`Machine Learning`**, `Automation Testing`, `Web Development`, `Game Development`, these are the all field where you can use Python. <br>\n",
        "Yes application of Python are huge and wide <br>\n"
      ]
    },
    {
      "attachments": {},
      "cell_type": "markdown",
      "metadata": {
        "id": "L2OHN1WrrP4D"
      },
      "source": [
        "<center><h5 style=\"background-color:orange;\"><br>Important Libraries for ML and Data Science<br></h5></center>"
      ]
    },
    {
      "attachments": {},
      "cell_type": "markdown",
      "metadata": {
        "id": "bwA3tk3PrP4E"
      },
      "source": [
        "📌 These are the must know libraryies\n",
        "* **`Numpy`** - Efficient n-dimensional arrays, Linear Algebra, Random Number capabilities\n",
        "* **`Scipy`** - Scientifiv computing tools like Calculus, Signal Processing\n",
        "* **`Pandas`** - Data Reading(multiple formats), manipulation and Cleaning in python\n",
        "* **`Seaborn`** - Built on top of Matplotlib, provides a high-level interface for drawing attractive and informative charts\n",
        "* **`Matplotlib`** - Fundamental library for Data Visualization \n",
        "* **`StatsModel`** - Statistical models, Statical tests, Statical data exploration\n",
        "* **`Scikit-learn`** - Basic Data Preprocessing, Machine Learning Library"
      ]
    },
    {
      "cell_type": "code",
      "execution_count": 33,
      "metadata": {
        "colab": {
          "base_uri": "https://localhost:8080/"
        },
        "execution": {
          "iopub.execute_input": "2021-12-13T05:20:57.005459Z",
          "iopub.status.busy": "2021-12-13T05:20:57.005028Z",
          "iopub.status.idle": "2021-12-13T05:20:57.039904Z",
          "shell.execute_reply": "2021-12-13T05:20:57.038882Z",
          "shell.execute_reply.started": "2021-12-13T05:20:57.005334Z"
        },
        "id": "kOtDhbwWrP4I",
        "outputId": "9e721bba-6e02-426b-aa5b-ddcc10e7a378",
        "trusted": true
      },
      "outputs": [
        {
          "name": "stdout",
          "output_type": "stream",
          "text": [
            "Hi Nikesh Thorat, Welcome...\n"
          ]
        }
      ],
      "source": [
        "# What is your name! Want to print your name! \n",
        "name =\"Nikesh Thorat\"\n",
        "print(f\"Hi {name}, Welcome...\")\n"
      ]
    },
    {
      "attachments": {},
      "cell_type": "markdown",
      "metadata": {
        "id": "kJxHTHrVrP4I"
      },
      "source": [
        "* `()` <= `Parentheses`\n",
        "* `''` <= `Single Quotes`\n",
        "* `\"\"` <= `Double Quotes`\n",
        "* `\\n` <= `New_line `\n",
        "* `#` <= `Used to comment inside code`"
      ]
    },
    {
      "cell_type": "code",
      "execution_count": 34,
      "metadata": {
        "colab": {
          "base_uri": "https://localhost:8080/"
        },
        "execution": {
          "iopub.execute_input": "2021-12-13T05:35:13.151658Z",
          "iopub.status.busy": "2021-12-13T05:35:13.151084Z",
          "iopub.status.idle": "2021-12-13T05:35:13.156858Z",
          "shell.execute_reply": "2021-12-13T05:35:13.155917Z",
          "shell.execute_reply.started": "2021-12-13T05:35:13.151622Z"
        },
        "id": "zzmSYJDLrP4I",
        "outputId": "7a8c3e99-fa1e-49c8-99b2-86d6817bb69f",
        "trusted": true
      },
      "outputs": [
        {
          "name": "stdout",
          "output_type": "stream",
          "text": [
            "Hi Nikesh Thorat, \n",
            "\t Welcome...\n"
          ]
        }
      ],
      "source": [
        "# Only use one print function\n",
        "# \\n <= it will break current line \n",
        "print(f\"Hi {name}, \\n\\t Welcome...\")"
      ]
    },
    {
      "attachments": {},
      "cell_type": "markdown",
      "metadata": {
        "id": "W23eDrScrP4I"
      },
      "source": [
        "<a id='2'></a><center> <h3 style=\"background-color:orange; color:white\" ><br>Variables<br></h3>"
      ]
    },
    {
      "cell_type": "code",
      "execution_count": 35,
      "metadata": {
        "execution": {
          "iopub.execute_input": "2021-12-13T05:40:01.121499Z",
          "iopub.status.busy": "2021-12-13T05:40:01.12116Z",
          "iopub.status.idle": "2021-12-13T05:40:01.126402Z",
          "shell.execute_reply": "2021-12-13T05:40:01.125708Z",
          "shell.execute_reply.started": "2021-12-13T05:40:01.121464Z"
        },
        "id": "hqiWhz6srP4K",
        "trusted": true
      },
      "outputs": [],
      "source": [
        "# define variables named as with values: mukesh 7, z 6, rohan 5, longitude 4,\n",
        "mukesh = 7\n",
        "z = 6\n",
        "rohan = 5\n",
        "longitude = 4\n"
      ]
    },
    {
      "cell_type": "code",
      "execution_count": 36,
      "metadata": {
        "colab": {
          "base_uri": "https://localhost:8080/"
        },
        "execution": {
          "iopub.execute_input": "2021-12-13T05:40:18.616711Z",
          "iopub.status.busy": "2021-12-13T05:40:18.615837Z",
          "iopub.status.idle": "2021-12-13T05:40:18.625081Z",
          "shell.execute_reply": "2021-12-13T05:40:18.624216Z",
          "shell.execute_reply.started": "2021-12-13T05:40:18.616672Z"
        },
        "id": "W77FFVIqrP4K",
        "outputId": "819418ed-3eee-48e7-e644-fea885b0ce1f",
        "trusted": true
      },
      "outputs": [
        {
          "name": "stdout",
          "output_type": "stream",
          "text": [
            "5\n"
          ]
        }
      ],
      "source": [
        "# print required variable\n",
        "print(rohan)"
      ]
    },
    {
      "attachments": {},
      "cell_type": "markdown",
      "metadata": {
        "id": "89kwQhu5rP4K"
      },
      "source": [
        "Variable Assignment:\n",
        "**`Variable_Name = Value`**\n",
        "\n",
        "Variables Naming Rules:\n",
        "* `Python is case-senstive` => x=5 is different from X=5 (one is lowe and other is upper case)\n",
        "* `var name can't start with special character except underscore(_)` => _X = 7 is `valid`, @X = 7 is `invalid`\n",
        "* `var name can't start with number` => 9X = 7 is `invalid`, X9 = 7 is `valid`\n",
        "* can't use `keywords` as a variable name\n",
        "    * "
      ]
    },
    {
      "attachments": {},
      "cell_type": "markdown",
      "metadata": {
        "id": "hiYt4qiJrP4K"
      },
      "source": [
        "# * **`Declaring a Variable`** <br>\n"
      ]
    },
    {
      "cell_type": "code",
      "execution_count": 37,
      "metadata": {
        "colab": {
          "base_uri": "https://localhost:8080/"
        },
        "execution": {
          "iopub.execute_input": "2021-12-13T05:47:55.408175Z",
          "iopub.status.busy": "2021-12-13T05:47:55.407825Z",
          "iopub.status.idle": "2021-12-13T05:47:55.413447Z",
          "shell.execute_reply": "2021-12-13T05:47:55.412668Z",
          "shell.execute_reply.started": "2021-12-13T05:47:55.40814Z"
        },
        "id": "5pomjoc_rP4L",
        "outputId": "1ca76095-4521-47d1-96fc-e3fa152d35e2",
        "trusted": true
      },
      "outputs": [
        {
          "name": "stdout",
          "output_type": "stream",
          "text": [
            "False\n"
          ]
        }
      ],
      "source": [
        "# declare 4 variables with values as: ur_age 21,ur_weight 50.6, ur_first_name = 'Mukesh',ur_last_name = \"Manral\", TrueOrFalse compare if  ur_last_name == ur_first_name\n",
        "ur_age = 21\n",
        "ur_weight = 50.6\n",
        "ur_first_name = 'Mukesh'\n",
        "ur_last_name = \"Adani\"\n",
        "\n",
        "if ur_last_name == ur_first_name:\n",
        "  compare = True\n",
        "else:\n",
        "  compare = False\n",
        "\n",
        "print(compare)"
      ]
    },
    {
      "attachments": {},
      "cell_type": "markdown",
      "metadata": {
        "id": "aD6_WvkKrP4L"
      },
      "source": [
        "# * **`Data Type(Type of variable)`**"
      ]
    },
    {
      "attachments": {},
      "cell_type": "markdown",
      "metadata": {
        "id": "snzoPkD3rP4L"
      },
      "source": [
        "| Name | Type | Description |\n",
        "| ---- | ---- | ----| \n",
        "|Integers | int | Integer number, like 34,-56 ...|\n",
        "|Float | float | Decimal number, like 3.4,-5.6 ...|\n",
        "|String| str | Ordered sequence of characters, like 'your name' |\n",
        "|Boolean |bool |Logical values indicating True or False only |"
      ]
    },
    {
      "cell_type": "code",
      "execution_count": 38,
      "metadata": {
        "colab": {
          "base_uri": "https://localhost:8080/"
        },
        "execution": {
          "iopub.execute_input": "2021-12-13T05:48:10.44207Z",
          "iopub.status.busy": "2021-12-13T05:48:10.441594Z",
          "iopub.status.idle": "2021-12-13T05:48:10.449074Z",
          "shell.execute_reply": "2021-12-13T05:48:10.448114Z",
          "shell.execute_reply.started": "2021-12-13T05:48:10.442018Z"
        },
        "id": "Bb_fmhaOrP4L",
        "outputId": "5177ac48-4256-4040-fe4a-4d853a0ab0c6",
        "trusted": true
      },
      "outputs": [
        {
          "name": "stdout",
          "output_type": "stream",
          "text": [
            "<class 'int'>\n",
            "<class 'float'>\n",
            "<class 'str'>\n",
            "<class 'str'>\n",
            "<class 'bool'>\n"
          ]
        }
      ],
      "source": [
        "# print type of ur_age,ur_weight,ur_first_name,ur_last_name variables\n",
        "print(type(ur_age))\n",
        "print(type(ur_weight))\n",
        "print(type(ur_first_name))\n",
        "print(type(ur_last_name))\n",
        "print(type(compare))"
      ]
    },
    {
      "cell_type": "code",
      "execution_count": 39,
      "metadata": {
        "colab": {
          "base_uri": "https://localhost:8080/"
        },
        "execution": {
          "iopub.execute_input": "2021-12-13T05:49:37.869716Z",
          "iopub.status.busy": "2021-12-13T05:49:37.86939Z",
          "iopub.status.idle": "2021-12-13T05:49:37.875995Z",
          "shell.execute_reply": "2021-12-13T05:49:37.875066Z",
          "shell.execute_reply.started": "2021-12-13T05:49:37.869681Z"
        },
        "id": "iaADKqUwrP4L",
        "outputId": "eb89b9f6-d840-4ab3-fad5-aea22407f465",
        "trusted": true
      },
      "outputs": [
        {
          "name": "stdout",
          "output_type": "stream",
          "text": [
            "21\n",
            "50.6\n",
            "Mukesh\n",
            "Adani\n",
            "False\n"
          ]
        }
      ],
      "source": [
        "# print values of ur_age,ur_weight,ur_first_name,ur_last_name variables\n",
        "print(ur_age)\n",
        "print(ur_weight)\n",
        "print(ur_first_name)\n",
        "print(ur_last_name)\n",
        "print(compare)"
      ]
    },
    {
      "cell_type": "code",
      "execution_count": 40,
      "metadata": {
        "colab": {
          "base_uri": "https://localhost:8080/"
        },
        "execution": {
          "iopub.execute_input": "2021-12-13T05:50:49.32591Z",
          "iopub.status.busy": "2021-12-13T05:50:49.325048Z",
          "iopub.status.idle": "2021-12-13T05:50:49.332343Z",
          "shell.execute_reply": "2021-12-13T05:50:49.331287Z",
          "shell.execute_reply.started": "2021-12-13T05:50:49.325858Z"
        },
        "id": "Hde3D2uQrP4L",
        "outputId": "6d8650e6-2fc3-4139-d8cd-2b9e59e5cd85",
        "trusted": true
      },
      "outputs": [
        {
          "name": "stdout",
          "output_type": "stream",
          "text": [
            "True\n"
          ]
        }
      ],
      "source": [
        "# make 2 variables with values as: ur_first_name 'Mukesh',ur_last_name'Mukesh' \n",
        "ur_first_name = 'Mukesh'\n",
        "ur_last_name = \"Mukesh\"\n",
        "\n",
        "# make a variable TrueOrFalse which will have comparison of variables ur_last_name == ur_first_name \n",
        "if ur_last_name == ur_first_name:\n",
        "  TrueOrFalse = True\n",
        "else:\n",
        "  TrueOrFalse = False\n",
        "\n",
        "print(TrueOrFalse)"
      ]
    },
    {
      "cell_type": "code",
      "execution_count": 41,
      "metadata": {
        "colab": {
          "base_uri": "https://localhost:8080/"
        },
        "execution": {
          "iopub.execute_input": "2021-12-13T05:51:34.885949Z",
          "iopub.status.busy": "2021-12-13T05:51:34.885484Z",
          "iopub.status.idle": "2021-12-13T05:51:34.891761Z",
          "shell.execute_reply": "2021-12-13T05:51:34.890717Z",
          "shell.execute_reply.started": "2021-12-13T05:51:34.885913Z"
        },
        "id": "XvFvwpEQrP4L",
        "outputId": "d384529a-1a00-4691-fa8e-c72d5c7241d4",
        "trusted": true
      },
      "outputs": [
        {
          "name": "stdout",
          "output_type": "stream",
          "text": [
            "Name is: Mukesh and age is: 21\n"
          ]
        }
      ],
      "source": [
        "# print variables named as (your name and your age)\n",
        "print(f\"Name is: {ur_first_name} and age is: {ur_age}\")"
      ]
    },
    {
      "attachments": {},
      "cell_type": "markdown",
      "metadata": {
        "id": "SLTS9twurP4L"
      },
      "source": [
        "# *How Variables works in Python\n",
        "[To see how python code is being executed internally](https://pythontutor.com/visualize.html#mode=display)"
      ]
    },
    {
      "cell_type": "code",
      "execution_count": 42,
      "metadata": {
        "colab": {
          "base_uri": "https://localhost:8080/"
        },
        "execution": {
          "iopub.execute_input": "2021-12-13T06:26:21.636531Z",
          "iopub.status.busy": "2021-12-13T06:26:21.636233Z",
          "iopub.status.idle": "2021-12-13T06:26:21.642175Z",
          "shell.execute_reply": "2021-12-13T06:26:21.641262Z",
          "shell.execute_reply.started": "2021-12-13T06:26:21.636499Z"
        },
        "id": "2XCoERjmrP4L",
        "outputId": "fef78d4e-a4ed-4ee9-ba53-cb484d44f4d4",
        "trusted": true
      },
      "outputs": [
        {
          "name": "stdout",
          "output_type": "stream",
          "text": [
            "3 10\n"
          ]
        }
      ],
      "source": [
        "# quick variables swap\n",
        "# define 3 variables with values as :x 10, y = x,x 3 \n",
        "x = 10\n",
        "y = x\n",
        "x = 3 \n",
        "# print x,y\n",
        "print(x,y)"
      ]
    },
    {
      "attachments": {},
      "cell_type": "markdown",
      "metadata": {
        "id": "kpSfcblGrP4M"
      },
      "source": [
        "\n",
        "<a id='3'></a><center> <h3 style=\"background-color:orange; color:white\" ><br>Assignment Variables & Data Types<br></h3>"
      ]
    },
    {
      "attachments": {},
      "cell_type": "markdown",
      "metadata": {
        "id": "mrQh_aU8rP4M"
      },
      "source": [
        "📌 `When you create a variable you keep some space in memory. These memory locations are then used to store values`"
      ]
    },
    {
      "cell_type": "code",
      "execution_count": 43,
      "metadata": {
        "execution": {
          "iopub.execute_input": "2021-12-13T06:51:26.536827Z",
          "iopub.status.busy": "2021-12-13T06:51:26.536555Z",
          "iopub.status.idle": "2021-12-13T06:51:26.540484Z",
          "shell.execute_reply": "2021-12-13T06:51:26.539662Z",
          "shell.execute_reply.started": "2021-12-13T06:51:26.536795Z"
        },
        "id": "39JWxM7KrP4M",
        "trusted": true
      },
      "outputs": [],
      "source": [
        "# define a variable name \"x\" and assign value 777 to it\n",
        "x = 777"
      ]
    },
    {
      "attachments": {},
      "cell_type": "markdown",
      "metadata": {
        "id": "QXnovK7lrP4M"
      },
      "source": [
        "* To view some data on screen, python have `print` function\n",
        "    * Using `print` function we can control view on output screen\n"
      ]
    },
    {
      "cell_type": "code",
      "execution_count": 44,
      "metadata": {
        "colab": {
          "base_uri": "https://localhost:8080/"
        },
        "execution": {
          "iopub.execute_input": "2021-12-13T06:51:37.038441Z",
          "iopub.status.busy": "2021-12-13T06:51:37.038136Z",
          "iopub.status.idle": "2021-12-13T06:51:37.043423Z",
          "shell.execute_reply": "2021-12-13T06:51:37.04243Z",
          "shell.execute_reply.started": "2021-12-13T06:51:37.038407Z"
        },
        "id": "vhpXKHMkrP4M",
        "outputId": "6b87e91f-f454-4b81-aab7-1d12d4bd8354",
        "trusted": true
      },
      "outputs": [
        {
          "name": "stdout",
          "output_type": "stream",
          "text": [
            "777\n"
          ]
        }
      ],
      "source": [
        "# print value of variable x\n",
        "print(x)"
      ]
    },
    {
      "attachments": {},
      "cell_type": "markdown",
      "metadata": {
        "id": "slh282AprP4M"
      },
      "source": [
        "# *Identifiers in Python\n",
        "* Like Variables, we have to define `Functions`, `Classes` etc in python\n",
        "    * Naming them helps to differentiate one entity from another\n",
        "* All these names given to these entities are known as `Identifiers`. \n",
        "* Python have some rules to define Identifiers\n",
        "\n",
        "\n",
        "***Rules of Writing Identifiers***\n",
        "\n",
        "* Python is case sensitive language.\n",
        "* Identifiers can be a combination of letters in lowercase (a to z) or uppercase (A to Z) or digits (0 to 9) or an underscore _. \n",
        "    * Names like myVariable, var_1 and print_this, all are valid example.\n",
        "* An identifier cannot start with a digit\n",
        "* `1variable` is invalid, but `variable1` is perfectly fine\n",
        "* We cannot use special symbols like !, @, #, $, % etc. in our identifier. `_` is allowed\n",
        "* ***`Keywords` cannot be used as identifiers =>  `Keywords` are the reserved words in Python***\n",
        "\n",
        "---\n",
        "***Keywords in Python***\n",
        "\n",
        "---\n",
        "\n",
        "* `False`\n",
        "* `class`\n",
        "* `finally`\n",
        "* `is`\n",
        "* `return`\n",
        "* `None`\n",
        "* `continue`\n",
        "* `for`\n",
        "* `lambda`\n",
        "* `try`\n",
        "* `True`.. etc\n"
      ]
    },
    {
      "attachments": {},
      "cell_type": "markdown",
      "metadata": {
        "id": "SrryZ3enrP4N"
      },
      "source": [
        "# 📌 Type Conversion\n",
        "\n",
        "\n",
        "***Python defines type conversion functions to directly convert one data type to another.***"
      ]
    },
    {
      "cell_type": "code",
      "execution_count": 45,
      "metadata": {
        "colab": {
          "base_uri": "https://localhost:8080/"
        },
        "execution": {
          "iopub.execute_input": "2021-12-13T06:53:09.525961Z",
          "iopub.status.busy": "2021-12-13T06:53:09.525149Z",
          "iopub.status.idle": "2021-12-13T06:53:09.531427Z",
          "shell.execute_reply": "2021-12-13T06:53:09.530796Z",
          "shell.execute_reply.started": "2021-12-13T06:53:09.525923Z"
        },
        "id": "yeQ9bxJtrP4N",
        "outputId": "9f6ec70c-3780-43d6-dcdb-0193e79e1dd0",
        "trusted": true
      },
      "outputs": [
        {
          "name": "stdout",
          "output_type": "stream",
          "text": [
            "<class 'float'>\n",
            "<class 'int'>\n",
            "26.33333\n",
            "26\n"
          ]
        }
      ],
      "source": [
        "#convert float to integer\n",
        "\n",
        "#1. make a variable named as my_weight_float with datatype float and value 26.33333\n",
        "my_weight_float = 26.33333\n",
        "#2. make another var named as my_weight_int change above variable datatype to int \n",
        "my_weight_int = int(my_weight_float)\n",
        "#3. print data type of my_weight_float and my_weight_int\n",
        "print(type(my_weight_float))\n",
        "print(type(my_weight_int))\n",
        "#4. print my_weight_float and my_weight_int\n",
        "print(my_weight_float)\n",
        "print(my_weight_int)"
      ]
    },
    {
      "attachments": {},
      "cell_type": "markdown",
      "metadata": {
        "id": "cx_jl2V9rP4N"
      },
      "source": [
        " ➕ if we try to add string and integer number, it will give an error"
      ]
    },
    {
      "cell_type": "code",
      "execution_count": 47,
      "metadata": {
        "colab": {
          "base_uri": "https://localhost:8080/",
          "height": 183
        },
        "execution": {
          "iopub.execute_input": "2021-12-13T06:54:05.196633Z",
          "iopub.status.busy": "2021-12-13T06:54:05.196028Z",
          "iopub.status.idle": "2021-12-13T06:54:05.210193Z",
          "shell.execute_reply": "2021-12-13T06:54:05.209093Z",
          "shell.execute_reply.started": "2021-12-13T06:54:05.196593Z"
        },
        "id": "uap3_C2JrP4N",
        "outputId": "c56a8d0a-3346-4a9b-84ae-e35ef77d9776",
        "trusted": true
      },
      "outputs": [
        {
          "ename": "TypeError",
          "evalue": "can only concatenate str (not \"int\") to str",
          "output_type": "error",
          "traceback": [
            "\u001b[1;31m---------------------------------------------------------------------------\u001b[0m",
            "\u001b[1;31mTypeError\u001b[0m                                 Traceback (most recent call last)",
            "\u001b[1;32m~\\AppData\\Local\\Temp\\ipykernel_10800\\1539357277.py\u001b[0m in \u001b[0;36m<module>\u001b[1;34m\u001b[0m\n\u001b[0;32m      1\u001b[0m \u001b[1;31m# make a variable name with value as: adding_string_and_number '3' + 7\u001b[0m\u001b[1;33m\u001b[0m\u001b[1;33m\u001b[0m\u001b[1;33m\u001b[0m\u001b[0m\n\u001b[1;32m----> 2\u001b[1;33m \u001b[0madding_string_and_number\u001b[0m \u001b[1;33m=\u001b[0m \u001b[1;34m'3'\u001b[0m \u001b[1;33m+\u001b[0m \u001b[1;36m7\u001b[0m\u001b[1;33m\u001b[0m\u001b[1;33m\u001b[0m\u001b[0m\n\u001b[0m",
            "\u001b[1;31mTypeError\u001b[0m: can only concatenate str (not \"int\") to str"
          ]
        }
      ],
      "source": [
        "# make a variable name with value as: adding_string_and_number '3' + 7\n",
        "adding_string_and_number = '3' + 7"
      ]
    },
    {
      "cell_type": "code",
      "execution_count": 48,
      "metadata": {
        "colab": {
          "base_uri": "https://localhost:8080/"
        },
        "execution": {
          "iopub.execute_input": "2021-12-13T06:54:35.120497Z",
          "iopub.status.busy": "2021-12-13T06:54:35.120169Z",
          "iopub.status.idle": "2021-12-13T06:54:35.128054Z",
          "shell.execute_reply": "2021-12-13T06:54:35.127418Z",
          "shell.execute_reply.started": "2021-12-13T06:54:35.120468Z"
        },
        "id": "cJoissQsrP4N",
        "outputId": "1313b157-a13f-46df-b7d7-149a4bdf4dd2",
        "trusted": true
      },
      "outputs": [
        {
          "name": "stdout",
          "output_type": "stream",
          "text": [
            "10\n"
          ]
        }
      ],
      "source": [
        "# convert above string '3' to integer and then add both '3' and 7 and save in variable named as  adding_string_and_number\n",
        "# called type conversion: string to int\n",
        "adding_string_and_number = int('3') + 7\n",
        "\n",
        "# print variable adding_string_and_number\n",
        "print(adding_string_and_number)"
      ]
    },
    {
      "cell_type": "code",
      "execution_count": 49,
      "metadata": {
        "colab": {
          "base_uri": "https://localhost:8080/"
        },
        "execution": {
          "iopub.execute_input": "2021-12-13T06:55:34.559173Z",
          "iopub.status.busy": "2021-12-13T06:55:34.558333Z",
          "iopub.status.idle": "2021-12-13T06:55:34.564574Z",
          "shell.execute_reply": "2021-12-13T06:55:34.563731Z",
          "shell.execute_reply.started": "2021-12-13T06:55:34.559128Z"
        },
        "id": "a4Wu-bO8rP4N",
        "outputId": "4c799002-acc8-40e4-a0bc-ebd4373035d2",
        "trusted": true
      },
      "outputs": [
        {
          "name": "stdout",
          "output_type": "stream",
          "text": [
            "This is friend money: 21\n",
            "This is your money: 18\n"
          ]
        }
      ],
      "source": [
        "# make two variables with values as: ur_money 18 and frnd_money 21 \n",
        "ur_money = 18\n",
        "frnd_money = 21\n",
        "# now use f string in print to see how much mony you and your friend have\n",
        "print(f\"This is friend money: {frnd_money}\\nThis is your money: {ur_money}\")"
      ]
    },
    {
      "cell_type": "code",
      "execution_count": 50,
      "metadata": {
        "colab": {
          "base_uri": "https://localhost:8080/"
        },
        "execution": {
          "iopub.execute_input": "2021-12-13T06:56:35.5304Z",
          "iopub.status.busy": "2021-12-13T06:56:35.530114Z",
          "iopub.status.idle": "2021-12-13T06:56:35.535706Z",
          "shell.execute_reply": "2021-12-13T06:56:35.534886Z",
          "shell.execute_reply.started": "2021-12-13T06:56:35.530371Z"
        },
        "id": "oQqq8x-MrP4N",
        "outputId": "c2ffdca2-4704-457d-e53d-139b0001e14a",
        "trusted": true
      },
      "outputs": [
        {
          "name": "stdout",
          "output_type": "stream",
          "text": [
            "This is friend money: 18\n",
            "This is your money: 21\n"
          ]
        }
      ],
      "source": [
        "# swap your money with friend money values\n",
        "x = ur_money\n",
        "ur_money = frnd_money\n",
        "frnd_money = x\n",
        "# now use f string in print to see how much mony you and your friend have now after swap\n",
        "print(f\"This is friend money: {frnd_money}\\nThis is your money: {ur_money}\")"
      ]
    },
    {
      "attachments": {},
      "cell_type": "markdown",
      "metadata": {
        "id": "HhJfWRpjrP4N"
      },
      "source": [
        "# *Python Data Structures"
      ]
    },
    {
      "attachments": {},
      "cell_type": "markdown",
      "metadata": {
        "id": "O5yhDZLmrP4O"
      },
      "source": [
        "| Name | Type | Description |\n",
        "| ---- | ---- | ----| \n",
        "|List | list | Ordered sequence of various data types, like [34,'name',3.4]|\n",
        "|Dictionary | dict | Unordered sequence of `key-values pair`, like {'age':34,'age1:56'}|\n",
        "|Tuples | tup | Non-mutable sequence of data type, like (34,56,'name')|\n",
        "|Set |set | Collection of unique elements, like ('id','last_name')|"
      ]
    },
    {
      "attachments": {},
      "cell_type": "markdown",
      "metadata": {
        "id": "bhaTCL9trP4O"
      },
      "source": [
        "|Type|Mutability|Comments|\n",
        "|----|----|----|\n",
        "int |immutable|\n",
        "float|immutable|\n",
        "string|immutable|\n",
        "bool |immutable|\n",
        "frozenset|immutable|immutable version of set\n",
        "tuple|immutable|immutable version of list\n",
        "list|mutable|\n",
        "set |mutable|\n",
        "dict|mutable|\n",
        "\n"
      ]
    },
    {
      "attachments": {},
      "cell_type": "markdown",
      "metadata": {
        "id": "5zCDIkJJrP4O"
      },
      "source": [
        "💫 `immutable` => `can't be changed` <br>\n",
        "💫 `mutable` => `can be changed`"
      ]
    },
    {
      "attachments": {},
      "cell_type": "markdown",
      "metadata": {
        "id": "hABElii_rP4O"
      },
      "source": [
        "---\n",
        "### Proof that string is immutable"
      ]
    },
    {
      "cell_type": "code",
      "execution_count": 51,
      "metadata": {
        "colab": {
          "base_uri": "https://localhost:8080/",
          "height": 218
        },
        "execution": {
          "iopub.execute_input": "2021-12-14T06:23:01.639893Z",
          "iopub.status.busy": "2021-12-14T06:23:01.639413Z",
          "iopub.status.idle": "2021-12-14T06:23:01.715374Z",
          "shell.execute_reply": "2021-12-14T06:23:01.71365Z",
          "shell.execute_reply.started": "2021-12-14T06:23:01.63985Z"
        },
        "id": "Bh7K7FPCrP4O",
        "outputId": "b7f3880a-ace5-496a-aead-175ac186dad6",
        "trusted": true
      },
      "outputs": [
        {
          "name": "stdout",
          "output_type": "stream",
          "text": [
            "<class 'str'>\n"
          ]
        },
        {
          "ename": "TypeError",
          "evalue": "'str' object does not support item assignment",
          "output_type": "error",
          "traceback": [
            "\u001b[1;31m---------------------------------------------------------------------------\u001b[0m",
            "\u001b[1;31mTypeError\u001b[0m                                 Traceback (most recent call last)",
            "\u001b[1;32m~\\AppData\\Local\\Temp\\ipykernel_10800\\442857231.py\u001b[0m in \u001b[0;36m<module>\u001b[1;34m\u001b[0m\n\u001b[0;32m      6\u001b[0m \u001b[0mprint\u001b[0m\u001b[1;33m(\u001b[0m\u001b[0mtype\u001b[0m\u001b[1;33m(\u001b[0m\u001b[0mwhere_to_learn_MLandDL\u001b[0m\u001b[1;33m)\u001b[0m\u001b[1;33m)\u001b[0m\u001b[1;33m\u001b[0m\u001b[1;33m\u001b[0m\u001b[0m\n\u001b[0;32m      7\u001b[0m \u001b[1;31m# acess Letter M\u001b[0m\u001b[1;33m\u001b[0m\u001b[1;33m\u001b[0m\u001b[1;33m\u001b[0m\u001b[0m\n\u001b[1;32m----> 8\u001b[1;33m \u001b[0mwhere_to_learn_MLandDL\u001b[0m\u001b[1;33m[\u001b[0m\u001b[1;33m-\u001b[0m\u001b[1;36m1\u001b[0m\u001b[1;33m]\u001b[0m \u001b[1;33m=\u001b[0m \u001b[1;34m\"M\"\u001b[0m\u001b[1;33m\u001b[0m\u001b[1;33m\u001b[0m\u001b[0m\n\u001b[0m",
            "\u001b[1;31mTypeError\u001b[0m: 'str' object does not support item assignment"
          ]
        }
      ],
      "source": [
        "# can't reassign  \n",
        "\n",
        "# make a varible with value as: where_to_learn_MLandDL 'ChatGPT'\n",
        "where_to_learn_MLandDL = 'ChatGPT'\n",
        "# print type of variable\n",
        "print(type(where_to_learn_MLandDL))\n",
        "# acess Letter M\n",
        "where_to_learn_MLandDL[-1] = \"M\""
      ]
    },
    {
      "cell_type": "code",
      "execution_count": 54,
      "metadata": {
        "colab": {
          "base_uri": "https://localhost:8080/"
        },
        "execution": {
          "iopub.execute_input": "2021-12-14T06:25:18.517274Z",
          "iopub.status.busy": "2021-12-14T06:25:18.516942Z",
          "iopub.status.idle": "2021-12-14T06:25:18.527458Z",
          "shell.execute_reply": "2021-12-14T06:25:18.52641Z",
          "shell.execute_reply.started": "2021-12-14T06:25:18.517237Z"
        },
        "id": "b3IB3yQbrP4O",
        "outputId": "18b911e8-79f6-465a-8fd0-75481ad8b986",
        "trusted": true
      },
      "outputs": [
        {
          "name": "stdout",
          "output_type": "stream",
          "text": [
            "C  =  2310885909296\n",
            "h  =  2310885970800\n",
            "a  =  2310885666608\n",
            "t  =  2310884154800\n",
            "G  =  2310887295280\n",
            "P  =  2310886113008\n",
            "T  =  2310885914160\n",
            "D  =  2310886110192\n",
            "L  =  2310885814384\n"
          ]
        }
      ],
      "source": [
        "# make a variable with value as: where_to_learn_MLandDL  'ChatGPTDL'\n",
        "where_to_learn_MLandDL = 'ChatGPTDL'\n",
        "\n",
        "# try to loop in range of (0,9) and try to see memory location of letter-L of string-'ChatGPTDL' is same\n",
        "for i in range(0,9):\n",
        "  print(where_to_learn_MLandDL[i],\" = \",id(where_to_learn_MLandDL[i]))\n",
        "del(where_to_learn_MLandDL)\n",
        "# If you dont know loop go throug youtube videos first then do this"
      ]
    },
    {
      "attachments": {},
      "cell_type": "markdown",
      "metadata": {
        "id": "1Yau-6lcrP4O"
      },
      "source": [
        "---"
      ]
    },
    {
      "attachments": {},
      "cell_type": "markdown",
      "metadata": {
        "id": "7NhOTXbMrP4P"
      },
      "source": [
        "**`List`** (ordered datastructure)\n",
        "* Ordered collection of values, each element is seprated by a comma, use of square bracket for denotion of list\n",
        "Ordered property is the most important aspect of list, lets see how:\n",
        "* Python remembers the order of elements of a list\n",
        "Data type connot store different kind of values in it, but list can"
      ]
    },
    {
      "cell_type": "code",
      "execution_count": 55,
      "metadata": {
        "execution": {
          "iopub.execute_input": "2021-12-13T06:35:13.990546Z",
          "iopub.status.busy": "2021-12-13T06:35:13.990207Z",
          "iopub.status.idle": "2021-12-13T06:35:13.995431Z",
          "shell.execute_reply": "2021-12-13T06:35:13.994825Z",
          "shell.execute_reply.started": "2021-12-13T06:35:13.990514Z"
        },
        "id": "h8DvPJKUrP4P",
        "trusted": true
      },
      "outputs": [],
      "source": [
        "# declare a list named as ur_data_Lis having variables age,weight,name with values as 21,50.6,'Mukesh Manral'\n",
        "ur_data_List = ['age','weight','name',21,50.6,'Mukesh Manral']\n",
        "\n",
        "# declare a dictionary named as ur_data_dictionary having keys as age,weight, first_name values as 21, 50, Mukesh\n",
        "ur_data_dictionary = {'age':21,'weight':50.6,'name':'Mukesh Manral'}\n",
        "\n",
        "# declare a tuple named as ur_data_tuples having values 21,50.6,'first_name'\n",
        "ur_data_tuples = (21,50.6,'first_name')\n",
        "\n",
        "# declare a set named as ur_data_set having value as Mukesh\n",
        "ur_data_set = {'Mukesh'}"
      ]
    },
    {
      "cell_type": "code",
      "execution_count": 56,
      "metadata": {
        "colab": {
          "base_uri": "https://localhost:8080/"
        },
        "id": "BjybhpkprP4P",
        "outputId": "4d920db6-aece-471f-98e1-717756c0ea13"
      },
      "outputs": [
        {
          "name": "stdout",
          "output_type": "stream",
          "text": [
            "<class 'list'>\n",
            "<class 'dict'>\n",
            "<class 'tuple'>\n",
            "<class 'set'>\n"
          ]
        }
      ],
      "source": [
        "# see datatype of ur_data_List, ur_data_dictionary, ur_data_tuples , ur_data_set variables\n",
        "print(type(ur_data_List))\n",
        "print(type(ur_data_dictionary))\n",
        "print(type(ur_data_tuples))\n",
        "print(type(ur_data_set))"
      ]
    },
    {
      "attachments": {},
      "cell_type": "markdown",
      "metadata": {
        "id": "DONZzh6OrP4P"
      },
      "source": [
        "<a id='4'></a><center> <h3 style=\"background-color:orange; color:white\" ><br>Operators<br></h3>"
      ]
    },
    {
      "attachments": {},
      "cell_type": "markdown",
      "metadata": {
        "id": "4Wfm35b4rP4P"
      },
      "source": [
        "`Operators`: Symbols that represent mathematical or logical tasks \n",
        "\n",
        "Example:<br>\n",
        "`700` `+` `77`<br>\n",
        "* `+` <= Operator\n",
        "* `700` & `77` <= Operands\n"
      ]
    },
    {
      "attachments": {},
      "cell_type": "markdown",
      "metadata": {
        "execution": {
          "iopub.execute_input": "2021-12-10T06:38:34.676668Z",
          "iopub.status.busy": "2021-12-10T06:38:34.676365Z",
          "iopub.status.idle": "2021-12-10T06:38:34.749862Z",
          "shell.execute_reply": "2021-12-10T06:38:34.748973Z",
          "shell.execute_reply.started": "2021-12-10T06:38:34.676636Z"
        },
        "id": "W-7tOm5CrP4P"
      },
      "source": [
        "# Types of Operators\n",
        "1. `Arithmetic Operators`\n",
        "2. `Comparison Operators`\n",
        "3. `Logical Operators`"
      ]
    },
    {
      "attachments": {},
      "cell_type": "markdown",
      "metadata": {
        "id": "7OAVQ6EsrP4P"
      },
      "source": [
        "# **1. `Arithmetic Operators`**"
      ]
    },
    {
      "attachments": {},
      "cell_type": "markdown",
      "metadata": {
        "id": "_QNg2gk7rP4Q"
      },
      "source": [
        "|Task | Symbol|Example|\n",
        "|---|---|----|\n",
        "|Addition | + | 700 + 77 = 777|\n",
        "|Substraction | - | 778 - 1 = 777|\n",
        "|Multiplication | * | 1 * 777 = 777|\n",
        "|Division | / | 13 / 2 = 6.5|\n",
        "|Floor Division(ignores decimal \\ gives quotient) | // | 13 // 2 = 6|\n",
        "|Modulo(gives remainder)| % | 13 % 2 = 1|\n",
        "|Exponent(raise to the power) | ** | 13**2 = 169 |"
      ]
    },
    {
      "attachments": {},
      "cell_type": "markdown",
      "metadata": {
        "id": "FyxOlaQmrP4Q"
      },
      "source": [
        "# **2. `Comparison Operators`**"
      ]
    },
    {
      "attachments": {},
      "cell_type": "markdown",
      "metadata": {
        "id": "8V4gqwnBrP4Q"
      },
      "source": [
        "|Task | Symbol|\n",
        "|---|---|\n",
        "|Less than | < |\n",
        "|Less than or equall to | <= | \n",
        "|Equall to | == | \n",
        "|Greater than | > | \n",
        "|Greater than or equall to | >=|\n",
        "|Not equall to | != | \n"
      ]
    },
    {
      "attachments": {},
      "cell_type": "markdown",
      "metadata": {
        "id": "m7-BVTnhrP4Q"
      },
      "source": [
        "# **3. `Logical Operators`**"
      ]
    },
    {
      "attachments": {},
      "cell_type": "markdown",
      "metadata": {
        "id": "pHm4Yt2NrP4Q"
      },
      "source": [
        "|Task | Symbol|Description|\n",
        "|---|---|---|\n",
        "|and | 1 < 2 and 2 < 3 => True |True only if both comparison are true |\n",
        "|or | 1 < 2 or 2 > 3 => True|True if either of the comparison are true  |\n",
        "|not | not 1 > 2 => True|(flips results)True if comparison is False and so on.. |\n"
      ]
    },
    {
      "attachments": {},
      "cell_type": "markdown",
      "metadata": {
        "id": "IEkQ9PGArP4Q"
      },
      "source": [
        "<a id='5'></a><center> <h3 style=\"background-color:orange; color:white\" ><br>Assignment Operators<br></h3>"
      ]
    },
    {
      "cell_type": "code",
      "execution_count": 57,
      "metadata": {
        "execution": {
          "iopub.execute_input": "2021-12-13T11:16:12.878107Z",
          "iopub.status.busy": "2021-12-13T11:16:12.87742Z",
          "iopub.status.idle": "2021-12-13T11:16:12.88218Z",
          "shell.execute_reply": "2021-12-13T11:16:12.881502Z",
          "shell.execute_reply.started": "2021-12-13T11:16:12.878061Z"
        },
        "id": "9eHULNrarP4Q",
        "trusted": true
      },
      "outputs": [],
      "source": [
        "# Initialize variables [x,y,z,zz] with values \n",
        "## x as 7 =>int ,\n",
        "x = 7\n",
        "## y as 77 =>int,\n",
        "y = 77 \n",
        "## z as 77.7 => float,\n",
        "z = 77.7 \n",
        "## zz as 'Hi' => string\n",
        "zz = 'Hi'\n"
      ]
    },
    {
      "attachments": {},
      "cell_type": "markdown",
      "metadata": {
        "id": "kMGlbyturP4Q"
      },
      "source": [
        "# **1. `Arithmetic Operators`**"
      ]
    },
    {
      "cell_type": "code",
      "execution_count": 58,
      "metadata": {
        "colab": {
          "base_uri": "https://localhost:8080/"
        },
        "execution": {
          "iopub.execute_input": "2021-12-13T11:16:16.831632Z",
          "iopub.status.busy": "2021-12-13T11:16:16.831361Z",
          "iopub.status.idle": "2021-12-13T11:16:16.837568Z",
          "shell.execute_reply": "2021-12-13T11:16:16.836727Z",
          "shell.execute_reply.started": "2021-12-13T11:16:16.831606Z"
        },
        "id": "_7X7ChdtrP4Q",
        "outputId": "112caf82-ae7d-4cac-ff99-044848ec9dc1",
        "trusted": true
      },
      "outputs": [
        {
          "name": "stdout",
          "output_type": "stream",
          "text": [
            "84.7\n"
          ]
        }
      ],
      "source": [
        "# add x and z\n",
        "print(x+z)"
      ]
    },
    {
      "cell_type": "code",
      "execution_count": 59,
      "metadata": {
        "colab": {
          "base_uri": "https://localhost:8080/"
        },
        "execution": {
          "iopub.execute_input": "2021-12-13T11:16:30.203003Z",
          "iopub.status.busy": "2021-12-13T11:16:30.20271Z",
          "iopub.status.idle": "2021-12-13T11:16:30.208385Z",
          "shell.execute_reply": "2021-12-13T11:16:30.207581Z",
          "shell.execute_reply.started": "2021-12-13T11:16:30.20297Z"
        },
        "id": "VWA9vqXbrP4R",
        "outputId": "eaea0838-1f10-4dc5-fb10-fe00a2f7a9ae",
        "trusted": true
      },
      "outputs": [
        {
          "name": "stdout",
          "output_type": "stream",
          "text": [
            "0.7000000000000028\n"
          ]
        }
      ],
      "source": [
        "# subtract z and y\n",
        "print(z-y)"
      ]
    },
    {
      "cell_type": "code",
      "execution_count": 60,
      "metadata": {
        "colab": {
          "base_uri": "https://localhost:8080/"
        },
        "execution": {
          "iopub.execute_input": "2021-12-13T11:16:33.722854Z",
          "iopub.status.busy": "2021-12-13T11:16:33.722346Z",
          "iopub.status.idle": "2021-12-13T11:16:33.727832Z",
          "shell.execute_reply": "2021-12-13T11:16:33.726714Z",
          "shell.execute_reply.started": "2021-12-13T11:16:33.722819Z"
        },
        "id": "Xs-S0MhCrP4R",
        "outputId": "9fb8ad76-0f28-4ce8-df2b-fe287a668919",
        "trusted": true
      },
      "outputs": [
        {
          "name": "stdout",
          "output_type": "stream",
          "text": [
            "543.9\n"
          ]
        }
      ],
      "source": [
        "# Multiply x and z\n",
        "print(x*z)"
      ]
    },
    {
      "cell_type": "code",
      "execution_count": 61,
      "metadata": {
        "colab": {
          "base_uri": "https://localhost:8080/"
        },
        "execution": {
          "iopub.status.busy": "2021-12-11T05:18:03.351545Z",
          "iopub.status.idle": "2021-12-11T05:18:03.351958Z",
          "shell.execute_reply": "2021-12-11T05:18:03.351816Z",
          "shell.execute_reply.started": "2021-12-11T05:18:03.3518Z"
        },
        "id": "QTAL9jikrP4R",
        "outputId": "8c09dbc5-1a50-4695-e2a2-4f7f290f7572",
        "trusted": true
      },
      "outputs": [
        {
          "name": "stdout",
          "output_type": "stream",
          "text": [
            "4.614426248242042e+65\n"
          ]
        }
      ],
      "source": [
        "# Exponent (raise the power or times) x times z\n",
        "print(x**z)"
      ]
    },
    {
      "cell_type": "code",
      "execution_count": 62,
      "metadata": {
        "colab": {
          "base_uri": "https://localhost:8080/"
        },
        "execution": {
          "iopub.execute_input": "2021-12-13T11:16:54.593185Z",
          "iopub.status.busy": "2021-12-13T11:16:54.592323Z",
          "iopub.status.idle": "2021-12-13T11:16:54.599677Z",
          "shell.execute_reply": "2021-12-13T11:16:54.598843Z",
          "shell.execute_reply.started": "2021-12-13T11:16:54.593129Z"
        },
        "id": "veuOn9YcrP4R",
        "outputId": "499e4660-bd05-46e3-ddb9-f3233927bc5a",
        "trusted": true
      },
      "outputs": [
        {
          "name": "stdout",
          "output_type": "stream",
          "text": [
            "0.09009009009009009\n"
          ]
        }
      ],
      "source": [
        "# division on x and z\n",
        "print(x/z)"
      ]
    },
    {
      "attachments": {},
      "cell_type": "markdown",
      "metadata": {
        "id": "lPSllBVYrP4R"
      },
      "source": [
        "`//` => divides and returns integer value of quotient\n",
        "* It will dump digits after decimal"
      ]
    },
    {
      "cell_type": "code",
      "execution_count": 63,
      "metadata": {
        "colab": {
          "base_uri": "https://localhost:8080/"
        },
        "execution": {
          "iopub.execute_input": "2021-12-13T11:17:43.712052Z",
          "iopub.status.busy": "2021-12-13T11:17:43.711764Z",
          "iopub.status.idle": "2021-12-13T11:17:43.717685Z",
          "shell.execute_reply": "2021-12-13T11:17:43.716923Z",
          "shell.execute_reply.started": "2021-12-13T11:17:43.712021Z"
        },
        "id": "LjvFNdDHrP4R",
        "outputId": "43d25376-c001-4904-93b9-7554b643e557",
        "trusted": true
      },
      "outputs": [
        {
          "name": "stdout",
          "output_type": "stream",
          "text": [
            "0.0\n"
          ]
        }
      ],
      "source": [
        "# floor division(ignores decimal) on x and z (gives quotient)\n",
        "print(x//z)"
      ]
    },
    {
      "cell_type": "code",
      "execution_count": 64,
      "metadata": {
        "colab": {
          "base_uri": "https://localhost:8080/"
        },
        "execution": {
          "iopub.execute_input": "2021-12-13T11:18:23.768814Z",
          "iopub.status.busy": "2021-12-13T11:18:23.768469Z",
          "iopub.status.idle": "2021-12-13T11:18:23.774541Z",
          "shell.execute_reply": "2021-12-13T11:18:23.773825Z",
          "shell.execute_reply.started": "2021-12-13T11:18:23.768775Z"
        },
        "id": "prGaXfI2rP4R",
        "outputId": "fc151c2c-9f10-4bbe-f151-a041772d0e3f",
        "trusted": true
      },
      "outputs": [
        {
          "name": "stdout",
          "output_type": "stream",
          "text": [
            "7.0\n"
          ]
        }
      ],
      "source": [
        "# Modulo(gives remainder) on x and z\n",
        "print(x%z)"
      ]
    },
    {
      "attachments": {},
      "cell_type": "markdown",
      "metadata": {
        "id": "BqiZFRnxrP4R"
      },
      "source": [
        "# **2. `Comparison Operators`**"
      ]
    },
    {
      "cell_type": "code",
      "execution_count": 65,
      "metadata": {
        "colab": {
          "base_uri": "https://localhost:8080/"
        },
        "execution": {
          "iopub.execute_input": "2021-12-13T11:18:53.671899Z",
          "iopub.status.busy": "2021-12-13T11:18:53.671588Z",
          "iopub.status.idle": "2021-12-13T11:18:53.677758Z",
          "shell.execute_reply": "2021-12-13T11:18:53.676944Z",
          "shell.execute_reply.started": "2021-12-13T11:18:53.671852Z"
        },
        "id": "cZTjTlksrP4S",
        "outputId": "35ee2d4e-c9a0-408a-d36c-97dcabbce57e",
        "trusted": true
      },
      "outputs": [
        {
          "name": "stdout",
          "output_type": "stream",
          "text": [
            "True\n"
          ]
        }
      ],
      "source": [
        "# comapre and see if x is less then z \n",
        "# can use '<' symbol\n",
        "print(x<z)\n"
      ]
    },
    {
      "cell_type": "code",
      "execution_count": 66,
      "metadata": {
        "colab": {
          "base_uri": "https://localhost:8080/"
        },
        "execution": {
          "iopub.execute_input": "2021-12-13T11:18:56.585807Z",
          "iopub.status.busy": "2021-12-13T11:18:56.585406Z",
          "iopub.status.idle": "2021-12-13T11:18:56.591392Z",
          "shell.execute_reply": "2021-12-13T11:18:56.590675Z",
          "shell.execute_reply.started": "2021-12-13T11:18:56.585775Z"
        },
        "id": "ugLB8T4zrP4S",
        "outputId": "6388c075-3cb3-49d6-ef43-5a9c0ca0f16f",
        "trusted": true
      },
      "outputs": [
        {
          "name": "stdout",
          "output_type": "stream",
          "text": [
            "<class 'bool'>\n"
          ]
        }
      ],
      "source": [
        "# check the type of above comaprison where it says comapre and see if x is less then z \n",
        "print(type(x<z))"
      ]
    },
    {
      "attachments": {},
      "cell_type": "markdown",
      "metadata": {
        "id": "JvyfWt8NrP4S"
      },
      "source": [
        "* `Bool` => takes two values, either `True` or `False`"
      ]
    },
    {
      "cell_type": "code",
      "execution_count": 67,
      "metadata": {
        "colab": {
          "base_uri": "https://localhost:8080/"
        },
        "execution": {
          "iopub.execute_input": "2021-12-13T11:20:21.121906Z",
          "iopub.status.busy": "2021-12-13T11:20:21.121593Z",
          "iopub.status.idle": "2021-12-13T11:20:21.128235Z",
          "shell.execute_reply": "2021-12-13T11:20:21.127415Z",
          "shell.execute_reply.started": "2021-12-13T11:20:21.121858Z"
        },
        "id": "qrLXc7h8rP4S",
        "outputId": "45709b0f-3f8f-4fc3-fac1-f2725df23b0e",
        "trusted": true
      },
      "outputs": [
        {
          "name": "stdout",
          "output_type": "stream",
          "text": [
            "True\n"
          ]
        }
      ],
      "source": [
        "# compare and see if x is less then or equall to z\n",
        "# can use '<=' symbol\n",
        "print(x<=z)"
      ]
    },
    {
      "cell_type": "code",
      "execution_count": 68,
      "metadata": {
        "colab": {
          "base_uri": "https://localhost:8080/"
        },
        "execution": {
          "iopub.execute_input": "2021-12-13T11:21:03.964669Z",
          "iopub.status.busy": "2021-12-13T11:21:03.964122Z",
          "iopub.status.idle": "2021-12-13T11:21:03.970529Z",
          "shell.execute_reply": "2021-12-13T11:21:03.969911Z",
          "shell.execute_reply.started": "2021-12-13T11:21:03.964617Z"
        },
        "id": "QITa8mAorP4S",
        "outputId": "6edad76d-b1ad-44f4-b3da-2c9d45ece51a",
        "trusted": true
      },
      "outputs": [
        {
          "name": "stdout",
          "output_type": "stream",
          "text": [
            "False\n"
          ]
        }
      ],
      "source": [
        "# comapre and see if x equall to z\n",
        "# can use '==' symbol\n",
        "print(x==z)"
      ]
    },
    {
      "cell_type": "code",
      "execution_count": 69,
      "metadata": {
        "colab": {
          "base_uri": "https://localhost:8080/"
        },
        "execution": {
          "iopub.execute_input": "2021-12-13T11:21:17.56085Z",
          "iopub.status.busy": "2021-12-13T11:21:17.560326Z",
          "iopub.status.idle": "2021-12-13T11:21:17.566991Z",
          "shell.execute_reply": "2021-12-13T11:21:17.566308Z",
          "shell.execute_reply.started": "2021-12-13T11:21:17.560801Z"
        },
        "id": "to09wf4lrP4S",
        "outputId": "44696eb8-25e1-4610-fc46-c7e8c9d47134",
        "trusted": true
      },
      "outputs": [
        {
          "name": "stdout",
          "output_type": "stream",
          "text": [
            "False\n"
          ]
        }
      ],
      "source": [
        "# comapre and see if x is greater than z\n",
        "# can use '>' symbol\n",
        "print(x>z)"
      ]
    },
    {
      "cell_type": "code",
      "execution_count": 70,
      "metadata": {
        "colab": {
          "base_uri": "https://localhost:8080/"
        },
        "execution": {
          "iopub.status.busy": "2021-12-11T05:18:03.366407Z",
          "iopub.status.idle": "2021-12-11T05:18:03.366829Z",
          "shell.execute_reply": "2021-12-11T05:18:03.366687Z",
          "shell.execute_reply.started": "2021-12-11T05:18:03.36667Z"
        },
        "id": "3XjJEvQmrP4S",
        "outputId": "3467d96b-da61-4e2c-a87b-3ac23f5610a1",
        "trusted": true
      },
      "outputs": [
        {
          "name": "stdout",
          "output_type": "stream",
          "text": [
            "False\n"
          ]
        }
      ],
      "source": [
        "# comapre and see if x is greater than or equall to z\n",
        "# can use '>=' symbol\n",
        "print(x>=z)"
      ]
    },
    {
      "cell_type": "code",
      "execution_count": 71,
      "metadata": {
        "colab": {
          "base_uri": "https://localhost:8080/"
        },
        "execution": {
          "iopub.execute_input": "2021-12-13T11:21:27.087849Z",
          "iopub.status.busy": "2021-12-13T11:21:27.087572Z",
          "iopub.status.idle": "2021-12-13T11:21:27.094348Z",
          "shell.execute_reply": "2021-12-13T11:21:27.093707Z",
          "shell.execute_reply.started": "2021-12-13T11:21:27.087821Z"
        },
        "id": "U3R4NtLUrP4S",
        "outputId": "cb696101-b1ea-4121-ee08-6b4c7ef2bae2",
        "trusted": true
      },
      "outputs": [
        {
          "name": "stdout",
          "output_type": "stream",
          "text": [
            "True\n"
          ]
        }
      ],
      "source": [
        "# comapre and see if x is Not equall to z\n",
        "# can use '!=' symbol\n",
        "\n",
        "print(x!=z)"
      ]
    },
    {
      "attachments": {},
      "cell_type": "markdown",
      "metadata": {
        "id": "i1cSXmgbrP4T"
      },
      "source": [
        "# **3. `Logical Operators`**"
      ]
    },
    {
      "cell_type": "code",
      "execution_count": 72,
      "metadata": {
        "colab": {
          "base_uri": "https://localhost:8080/"
        },
        "execution": {
          "iopub.execute_input": "2021-12-13T11:22:13.637837Z",
          "iopub.status.busy": "2021-12-13T11:22:13.637267Z",
          "iopub.status.idle": "2021-12-13T11:22:13.644724Z",
          "shell.execute_reply": "2021-12-13T11:22:13.643893Z",
          "shell.execute_reply.started": "2021-12-13T11:22:13.637786Z"
        },
        "id": "qrf5nOLerP4T",
        "outputId": "474058dc-1fd5-422a-901e-a925cf4e62ee",
        "trusted": true
      },
      "outputs": [
        {
          "name": "stdout",
          "output_type": "stream",
          "text": [
            "True\n"
          ]
        }
      ],
      "source": [
        "# compare if 108 is equall to 108, 21 is equall to 21 using logical and \n",
        "\n",
        "# equall to => '=='\n",
        "# logical and => and\n",
        "print(108 == 108 and 21 == 21)\n",
        "  # in and both condition must be True to get a True"
      ]
    },
    {
      "cell_type": "code",
      "execution_count": 73,
      "metadata": {
        "colab": {
          "base_uri": "https://localhost:8080/"
        },
        "execution": {
          "iopub.execute_input": "2021-12-13T11:22:24.56808Z",
          "iopub.status.busy": "2021-12-13T11:22:24.567356Z",
          "iopub.status.idle": "2021-12-13T11:22:24.576075Z",
          "shell.execute_reply": "2021-12-13T11:22:24.574969Z",
          "shell.execute_reply.started": "2021-12-13T11:22:24.56804Z"
        },
        "id": "Zp51tX7NrP4T",
        "outputId": "c284136f-5831-4890-ae7f-e2d8b5eb3779",
        "trusted": true
      },
      "outputs": [
        {
          "name": "stdout",
          "output_type": "stream",
          "text": [
            "False\n"
          ]
        }
      ],
      "source": [
        "# how above condition can give False as output show all thouse conditions\n",
        " # in and both condition must be True to get a True\n",
        "print(108 == 108 and 21 == 1)"
      ]
    },
    {
      "cell_type": "code",
      "execution_count": 74,
      "metadata": {
        "colab": {
          "base_uri": "https://localhost:8080/"
        },
        "execution": {
          "iopub.execute_input": "2021-12-13T11:22:39.576213Z",
          "iopub.status.busy": "2021-12-13T11:22:39.575636Z",
          "iopub.status.idle": "2021-12-13T11:22:39.58328Z",
          "shell.execute_reply": "2021-12-13T11:22:39.582673Z",
          "shell.execute_reply.started": "2021-12-13T11:22:39.576179Z"
        },
        "id": "TRMHLAHkrP4T",
        "outputId": "22a1f04d-70b3-405d-86c6-9b8d516c631c",
        "trusted": true
      },
      "outputs": [
        {
          "name": "stdout",
          "output_type": "stream",
          "text": [
            "True\n"
          ]
        }
      ],
      "source": [
        "# compare if 108 is equall to 108, 21 is equall to 11 using logical or\n",
        "# equall to => '=='\n",
        "# logical or => or\n",
        "print(108 == 108 or 21 == 11)\n",
        " # in or Only one condition need to be True to get a True"
      ]
    },
    {
      "cell_type": "code",
      "execution_count": 75,
      "metadata": {
        "colab": {
          "base_uri": "https://localhost:8080/"
        },
        "execution": {
          "iopub.execute_input": "2021-12-13T11:22:58.998022Z",
          "iopub.status.busy": "2021-12-13T11:22:58.997422Z",
          "iopub.status.idle": "2021-12-13T11:22:59.004662Z",
          "shell.execute_reply": "2021-12-13T11:22:59.003884Z",
          "shell.execute_reply.started": "2021-12-13T11:22:58.997978Z"
        },
        "id": "QQRfWOkzrP4T",
        "outputId": "c7194aba-e1ba-404d-d829-fe2afe2b3438",
        "trusted": true
      },
      "outputs": [
        {
          "data": {
            "text/plain": [
              "True"
            ]
          },
          "execution_count": 75,
          "metadata": {},
          "output_type": "execute_result"
        }
      ],
      "source": [
        "# this is for you understand it\n",
        "(108 == 108) or (21 == 11) or (108 <= 11)"
      ]
    },
    {
      "attachments": {},
      "cell_type": "markdown",
      "metadata": {
        "id": "FYchA77BrP4T"
      },
      "source": [
        "\n",
        "<a id='6'></a><center> <h3 style=\"background-color:orange; color:white\" ><br>Conditional Statements<br></h3>"
      ]
    },
    {
      "attachments": {},
      "cell_type": "markdown",
      "metadata": {
        "id": "r5LWKR-irP4T"
      },
      "source": [
        "# 1. **`if`--- `else`** => to handle single condition <br>\n",
        "# 2. **`if`--- `elif`--- `else`** => to handle Multiple condition"
      ]
    },
    {
      "attachments": {},
      "cell_type": "markdown",
      "metadata": {
        "id": "4l8YdB1orP4T"
      },
      "source": [
        "`Why do we need conditional Statements?` <br>\n",
        "Say you want to buy a ML course and to decided you buy it or not to by it based on some condition,=> if you have more then 2k buy, if you dont have more then 2k dont buy!! \n",
        "\n",
        "* Two Variable you will use `ML course` and `money` \n",
        "* One comparison `money > 2k`\n",
        "For ML course if `money > 2k` => you have more money then 2k => condition is True => buy course => if condition is False i.e. you have less money then 2k then dont buy the course\n"
      ]
    },
    {
      "attachments": {},
      "cell_type": "markdown",
      "metadata": {
        "id": "FWFgSro3rP4U"
      },
      "source": [
        "|Pseudo Code for above will be| Python Code for Pseudo code|\n",
        "|----|----|\n",
        "Check if money > 2k | if money > 2000:\n",
        "then ML course = 'buy' |....  ML course = 'buy'\n",
        "else Ml course = 'dont buy'| else:\n",
        " --  | ....ML course = 'dont buy'"
      ]
    },
    {
      "cell_type": "code",
      "execution_count": 76,
      "metadata": {
        "colab": {
          "base_uri": "https://localhost:8080/",
          "height": 38
        },
        "id": "eD6N8d4JrP4U",
        "outputId": "df998f96-081a-41e8-a7ba-eb5bb24b96cc"
      },
      "outputs": [
        {
          "data": {
            "text/plain": [
              "'\\nif condition:\\n    statement\\nelse:\\n    statement'"
            ]
          },
          "execution_count": 76,
          "metadata": {},
          "output_type": "execute_result"
        }
      ],
      "source": [
        "\"\"\"\n",
        "if condition:\n",
        "    statement\n",
        "else:\n",
        "    statement\"\"\""
      ]
    },
    {
      "attachments": {},
      "cell_type": "markdown",
      "metadata": {
        "id": "_7lo_XpYrP4U"
      },
      "source": [
        "`Observe in Python code:` \n",
        "* `if` => statement in python\n",
        "* `else` => statement in python\n",
        "* `:` => colon => denotes start of if block i.e. any line written after colon belong to if condition\n",
        "* `....` => see then as indentation i.e. 4 spaces => indentation indicates all code belong to only if and then another indentation indicates code for only else block "
      ]
    },
    {
      "cell_type": "code",
      "execution_count": 77,
      "metadata": {
        "colab": {
          "base_uri": "https://localhost:8080/"
        },
        "execution": {
          "iopub.execute_input": "2021-12-13T12:04:09.255152Z",
          "iopub.status.busy": "2021-12-13T12:04:09.254359Z",
          "iopub.status.idle": "2021-12-13T12:04:09.301228Z",
          "shell.execute_reply": "2021-12-13T12:04:09.300137Z",
          "shell.execute_reply.started": "2021-12-13T12:04:09.254985Z"
        },
        "id": "e2SpODuorP4U",
        "outputId": "61801409-9c39-4602-c65f-35b7676a9b3b",
        "trusted": true
      },
      "outputs": [
        {
          "name": "stdout",
          "output_type": "stream",
          "text": [
            "True\n"
          ]
        }
      ],
      "source": [
        "# make variable with value as : money 100000\n",
        "money = 100000\n",
        "# see output of money > 2000 \n",
        "print(money>2000)"
      ]
    },
    {
      "cell_type": "code",
      "execution_count": 78,
      "metadata": {
        "colab": {
          "base_uri": "https://localhost:8080/"
        },
        "execution": {
          "iopub.execute_input": "2021-12-13T12:04:41.020917Z",
          "iopub.status.busy": "2021-12-13T12:04:41.020562Z",
          "iopub.status.idle": "2021-12-13T12:04:41.027788Z",
          "shell.execute_reply": "2021-12-13T12:04:41.026428Z",
          "shell.execute_reply.started": "2021-12-13T12:04:41.020881Z"
        },
        "id": "8rLKbxCqrP4U",
        "outputId": "19100c8f-6ab1-42dc-f545-38bffe7b6398",
        "trusted": true
      },
      "outputs": [
        {
          "name": "stdout",
          "output_type": "stream",
          "text": [
            "buy ML course\n"
          ]
        }
      ],
      "source": [
        "# see above Python code for Pseudo code and write that into python code\n",
        "\n",
        "# assign money variable value of 100000 \n",
        "##### say you have this much ammount in your account\n",
        "money = 100000\n",
        "# start of if condition\n",
        "if money>2000:# if money is greater then 2000 which is ML course free \n",
        "    print('buy ML course')\n",
        "else: # if money > 2000 is false i.e. you have less money then 2000 in your account then else will work for now only if is working\n",
        "  pass"
      ]
    },
    {
      "cell_type": "code",
      "execution_count": 79,
      "metadata": {
        "colab": {
          "base_uri": "https://localhost:8080/"
        },
        "execution": {
          "iopub.execute_input": "2021-12-13T12:05:41.659409Z",
          "iopub.status.busy": "2021-12-13T12:05:41.659081Z",
          "iopub.status.idle": "2021-12-13T12:05:41.667758Z",
          "shell.execute_reply": "2021-12-13T12:05:41.66659Z",
          "shell.execute_reply.started": "2021-12-13T12:05:41.659376Z"
        },
        "id": "-J44V8LNrP4U",
        "outputId": "d7c00ccf-54cb-4769-b93e-dd40c7372130",
        "trusted": true
      },
      "outputs": [
        {
          "name": "stdout",
          "output_type": "stream",
          "text": [
            "False\n"
          ]
        }
      ],
      "source": [
        "# make variable with value as : money 100\n",
        "money = 100\n",
        "# see output of money > 2000\n",
        "print(money > 2000)"
      ]
    },
    {
      "cell_type": "code",
      "execution_count": 80,
      "metadata": {
        "colab": {
          "base_uri": "https://localhost:8080/"
        },
        "execution": {
          "iopub.execute_input": "2021-12-13T12:05:59.423116Z",
          "iopub.status.busy": "2021-12-13T12:05:59.422112Z",
          "iopub.status.idle": "2021-12-13T12:05:59.42974Z",
          "shell.execute_reply": "2021-12-13T12:05:59.428841Z",
          "shell.execute_reply.started": "2021-12-13T12:05:59.423062Z"
        },
        "id": "eQGaPvuRrP4U",
        "outputId": "8ef7111f-790b-49a0-dc8d-5a68911d32bd",
        "trusted": true
      },
      "outputs": [
        {
          "name": "stdout",
          "output_type": "stream",
          "text": [
            "dont buy ML course\n"
          ]
        }
      ],
      "source": [
        "# assign money variable value of 100\n",
        "#### say you have this much ammount in your account\n",
        "money = 100\n",
        "# start of if condition\n",
        "if money>2000:# if money is greater then 2000 which is ML course free \n",
        "    print('buy ML course')\n",
        "else: # if money > 2000 is false i.e. you have less money then 2000 in your account then else will work for now only if is working\n",
        "    print('dont buy ML course')"
      ]
    },
    {
      "attachments": {},
      "cell_type": "markdown",
      "metadata": {
        "id": "nVugaqcErP4U"
      },
      "source": [
        "# 2. `Multiple Condition` i.e. use of **`if`--- `elif`--- `else`**\n",
        "Say you have bought ML course, but now you want certification and internship here includes more then 1 condition maybe 2 or 3, lets see for conditions:\n",
        "* if your test score more then 80 then you will get certification of A grade\n",
        "* if your test score more then 60 then you will get certification of B grade\n",
        "* for rest not get anything"
      ]
    },
    {
      "attachments": {},
      "cell_type": "markdown",
      "metadata": {
        "id": "KLJjdItrrP4U"
      },
      "source": [
        "|Pseudo Code for above will be\n",
        "|----|\n",
        "Check if score > 80\n",
        "if yes print('A grade')\n",
        "Otherwise check if score > 60\n",
        "if yes print('B grade')\n",
        "For every other situation print('not getting anything')"
      ]
    },
    {
      "cell_type": "code",
      "execution_count": 84,
      "metadata": {
        "colab": {
          "base_uri": "https://localhost:8080/"
        },
        "execution": {
          "iopub.execute_input": "2021-12-13T12:12:40.145964Z",
          "iopub.status.busy": "2021-12-13T12:12:40.145355Z",
          "iopub.status.idle": "2021-12-13T12:12:45.469908Z",
          "shell.execute_reply": "2021-12-13T12:12:45.469259Z",
          "shell.execute_reply.started": "2021-12-13T12:12:40.145915Z"
        },
        "id": "UkSB0BDKrP4V",
        "outputId": "ea193e09-a807-4603-9b0f-9e6d040f8dc1",
        "trusted": true
      },
      "outputs": [
        {
          "name": "stdout",
          "output_type": "stream",
          "text": [
            "B grade\n"
          ]
        }
      ],
      "source": [
        "# python code for above Pseudo Code will be\n",
        "your_test_score = input('What is your test score(check for 10, 70, 90):') #taking input from you use of input()\n",
        "your_test_score =  int(your_test_score)#as input is in string changing it to int as to make comparison possible\n",
        "\n",
        "if your_test_score > 80: # if your_test_score greater then 80\n",
        "    print('A grade')\n",
        "elif your_test_score > 60: # elif your_test_score greater then 60 and your_test_score leass then 80\n",
        "    print('B grade')\n",
        "else:\n",
        "    print('Nothing for you')"
      ]
    },
    {
      "attachments": {},
      "cell_type": "markdown",
      "metadata": {
        "id": "5fSzijCErP4V"
      },
      "source": [
        "`Understand above Flow`:\n",
        "* check for if statement if true close, if not true\n",
        "* check for elif, if elif condition is true go close, if not true\n",
        "* go ot else any way\n",
        "* [See how this code is being executed internally](https://pythontutor.com/visualize.html#mode=display)\n",
        "* copy above code there "
      ]
    },
    {
      "attachments": {},
      "cell_type": "markdown",
      "metadata": {
        "id": "f-c4s81KrP4V"
      },
      "source": [
        "\n",
        "<a id='7'></a><center> <h3 style=\"background-color:orange; color:white\" ><br>Assignment Conditional Statements<br></h3>"
      ]
    },
    {
      "attachments": {},
      "cell_type": "markdown",
      "metadata": {
        "id": "qutzAWNFrP4V"
      },
      "source": [
        "# 📌📌 Indentation in Python\n",
        "\n",
        "***Before we start Conditional Statements, let's have a look at `indentation` in Python.***\n",
        "\n",
        "## `INDENTATION`\n",
        "* Indentation means `(spaces and tabs)` that are used at beginning of any statement\n",
        "* Statements with same indentation belong to same group also called as `suite`. \n"
      ]
    },
    {
      "cell_type": "code",
      "execution_count": 85,
      "metadata": {
        "colab": {
          "base_uri": "https://localhost:8080/",
          "height": 131
        },
        "execution": {
          "iopub.status.busy": "2021-12-11T05:18:03.376487Z",
          "iopub.status.idle": "2021-12-11T05:18:03.376791Z",
          "shell.execute_reply": "2021-12-11T05:18:03.376652Z",
          "shell.execute_reply.started": "2021-12-11T05:18:03.376636Z"
        },
        "id": "CK1s7-BxrP4V",
        "outputId": "2e66c05d-0cd9-4808-bfce-eb7af3cc433d",
        "trusted": true
      },
      "outputs": [
        {
          "ename": "IndentationError",
          "evalue": "expected an indented block (3076168729.py, line 3)",
          "output_type": "error",
          "traceback": [
            "\u001b[1;36m  File \u001b[1;32m\"C:\\Users\\My Computer\\AppData\\Local\\Temp\\ipykernel_10800\\3076168729.py\"\u001b[1;36m, line \u001b[1;32m3\u001b[0m\n\u001b[1;33m    print('True Statement') # IndentationError\u001b[0m\n\u001b[1;37m        ^\u001b[0m\n\u001b[1;31mIndentationError\u001b[0m\u001b[1;31m:\u001b[0m expected an indented block\n"
          ]
        }
      ],
      "source": [
        "# this is how wrong indentation gives you error  (commet can be written by using => #)\n",
        "if (2 == 2):\n",
        "print('True Statement') # IndentationError"
      ]
    },
    {
      "attachments": {},
      "cell_type": "markdown",
      "metadata": {
        "id": "pT2IKbixrP4V"
      },
      "source": [
        "**`Take an input from a user in variable input_ and print \"Even\" if number is divisible by 2, otherwise print \"Odd\"`**"
      ]
    },
    {
      "cell_type": "code",
      "execution_count": 86,
      "metadata": {
        "colab": {
          "base_uri": "https://localhost:8080/"
        },
        "execution": {
          "iopub.status.busy": "2021-12-11T05:18:03.377643Z",
          "iopub.status.idle": "2021-12-11T05:18:03.377926Z",
          "shell.execute_reply": "2021-12-11T05:18:03.377792Z",
          "shell.execute_reply.started": "2021-12-11T05:18:03.377777Z"
        },
        "id": "zF-6vc9HrP4V",
        "outputId": "2711f2ab-2e2a-4021-82da-2d479732982f",
        "trusted": true
      },
      "outputs": [
        {
          "name": "stdout",
          "output_type": "stream",
          "text": [
            "Even\n"
          ]
        }
      ],
      "source": [
        "# take input from user by using input function in variable named as input_\n",
        " \n",
        "\n",
        "# by default type is string, so we need to convert type first into int\n",
        "input_ = int(input(\"Enter a number = \"))\n",
        "\n",
        "if input_ % 2 == 0: # if input_ modulo 2 compared to 0 id true \n",
        "    print(\"Even\")\n",
        "else:\n",
        "    print(\"Odd\")"
      ]
    },
    {
      "attachments": {},
      "cell_type": "markdown",
      "metadata": {
        "id": "Wm_-Ao43rP4W"
      },
      "source": [
        "**`Take input from user in variable x and print \"`Grade A`\" if y is greater than 90, \"`Grade B`\" if y is greater than 60 but less than or equal to 90 and \"`Grade F`\" Otherwise`**"
      ]
    },
    {
      "cell_type": "code",
      "execution_count": 87,
      "metadata": {
        "colab": {
          "base_uri": "https://localhost:8080/"
        },
        "execution": {
          "iopub.execute_input": "2021-12-11T05:18:03.382211Z",
          "iopub.status.busy": "2021-12-11T05:18:03.381965Z",
          "iopub.status.idle": "2021-12-11T05:18:11.226671Z",
          "shell.execute_reply": "2021-12-11T05:18:11.224518Z",
          "shell.execute_reply.started": "2021-12-11T05:18:03.382183Z"
        },
        "id": "iY9UVHpOrP4W",
        "outputId": "6608c614-1f77-4e07-e763-4ee3f908a0ee",
        "trusted": true
      },
      "outputs": [
        {
          "name": "stdout",
          "output_type": "stream",
          "text": [
            "Grade B\n"
          ]
        }
      ],
      "source": [
        "# take input from user by using input function\n",
        "x = input(\"Enter the score = \")\n",
        "\n",
        "# by default type is string, so we need to convert type first\n",
        "x = int(x)\n",
        "\n",
        "if x > 90: # if x is greater then 90\n",
        "    print(\"Grade A\")\n",
        "\n",
        "elif x > 60:# elif x is greater then 60\n",
        "    print(\"Grade B\")\n",
        "\n",
        "else:\n",
        "    print(\"Grade F\")"
      ]
    },
    {
      "attachments": {},
      "cell_type": "markdown",
      "metadata": {
        "id": "Ifzx69_srP4W"
      },
      "source": [
        "\n",
        "<a id='8'></a><center> <h3 style=\"background-color:orange; color:white\" ><br>Loops<br></h3>"
      ]
    },
    {
      "cell_type": "code",
      "execution_count": 88,
      "metadata": {
        "colab": {
          "base_uri": "https://localhost:8080/",
          "height": 38
        },
        "id": "Jeln_5cCrP4W",
        "outputId": "b7686a87-77ac-4fc8-91f2-62f80c89b098"
      },
      "outputs": [
        {
          "data": {
            "text/plain": [
              "'\\nfor iterating_variable in sequence:\\n    statement(s)\\n'"
            ]
          },
          "execution_count": 88,
          "metadata": {},
          "output_type": "execute_result"
        }
      ],
      "source": [
        "\"\"\"\n",
        "for iterating_variable in sequence:\n",
        "    statement(s)\n",
        "\"\"\""
      ]
    },
    {
      "attachments": {},
      "cell_type": "markdown",
      "metadata": {
        "id": "zKF8RVOJrP4W"
      },
      "source": [
        "|Loop Type|Description|\n",
        "|----|-----|\n",
        "|`for in` loop | repeats a statement or group of statements finite number of time |\n",
        "|`while` loop | tests condition before executing loop body, repeats a statement or group of statements while a given condition is true |\n",
        "|`nested` loop  | loop inside a loop |"
      ]
    },
    {
      "attachments": {},
      "cell_type": "markdown",
      "metadata": {
        "id": "7Mo7XNVNrP4W"
      },
      "source": [
        "# **When to use `while` or `for` loops??** <br>\n",
        "Say your Girlfriend or Boyfriend is mad at you and they asked you to say sorry, but there are two more condition here given by them:\n",
        "* say sorry 1000 times, now you know end point i.e. 1000 => `use for loop`\n",
        "* say sorry untill I say I love you, now you dont know end point, maybe she/he will never say I love you. => `use while loop` it will stop saying sorry untill condition is not met\n",
        "\n",
        "1. `We use for loop when we want to run a block of code certain number of times`\n",
        "2. `Code in while clause will be executed as long as while statement’s condition is True`"
      ]
    },
    {
      "attachments": {},
      "cell_type": "markdown",
      "metadata": {
        "id": "LQwybYuNrP4X"
      },
      "source": [
        "# `Why we need Loops?` <br>\n",
        "Say your Girfriend/Boyfriend is Mad at you and she want you to write sorry 1000 times. What to do now????? Write a `for loop`"
      ]
    },
    {
      "attachments": {},
      "cell_type": "markdown",
      "metadata": {
        "id": "yGTJuxZarP4X"
      },
      "source": [
        "|Pseudo Code for above will be\n",
        "|----|\n",
        "print 'Sorry My love' (repeat 1000 times)"
      ]
    },
    {
      "cell_type": "code",
      "execution_count": 89,
      "metadata": {
        "colab": {
          "base_uri": "https://localhost:8080/",
          "height": 35
        },
        "id": "UsOavUkNrP4X",
        "outputId": "5efcc820-75c5-411b-fe13-4ca2531f1f7c"
      },
      "outputs": [
        {
          "data": {
            "text/plain": [
              "'\\nfor iterating_variable in sequence:\\n    statement(s)\\n'"
            ]
          },
          "execution_count": 89,
          "metadata": {},
          "output_type": "execute_result"
        }
      ],
      "source": [
        "\"\"\"\n",
        "for iterating_variable in sequence:\n",
        "    statement(s)\n",
        "\"\"\""
      ]
    },
    {
      "cell_type": "code",
      "execution_count": 90,
      "metadata": {
        "colab": {
          "base_uri": "https://localhost:8080/"
        },
        "execution": {
          "iopub.execute_input": "2021-12-14T05:27:42.974824Z",
          "iopub.status.busy": "2021-12-14T05:27:42.973933Z",
          "iopub.status.idle": "2021-12-14T05:27:42.981157Z",
          "shell.execute_reply": "2021-12-14T05:27:42.980185Z",
          "shell.execute_reply.started": "2021-12-14T05:27:42.97478Z"
        },
        "id": "v3DtstO3rP4X",
        "outputId": "160bc6ca-48b2-4d3e-da15-dca7b6ab21eb",
        "trusted": true
      },
      "outputs": [
        {
          "name": "stdout",
          "output_type": "stream",
          "text": [
            "0\n",
            "1\n",
            "2\n",
            "3\n",
            "4\n",
            "5\n",
            "6\n",
            "7\n",
            "8\n",
            "9\n"
          ]
        }
      ],
      "source": [
        "for iterating_variable in range(10):\n",
        "    print(iterating_variable)"
      ]
    },
    {
      "cell_type": "code",
      "execution_count": 91,
      "metadata": {
        "colab": {
          "base_uri": "https://localhost:8080/"
        },
        "execution": {
          "iopub.execute_input": "2021-12-14T05:29:31.818786Z",
          "iopub.status.busy": "2021-12-14T05:29:31.818325Z",
          "iopub.status.idle": "2021-12-14T05:29:31.825965Z",
          "shell.execute_reply": "2021-12-14T05:29:31.82532Z",
          "shell.execute_reply.started": "2021-12-14T05:29:31.818752Z"
        },
        "id": "nD9f1mMwrP4X",
        "outputId": "755816b8-bce3-4e2c-97ba-21dc96d06cf1",
        "trusted": true
      },
      "outputs": [
        {
          "name": "stdout",
          "output_type": "stream",
          "text": [
            "🔥 Sorry My Love🔥\n",
            "🔥 Sorry My Love🔥\n",
            "🔥 Sorry My Love🔥\n",
            "🔥 Sorry My Love🔥\n",
            "🔥 Sorry My Love🔥\n",
            "🔥 Sorry My Love🔥\n",
            "🔥 Sorry My Love🔥\n",
            "🔥 Sorry My Love🔥\n",
            "🔥 Sorry My Love🔥\n",
            "🔥 Sorry My Love🔥\n"
          ]
        }
      ],
      "source": [
        "# print '🔥 Sorry My Love🔥' 10 times using for loop\n",
        "\n",
        "# for now i am giving range of 10 you can give any number you want\n",
        "for i in range(10):\n",
        "   print(\"🔥 Sorry My Love🔥\")\n",
        "    "
      ]
    },
    {
      "attachments": {},
      "cell_type": "markdown",
      "metadata": {
        "id": "F10cQq2RrP4X"
      },
      "source": [
        "`10` => `stoping criteria` of, for loop"
      ]
    },
    {
      "cell_type": "code",
      "execution_count": 92,
      "metadata": {
        "colab": {
          "base_uri": "https://localhost:8080/",
          "height": 38
        },
        "execution": {
          "iopub.status.busy": "2021-12-11T05:18:11.228902Z",
          "iopub.status.idle": "2021-12-11T05:18:11.229189Z",
          "shell.execute_reply": "2021-12-11T05:18:11.229034Z",
          "shell.execute_reply.started": "2021-12-11T05:18:11.229019Z"
        },
        "id": "uCzvC6tnrP4X",
        "outputId": "b5be09b0-02ef-4dbb-e886-590c7cf1a265",
        "trusted": true
      },
      "outputs": [
        {
          "data": {
            "text/plain": [
              "'\\nfor iterating_variable in sequence:\\n    statements(s)\\n'"
            ]
          },
          "execution_count": 92,
          "metadata": {},
          "output_type": "execute_result"
        }
      ],
      "source": [
        "# Syntax of for loop\n",
        "\"\"\"\n",
        "for iterating_variable in sequence:\n",
        "    statements(s)\n",
        "\"\"\""
      ]
    },
    {
      "attachments": {},
      "cell_type": "markdown",
      "metadata": {
        "id": "sYmBZqXkrP4X"
      },
      "source": [
        "* `in` => keyword\n",
        "* `sequence` => on which to itterate\n",
        "* `:` => colon , start of for loop"
      ]
    },
    {
      "attachments": {},
      "cell_type": "markdown",
      "metadata": {
        "id": "kKybOmM2rP4X"
      },
      "source": [
        "|Pseudo Code `while` loop|\n",
        "|---|\n",
        "while reply != 'I love you':\n",
        "....keep repeating until\n",
        "....caparison gives False "
      ]
    },
    {
      "attachments": {},
      "cell_type": "markdown",
      "metadata": {
        "id": "nR0WJpXwrP4X"
      },
      "source": [
        "`!=` = not equall to => `behaves as a stoping criteria`"
      ]
    },
    {
      "cell_type": "code",
      "execution_count": 93,
      "metadata": {
        "colab": {
          "base_uri": "https://localhost:8080/",
          "height": 38
        },
        "execution": {
          "iopub.status.busy": "2021-12-11T05:18:11.230229Z",
          "iopub.status.idle": "2021-12-11T05:18:11.230505Z",
          "shell.execute_reply": "2021-12-11T05:18:11.230373Z",
          "shell.execute_reply.started": "2021-12-11T05:18:11.230358Z"
        },
        "id": "vYJsdLnerP4Y",
        "outputId": "44686682-2f3a-4522-bdf4-84215e4a8f17",
        "trusted": true
      },
      "outputs": [
        {
          "data": {
            "text/plain": [
              "'\\nwhile comparison:\\n    statements(s)\\n'"
            ]
          },
          "execution_count": 93,
          "metadata": {},
          "output_type": "execute_result"
        }
      ],
      "source": [
        "# Syntax of while loop\n",
        "\"\"\"\n",
        "while comparison:\n",
        "    statements(s)\n",
        "\"\"\""
      ]
    },
    {
      "cell_type": "code",
      "execution_count": 94,
      "metadata": {
        "colab": {
          "base_uri": "https://localhost:8080/"
        },
        "execution": {
          "iopub.execute_input": "2021-12-14T05:32:44.799916Z",
          "iopub.status.busy": "2021-12-14T05:32:44.799592Z",
          "iopub.status.idle": "2021-12-14T05:32:44.807523Z",
          "shell.execute_reply": "2021-12-14T05:32:44.806458Z",
          "shell.execute_reply.started": "2021-12-14T05:32:44.799882Z"
        },
        "id": "No1lV66XrP4Y",
        "outputId": "5a27356b-bcfe-4e6d-bffa-48e3d5a1b87a",
        "trusted": true
      },
      "outputs": [
        {
          "name": "stdout",
          "output_type": "stream",
          "text": [
            "0\n",
            "1\n",
            "2\n",
            "3\n",
            "4\n",
            "5\n",
            "6\n"
          ]
        }
      ],
      "source": [
        "# while loop\n",
        "\n",
        "# save 0 in variable number\n",
        "number = 0\n",
        "\n",
        "# print bellow result using while loop\n",
        "while number != 7:\n",
        "  print(number)\n",
        "  number+=1"
      ]
    },
    {
      "attachments": {},
      "cell_type": "markdown",
      "metadata": {
        "id": "9oFT7qEjrP4Y"
      },
      "source": [
        "* Initialized variable `number = 0` and then increment it's value in each iteration\n",
        "* Loop will only continue to run only if value is less than 7"
      ]
    },
    {
      "attachments": {},
      "cell_type": "markdown",
      "metadata": {
        "execution": {
          "iopub.execute_input": "2021-12-10T09:38:54.720729Z",
          "iopub.status.busy": "2021-12-10T09:38:54.720379Z",
          "iopub.status.idle": "2021-12-10T09:38:54.729647Z",
          "shell.execute_reply": "2021-12-10T09:38:54.728479Z",
          "shell.execute_reply.started": "2021-12-10T09:38:54.720691Z"
        },
        "id": "8510bIUSrP4Y"
      },
      "source": [
        "# 3. **`Nested loop`**"
      ]
    },
    {
      "cell_type": "code",
      "execution_count": 95,
      "metadata": {
        "colab": {
          "base_uri": "https://localhost:8080/"
        },
        "execution": {
          "iopub.execute_input": "2021-12-14T05:43:57.128724Z",
          "iopub.status.busy": "2021-12-14T05:43:57.12841Z",
          "iopub.status.idle": "2021-12-14T05:43:57.134926Z",
          "shell.execute_reply": "2021-12-14T05:43:57.1341Z",
          "shell.execute_reply.started": "2021-12-14T05:43:57.128693Z"
        },
        "id": "SaYaNtm_rP4Y",
        "outputId": "18eef661-2153-48f3-ed3a-095e21a895a5",
        "trusted": true
      },
      "outputs": [
        {
          "name": "stdout",
          "output_type": "stream",
          "text": [
            "1\n",
            "2\n"
          ]
        }
      ],
      "source": [
        "# run it see the output\n",
        "for outer_loop_number in range(1,3):\n",
        "    print(outer_loop_number)"
      ]
    },
    {
      "cell_type": "code",
      "execution_count": 96,
      "metadata": {
        "colab": {
          "base_uri": "https://localhost:8080/"
        },
        "execution": {
          "iopub.execute_input": "2021-12-14T05:44:39.129675Z",
          "iopub.status.busy": "2021-12-14T05:44:39.12929Z",
          "iopub.status.idle": "2021-12-14T05:44:39.137127Z",
          "shell.execute_reply": "2021-12-14T05:44:39.135798Z",
          "shell.execute_reply.started": "2021-12-14T05:44:39.129641Z"
        },
        "id": "8E_8V-_3rP4Y",
        "outputId": "ee0d38ac-821c-4e05-97ca-2227e68a3ed5",
        "trusted": true
      },
      "outputs": [
        {
          "name": "stdout",
          "output_type": "stream",
          "text": [
            "C\n",
            "h\n",
            "a\n",
            "t\n",
            "G\n",
            "P\n",
            "T\n"
          ]
        }
      ],
      "source": [
        "# run it see the output\n",
        "for inner_loop_character in \"ChatGPT\":\n",
        "    print(inner_loop_character)"
      ]
    },
    {
      "cell_type": "code",
      "execution_count": 97,
      "metadata": {
        "colab": {
          "base_uri": "https://localhost:8080/"
        },
        "execution": {
          "iopub.execute_input": "2021-12-14T05:45:07.376594Z",
          "iopub.status.busy": "2021-12-14T05:45:07.376268Z",
          "iopub.status.idle": "2021-12-14T05:45:07.387369Z",
          "shell.execute_reply": "2021-12-14T05:45:07.385704Z",
          "shell.execute_reply.started": "2021-12-14T05:45:07.376561Z"
        },
        "id": "VYeJ7UT3rP4Y",
        "outputId": "b155c9a2-90e1-485b-956a-5bdf5a1ccabb",
        "trusted": true
      },
      "outputs": [
        {
          "name": "stdout",
          "output_type": "stream",
          "text": [
            "1 C\n",
            "1 h\n",
            "1 a\n",
            "1 t\n",
            "1 G\n",
            "1 P\n",
            "1 T\n",
            "2 C\n",
            "2 h\n",
            "2 a\n",
            "2 t\n",
            "2 G\n",
            "2 P\n",
            "2 T\n"
          ]
        }
      ],
      "source": [
        "# print this patern using outer and inner loop \n",
        "for outer_loop_number in range(1,3):\n",
        "    for inner_loop_character in \"ChatGPT\":\n",
        "      print(outer_loop_number,inner_loop_character)"
      ]
    },
    {
      "attachments": {},
      "cell_type": "markdown",
      "metadata": {
        "id": "VDXKoxndrP4Y"
      },
      "source": [
        "`See For each step in outer loop, inner loop exectues completely`"
      ]
    },
    {
      "cell_type": "code",
      "execution_count": 98,
      "metadata": {
        "colab": {
          "base_uri": "https://localhost:8080/"
        },
        "execution": {
          "iopub.status.busy": "2021-12-11T05:18:11.234623Z",
          "iopub.status.idle": "2021-12-11T05:18:11.234923Z",
          "shell.execute_reply": "2021-12-11T05:18:11.234789Z",
          "shell.execute_reply.started": "2021-12-11T05:18:11.234773Z"
        },
        "id": "wY98D_7BrP4Y",
        "outputId": "02a22cbd-de75-44b1-8f4d-80bdea7b5421",
        "trusted": true
      },
      "outputs": [
        {
          "name": "stdout",
          "output_type": "stream",
          "text": [
            "CxhxaxtxGxPxTx"
          ]
        }
      ],
      "source": [
        "# think what will be the output of this code and then run it\n",
        "# comment why this out is the way it is \n",
        "\n",
        "for letter in 'ChatGPT':\n",
        "    if (letter == 'c') or (letter == 'o'):\n",
        "        print('m', end= ' ')\n",
        "    else:\n",
        "        print(letter,end= 'x')"
      ]
    },
    {
      "attachments": {},
      "cell_type": "markdown",
      "metadata": {
        "id": "AiELZ4y9jaYG"
      },
      "source": [
        "Your Comment: => 1st iteration of the loop : letter will be 'c' & here if condition is True. so, it will print 'm ' in 2nd iteration of the loop: letter will be 'l'. So, else part will be executed i.e. 'lx'. So on... we will get the following output at the end: 'm lxm uxdxyxmxlx'"
      ]
    },
    {
      "cell_type": "code",
      "execution_count": 99,
      "metadata": {
        "colab": {
          "base_uri": "https://localhost:8080/"
        },
        "execution": {
          "iopub.status.busy": "2021-12-11T05:18:11.235984Z",
          "iopub.status.idle": "2021-12-11T05:18:11.236307Z",
          "shell.execute_reply": "2021-12-11T05:18:11.236156Z",
          "shell.execute_reply.started": "2021-12-11T05:18:11.23614Z"
        },
        "id": "n8YN-ajLrP4Z",
        "outputId": "f6a3efe0-ada3-455c-87e6-440b3f269acd",
        "trusted": true
      },
      "outputs": [
        {
          "name": "stdout",
          "output_type": "stream",
          "text": [
            "10 9 "
          ]
        }
      ],
      "source": [
        "# think what will be the output of this code and then run it\n",
        "# comment why this out is the way it is \n",
        "\n",
        "num = 10\n",
        "\n",
        "while num > 5:\n",
        "    print(num,end= ' ')\n",
        "    \n",
        "    num = num - 1\n",
        "    if num == 8:\n",
        "        num = 2"
      ]
    },
    {
      "attachments": {},
      "cell_type": "markdown",
      "metadata": {
        "id": "tpJnrvlnjwHf"
      },
      "source": [
        "Your Comment: => num > 5: i.e. 10>5 is True then print stmt will execute i.e. '10 ' then, num will be 9(at num = num - 1). if condition(i.e. 9 == 8) is false. So, it go at the top of the While loop then again it will check for num > 5: i.e. 9>5 & it's True printstmt will execute i.e. '9 'then, num will be 8(at num = num - 1).  if condition(i.e. 9 == 8) is true.so, num will be 2 & while condition num > 5: i.e. 2>5 is False. So, it will come out from it. So, Final output will be= '10 9 '"
      ]
    },
    {
      "attachments": {},
      "cell_type": "markdown",
      "metadata": {
        "id": "CsIxN6mUrP4Z"
      },
      "source": [
        "<a id='9'></a><center> <h3 style=\"background-color:orange; color:white\" ><br>Jump Statements<br></h3>"
      ]
    },
    {
      "attachments": {},
      "cell_type": "markdown",
      "metadata": {
        "id": "ZFHHxSeqrP4Z"
      },
      "source": [
        "# **`Type of Jump Statements`** <br>\n",
        "1. `Break Statement`\n",
        "2. `Continue Statement`\n",
        "3. `Pass Statement`"
      ]
    },
    {
      "attachments": {},
      "cell_type": "markdown",
      "metadata": {
        "id": "Mai0WKJ7rP4Z"
      },
      "source": [
        "Using for loops and while loops in Python allow you to automate and repeat tasks in an efficient manner.\n",
        "\n",
        "* But sometimes, an external factor may influence the way your program runs. When this occurs, you may want your program to `exit a loop completely`, `skip part of a loop before continuing`, or `ignore that external factor` \n",
        "\n",
        "`You can do these actions with **Break** and **Continue** Statements`"
      ]
    },
    {
      "cell_type": "code",
      "execution_count": 100,
      "metadata": {
        "colab": {
          "base_uri": "https://localhost:8080/",
          "height": 38
        },
        "id": "0bu4vLAJrP4Z",
        "outputId": "7e0aa30e-916c-436a-f7e1-d24a5e586564"
      },
      "outputs": [
        {
          "data": {
            "text/plain": [
              "'\\npass\\n\\nbreak\\n\\ncontinue\\n'"
            ]
          },
          "execution_count": 100,
          "metadata": {},
          "output_type": "execute_result"
        }
      ],
      "source": [
        "'''\n",
        "pass\n",
        "\n",
        "break\n",
        "\n",
        "continue\n",
        "'''"
      ]
    },
    {
      "attachments": {},
      "cell_type": "markdown",
      "metadata": {
        "id": "2TlMjfJVrP4a"
      },
      "source": [
        "# 1. **`Break Statement`**\n"
      ]
    },
    {
      "cell_type": "code",
      "execution_count": 101,
      "metadata": {
        "colab": {
          "base_uri": "https://localhost:8080/"
        },
        "execution": {
          "iopub.execute_input": "2021-12-14T08:27:20.070741Z",
          "iopub.status.busy": "2021-12-14T08:27:20.070203Z",
          "iopub.status.idle": "2021-12-14T08:27:20.077102Z",
          "shell.execute_reply": "2021-12-14T08:27:20.076404Z",
          "shell.execute_reply.started": "2021-12-14T08:27:20.070699Z"
        },
        "id": "MYsORtlrrP4a",
        "outputId": "0da170d9-f13f-44d4-b3b0-a96219da2481",
        "trusted": true
      },
      "outputs": [
        {
          "name": "stdout",
          "output_type": "stream",
          "text": [
            "0\n",
            "1\n",
            "2\n",
            "3\n",
            "4\n",
            "5\n",
            "6\n",
            "7\n",
            "8\n",
            "9\n"
          ]
        }
      ],
      "source": [
        "# observe the output\n",
        "for num in range(10):\n",
        "    print(num)"
      ]
    },
    {
      "cell_type": "code",
      "execution_count": 102,
      "metadata": {
        "colab": {
          "base_uri": "https://localhost:8080/"
        },
        "execution": {
          "iopub.execute_input": "2021-12-14T09:25:34.60943Z",
          "iopub.status.busy": "2021-12-14T09:25:34.609121Z",
          "iopub.status.idle": "2021-12-14T09:25:34.617876Z",
          "shell.execute_reply": "2021-12-14T09:25:34.616894Z",
          "shell.execute_reply.started": "2021-12-14T09:25:34.609398Z"
        },
        "id": "9E-BFzqUrP4a",
        "outputId": "7884625f-f3b8-4840-bfaf-b40c42466af8",
        "trusted": true
      },
      "outputs": [
        {
          "name": "stdout",
          "output_type": "stream",
          "text": [
            "The number is0\n",
            "The number is1\n",
            "The number is2\n",
            "The number is3\n",
            "The number is4\n",
            "Out of loop\n"
          ]
        }
      ],
      "source": [
        "# example that uses break statement in a for loop\n",
        "\n",
        "num = 0\n",
        "for num in range(10):\n",
        "    if num == 5:\n",
        "         break#break when num == 5\n",
        "    print('The number is' + str(num))\n",
        "\n",
        "print('Out of loop')\n",
        "\n",
        "\n",
        "# Explain Why the output is the way it is "
      ]
    },
    {
      "attachments": {},
      "cell_type": "markdown",
      "metadata": {
        "id": "-OvOEgwGkGh1"
      },
      "source": [
        "Your Comment: => **for num in range(10):** # num = [0,1,2,3,4,5....9]\n",
        "   **if num == 5:** # if condition false until num = 5, once it's True then, break stmt will execute & it will come out from the for loop\n",
        "         **break#break when num == 5 **\n",
        "    **print('The number is' + str(num))** # this will execute until num = 5\n",
        "\n",
        "**print('Out of loop')** # finally this stmt will get executed.\n",
        "\n",
        "final output will be:\n",
        "The number is0\n",
        "The number is1\n",
        "The number is2\n",
        "The number is3\n",
        "The number is4\n",
        "Out of loop\n"
      ]
    },
    {
      "attachments": {},
      "cell_type": "markdown",
      "metadata": {
        "id": "oPN-KW8ErP4a"
      },
      "source": [
        "# 2. **`Continue Statement`**\n"
      ]
    },
    {
      "cell_type": "code",
      "execution_count": 103,
      "metadata": {
        "colab": {
          "base_uri": "https://localhost:8080/"
        },
        "execution": {
          "iopub.execute_input": "2021-12-14T06:14:44.160916Z",
          "iopub.status.busy": "2021-12-14T06:14:44.160579Z",
          "iopub.status.idle": "2021-12-14T06:14:44.169578Z",
          "shell.execute_reply": "2021-12-14T06:14:44.168622Z",
          "shell.execute_reply.started": "2021-12-14T06:14:44.160884Z"
        },
        "id": "I7RGHGcDrP4a",
        "outputId": "24032e45-230c-4e35-9acd-3b6378a33c7d",
        "trusted": true
      },
      "outputs": [
        {
          "name": "stdout",
          "output_type": "stream",
          "text": [
            "The number is0\n",
            "The number is1\n",
            "The number is2\n",
            "The number is3\n",
            "The number is4\n",
            "The number is6\n",
            "The number is7\n",
            "The number is8\n",
            "The number is9\n",
            "Out of loop\n"
          ]
        }
      ],
      "source": [
        "# Using same `for loop program` as in Break Statement section above, we’ll use a continue statement rather than a break statement\n",
        "num = 0\n",
        "\n",
        "for num in range(10):\n",
        "    if num == 5:\n",
        "        continue #keep running if num == 5\n",
        "    print('The number is' + str(num))\n",
        "\n",
        "print('Out of loop')\n",
        "\n",
        "\n",
        "# Explain Why the output is the way it is "
      ]
    },
    {
      "attachments": {},
      "cell_type": "markdown",
      "metadata": {
        "id": "FqKoSmjUkfSc"
      },
      "source": [
        "Your Comment: => Every num will get printed except 5 as we used continue for num == 5 & here, once this condition is True then it will jump to Top of the for loop immediately.print('Out of loop') # finally this stmt will get executed."
      ]
    },
    {
      "cell_type": "code",
      "execution_count": 104,
      "metadata": {
        "colab": {
          "base_uri": "https://localhost:8080/"
        },
        "execution": {
          "iopub.execute_input": "2021-12-14T08:11:16.489676Z",
          "iopub.status.busy": "2021-12-14T08:11:16.489389Z",
          "iopub.status.idle": "2021-12-14T08:11:16.496652Z",
          "shell.execute_reply": "2021-12-14T08:11:16.495911Z",
          "shell.execute_reply.started": "2021-12-14T08:11:16.489646Z"
        },
        "id": "QOW1z0udrP4b",
        "outputId": "6d014256-c9ad-4581-9bdc-6895e6bb2d66",
        "trusted": true
      },
      "outputs": [
        {
          "name": "stdout",
          "output_type": "stream",
          "text": [
            "Number is 0\n",
            "Number is 1\n",
            "Number is 2\n",
            "Number is 3\n",
            "Number is 4\n",
            "Number is 5\n",
            "Number is 6\n",
            "Number is 7\n",
            "Number is 8\n",
            "Number is 9\n",
            "Out of loop\n"
          ]
        }
      ],
      "source": [
        "# Using same code block as above, let’s replace break or continue statement with a pass statement\n",
        "num = 0\n",
        "\n",
        "for num in range(10):\n",
        "    if num == 5:\n",
        "        pass    # pass then\n",
        "    print('Number is ' + str(num))\n",
        "print('Out of loop')\n",
        "\n",
        "\n",
        "# Explain Why the output is the way it is"
      ]
    },
    {
      "attachments": {},
      "cell_type": "markdown",
      "metadata": {
        "id": "tAreE2KtrP4b"
      },
      "source": [
        "Your Comment: => Every num will get printed as we used pass for num == 5 & here, pass means just to ignore. So, it will execute every num. print('Out of loop') # finally this stmt will get executed."
      ]
    },
    {
      "attachments": {},
      "cell_type": "markdown",
      "metadata": {
        "id": "z7Mr7CDerP4b"
      },
      "source": [
        "<a id='10'></a><center> <h3 style=\"background-color:orange; color:white\" ><br>Assignment Loops and Jump Statements<br></h3>\n"
      ]
    },
    {
      "attachments": {},
      "cell_type": "markdown",
      "metadata": {
        "id": "0nJZ8yTqrP4b"
      },
      "source": [
        "# 💬 ***Problem Statement-1:***\n",
        "\n",
        "* User will enter password which is set to be `qwert`\n",
        "* If password matches, print ***`Welcome to ChatGPT Course!!`*** else print ***`Wrong Password!!`*** and user will re-enter password\n",
        "* In `fourth` trial, it will print ***`One Last Trial left!!!`***\n",
        "\n",
        "Hint: `Break Statement` can be used"
      ]
    },
    {
      "cell_type": "code",
      "execution_count": 105,
      "metadata": {
        "colab": {
          "base_uri": "https://localhost:8080/"
        },
        "execution": {
          "iopub.status.busy": "2021-12-11T05:18:11.242989Z",
          "iopub.status.idle": "2021-12-11T05:18:11.243372Z",
          "shell.execute_reply": "2021-12-11T05:18:11.243211Z",
          "shell.execute_reply.started": "2021-12-11T05:18:11.243182Z"
        },
        "id": "3TfEntL3rP4b",
        "outputId": "a745a048-e03b-4273-93e9-ef50fa4bba36",
        "trusted": true
      },
      "outputs": [
        {
          "name": "stdout",
          "output_type": "stream",
          "text": [
            "Welcome to ChatGPT Course!!\n"
          ]
        }
      ],
      "source": [
        "password = \"qwert\"\n",
        "for i in [1,2,3,4]:\n",
        "  if i == 3:\n",
        "    print(\"One Last Trial left!!!\")\n",
        "  entered_pass = input(\"Enter password = \")  \n",
        "  if entered_pass == password:\n",
        "     print(\"Welcome to ChatGPT Course!!\")\n",
        "     break\n",
        "  else:\n",
        "     print(\"Wrong Password!!\")\n",
        "    \n"
      ]
    },
    {
      "attachments": {},
      "cell_type": "markdown",
      "metadata": {
        "id": "D7sqvuiNrP4b"
      },
      "source": [
        "....."
      ]
    },
    {
      "attachments": {},
      "cell_type": "markdown",
      "metadata": {
        "id": "hNE2e0YBrP4b"
      },
      "source": [
        "# 💬 ***Problem Statement-2:***\n",
        "\n",
        "* Enter password which is an OTP set to be `1008`\n",
        "* If OTP matches, It will ask user to provide details like ***`Enter Your Name:`*** and ***`Enter Your City:`*** and user will re-enter OTP\n",
        "* In `fourth` trial, it will print ***`One Last Trial left!!!`***\n",
        "\n",
        "`Hint:` Continue Statement can be used"
      ]
    },
    {
      "cell_type": "code",
      "execution_count": 106,
      "metadata": {
        "colab": {
          "base_uri": "https://localhost:8080/"
        },
        "execution": {
          "iopub.status.busy": "2021-12-11T05:18:11.245219Z",
          "iopub.status.idle": "2021-12-11T05:18:11.245617Z",
          "shell.execute_reply": "2021-12-11T05:18:11.245478Z",
          "shell.execute_reply.started": "2021-12-11T05:18:11.245461Z"
        },
        "id": "PI9ZTGG6rP4b",
        "outputId": "1192aede-f37f-4f24-c388-5c45643beaa5",
        "trusted": true
      },
      "outputs": [
        {
          "name": "stdout",
          "output_type": "stream",
          "text": [
            "you have 3 chances left to enter valid OTP\n",
            "you have 2 chances left to enter valid OTP\n",
            "One Last Trial left!!!\n",
            " You exceeded the limit of attempts.\n"
          ]
        }
      ],
      "source": [
        "OTP = \"1008\"\n",
        "for i in [1,2,3,4]:\n",
        "  if i == 3:\n",
        "    print(\"One Last Trial left!!!\")\n",
        "  entered_OTP = input(\"Enter OTP = \")\n",
        "  if entered_OTP == OTP:\n",
        "      name = input(\"Enter Your Name:\")\n",
        "      city = input(\"Enter Your City:\")\n",
        "      continue\n",
        "  else:\n",
        "      if i == 4:\n",
        "        print(\" You exceeded the limit of attempts.\")\n",
        "        break\n",
        "      else:\n",
        "        print(f\"you have {4-i} chances left to enter valid OTP\")\n"
      ]
    },
    {
      "attachments": {},
      "cell_type": "markdown",
      "metadata": {
        "id": "mepQLZjcrP4b"
      },
      "source": [
        "<a id='11'></a><center> <h3 style=\"background-color:orange; color:white\" ><br>Python Data Structures<br></h3>\n",
        "\n"
      ]
    },
    {
      "attachments": {},
      "cell_type": "markdown",
      "metadata": {
        "id": "1A84HNVLrP4c"
      },
      "source": [
        "Existing Data Type: int, float, bool, str\n",
        "\n",
        "Problem with Existing Data Type:\n",
        "* Only single data type can be stored in a variable i.e. either int or decimal or str\n",
        "* To store more data we need more variables\n",
        "    * Eg: You have 100 name and age then you have to make 200 variables, valid for condition if you are not using DataStructure\n",
        "    \n",
        "    \n",
        "`Data Structure Solves` above problem\n",
        "\n",
        "# **`Properties of Data Structure:`**\n",
        "* Efficient Storage for large data\n",
        "* Should allow Manipulation/Operations on data\n",
        "* Should mantain underlying relationship of data\n",
        "If these three properties are available then you can call it a Data Structure\n",
        "\n",
        "\n",
        "# `Types of Data Structures:`\n",
        "* `List` => ordered => elements seprated by comma => enclosed with square brackets-[]\n",
        "* `Tuple`\n",
        "* `Set`\n",
        "* `Dictionary`"
      ]
    },
    {
      "attachments": {},
      "cell_type": "markdown",
      "metadata": {
        "id": "2mYBzcjXrP4c"
      },
      "source": [
        "|Data Structures type|Mutable|Comments|Indexing|Ordered|Duplicacy|\n",
        "|----|----|----|----|----|----|\n",
        "frozenset|immutable|immutable version of set|- |- |- |\n",
        "tuple ()|immutable|immutable version of list| possible|yes |allowed |\n",
        "list []|mutable|-|possible |yes | allowed |\n",
        "set {}|mutable| -|not |no |not |\n",
        "dict {key:value}|mutable|-|possible |no |not  |"
      ]
    },
    {
      "attachments": {},
      "cell_type": "markdown",
      "metadata": {
        "id": "XbJv8WOprP4c"
      },
      "source": [
        "💫 `immutable` => `can't be changed` <br>\n",
        "💫 `mutable` => `can be changed`"
      ]
    },
    {
      "attachments": {},
      "cell_type": "markdown",
      "metadata": {
        "id": "hxNFx7omrP4c"
      },
      "source": [
        "---"
      ]
    },
    {
      "attachments": {},
      "cell_type": "markdown",
      "metadata": {
        "id": "1WlRcrHGrP4c"
      },
      "source": [
        "\n",
        "# **`List`**"
      ]
    },
    {
      "cell_type": "code",
      "execution_count": 107,
      "metadata": {
        "execution": {
          "iopub.execute_input": "2021-12-13T08:21:05.502988Z",
          "iopub.status.busy": "2021-12-13T08:21:05.502536Z",
          "iopub.status.idle": "2021-12-13T08:21:05.510594Z",
          "shell.execute_reply": "2021-12-13T08:21:05.50956Z",
          "shell.execute_reply.started": "2021-12-13T08:21:05.502944Z"
        },
        "id": "7SFfVkH0rP4c",
        "trusted": true
      },
      "outputs": [],
      "source": [
        "# make a list, name it as names with values ram','ohm','da','ada','asdasd'\n",
        "list1=['ram','ohm','da','ada','asdasd']\n",
        "# make a list, name it as roll_no with values 21,23,435,65,565,656\n",
        "roll_no = [21,23,435,65,565,656]\n",
        "# make a list, name it as scores  with values 23,2323,2323,234324,3423\n",
        "scores = [23,2323,2323,234324,3423]"
      ]
    },
    {
      "cell_type": "code",
      "execution_count": 108,
      "metadata": {
        "colab": {
          "base_uri": "https://localhost:8080/"
        },
        "execution": {
          "iopub.execute_input": "2021-12-11T12:31:37.80606Z",
          "iopub.status.busy": "2021-12-11T12:31:37.805778Z",
          "iopub.status.idle": "2021-12-11T12:31:37.812504Z",
          "shell.execute_reply": "2021-12-11T12:31:37.811545Z",
          "shell.execute_reply.started": "2021-12-11T12:31:37.806032Z"
        },
        "id": "dyF1sb1jrP4c",
        "outputId": "4a0ff12f-8a1d-4438-bd00-382a3efc89f7",
        "trusted": true
      },
      "outputs": [
        {
          "name": "stdout",
          "output_type": "stream",
          "text": [
            "['krishna', 'mahadev', 'surya']\n"
          ]
        }
      ],
      "source": [
        "# make a list with Single data type - str\n",
        "\n",
        "# name of list names_list with values as 'krishna','mahadev','surya'\n",
        "names_list = ['krishna','mahadev','surya']\n",
        "# print type of names_list\n",
        "print(names_list)\n"
      ]
    },
    {
      "cell_type": "code",
      "execution_count": 109,
      "metadata": {
        "colab": {
          "base_uri": "https://localhost:8080/"
        },
        "execution": {
          "iopub.execute_input": "2021-12-13T08:23:29.204419Z",
          "iopub.status.busy": "2021-12-13T08:23:29.204091Z",
          "iopub.status.idle": "2021-12-13T08:23:29.211906Z",
          "shell.execute_reply": "2021-12-13T08:23:29.211239Z",
          "shell.execute_reply.started": "2021-12-13T08:23:29.20439Z"
        },
        "id": "1psLdZcUrP4d",
        "outputId": "232c85f7-fe79-477a-81b9-5841b2874054",
        "trusted": true
      },
      "outputs": [
        {
          "name": "stdout",
          "output_type": "stream",
          "text": [
            "['krishna', 'mahadev', 'surya', 108, 11, 21]\n"
          ]
        }
      ],
      "source": [
        "# make a list with Mixed data type - str and int\n",
        "# name of list names_list with values as 'krishna','mahadev','surya',108,11,21\n",
        "names_list = ['krishna','mahadev','surya',108,11,21]\n",
        "# print type of names_list\n",
        "print(names_list)\n"
      ]
    },
    {
      "cell_type": "code",
      "execution_count": 110,
      "metadata": {
        "colab": {
          "base_uri": "https://localhost:8080/"
        },
        "execution": {
          "iopub.execute_input": "2021-12-13T08:26:53.759352Z",
          "iopub.status.busy": "2021-12-13T08:26:53.758993Z",
          "iopub.status.idle": "2021-12-13T08:26:53.76578Z",
          "shell.execute_reply": "2021-12-13T08:26:53.764799Z",
          "shell.execute_reply.started": "2021-12-13T08:26:53.759315Z"
        },
        "id": "m5_fowfPrP4d",
        "outputId": "031fea8b-55f4-45f8-b525-67de76bc88b8",
        "trusted": true
      },
      "outputs": [
        {
          "name": "stdout",
          "output_type": "stream",
          "text": [
            "mahadev\n"
          ]
        }
      ],
      "source": [
        "# access output element \n",
        "print(names_list[1])"
      ]
    },
    {
      "attachments": {},
      "cell_type": "markdown",
      "metadata": {
        "id": "J1ipDEgCrP4d"
      },
      "source": [
        "`List Indexing:`\n",
        "\n",
        "\n",
        "|`Values`|1|2|3|4|5|6|7|8|9|10|\n",
        "|---|---|---|---|---|---|---|---|---|---|---|\n",
        "|`Indexing` |0 |1 |2 |3 |4 |5 |6 |7 |8|9|\n",
        "|`Negative Indexing`| -10 |-9 |-8 |-7 |-6 |-5 |-4 |-3 |-2 |-1|"
      ]
    },
    {
      "cell_type": "code",
      "execution_count": 111,
      "metadata": {
        "colab": {
          "base_uri": "https://localhost:8080/"
        },
        "execution": {
          "iopub.execute_input": "2021-12-13T08:27:25.217447Z",
          "iopub.status.busy": "2021-12-13T08:27:25.21688Z",
          "iopub.status.idle": "2021-12-13T08:27:25.223883Z",
          "shell.execute_reply": "2021-12-13T08:27:25.22327Z",
          "shell.execute_reply.started": "2021-12-13T08:27:25.21741Z"
        },
        "id": "TStBmS8jrP4d",
        "outputId": "db4ea029-5563-459d-89bd-fe80eae8b043",
        "trusted": true
      },
      "outputs": [
        {
          "name": "stdout",
          "output_type": "stream",
          "text": [
            "21\n"
          ]
        }
      ],
      "source": [
        "# extract single element i.e. last one using Negative Index (first element)\n",
        "print(names_list[-1])"
      ]
    },
    {
      "cell_type": "code",
      "execution_count": 112,
      "metadata": {
        "colab": {
          "base_uri": "https://localhost:8080/"
        },
        "execution": {
          "iopub.execute_input": "2021-12-13T08:27:33.441996Z",
          "iopub.status.busy": "2021-12-13T08:27:33.441702Z",
          "iopub.status.idle": "2021-12-13T08:27:33.448369Z",
          "shell.execute_reply": "2021-12-13T08:27:33.44729Z",
          "shell.execute_reply.started": "2021-12-13T08:27:33.441956Z"
        },
        "id": "wJIKlcwkrP4d",
        "outputId": "a31ec8aa-9e22-48b6-dc78-c2e13ed7ce4c",
        "trusted": true
      },
      "outputs": [
        {
          "name": "stdout",
          "output_type": "stream",
          "text": [
            "krishna\n"
          ]
        }
      ],
      "source": [
        "# extract single element using Index (first element)\n",
        "print(names_list[0])"
      ]
    },
    {
      "cell_type": "code",
      "execution_count": 113,
      "metadata": {
        "colab": {
          "base_uri": "https://localhost:8080/"
        },
        "execution": {
          "iopub.execute_input": "2021-12-13T08:27:55.214857Z",
          "iopub.status.busy": "2021-12-13T08:27:55.214558Z",
          "iopub.status.idle": "2021-12-13T08:27:55.22238Z",
          "shell.execute_reply": "2021-12-13T08:27:55.221262Z",
          "shell.execute_reply.started": "2021-12-13T08:27:55.214827Z"
        },
        "id": "w-9l5PkXrP4d",
        "outputId": "e7f470fd-e27e-458e-da8d-a93502ab04b8",
        "trusted": true
      },
      "outputs": [
        {
          "name": "stdout",
          "output_type": "stream",
          "text": [
            "['krishna', 'mahadev', 'surya']\n"
          ]
        }
      ],
      "source": [
        "# extract sequence of elements using Index (first 3 elements)\n",
        "print(names_list[:3])\n",
        "  #=> [start index:end index] => exclude end index"
      ]
    },
    {
      "attachments": {},
      "cell_type": "markdown",
      "metadata": {
        "id": "COPpT8hQrP4d"
      },
      "source": [
        "## Membership Operators\n",
        "To check if particular element is present in list or not\n",
        "* Using `in` or `not in` to get answers of these type of queries "
      ]
    },
    {
      "cell_type": "code",
      "execution_count": 114,
      "metadata": {
        "colab": {
          "base_uri": "https://localhost:8080/"
        },
        "execution": {
          "iopub.execute_input": "2021-12-13T08:30:00.341103Z",
          "iopub.status.busy": "2021-12-13T08:30:00.340688Z",
          "iopub.status.idle": "2021-12-13T08:30:00.347279Z",
          "shell.execute_reply": "2021-12-13T08:30:00.346359Z",
          "shell.execute_reply.started": "2021-12-13T08:30:00.341069Z"
        },
        "id": "Y_8SDN1SrP4d",
        "outputId": "83ee18ca-d912-4744-ddce-937c7691c359",
        "trusted": true
      },
      "outputs": [
        {
          "data": {
            "text/plain": [
              "['krishna', 'mahadev', 'surya', 108, 11, 21]"
            ]
          },
          "execution_count": 114,
          "metadata": {},
          "output_type": "execute_result"
        }
      ],
      "source": [
        "# see names_list data\n",
        "names_list"
      ]
    },
    {
      "cell_type": "code",
      "execution_count": 115,
      "metadata": {
        "colab": {
          "base_uri": "https://localhost:8080/"
        },
        "execution": {
          "iopub.execute_input": "2021-12-13T08:30:23.983164Z",
          "iopub.status.busy": "2021-12-13T08:30:23.982521Z",
          "iopub.status.idle": "2021-12-13T08:30:23.988855Z",
          "shell.execute_reply": "2021-12-13T08:30:23.987976Z",
          "shell.execute_reply.started": "2021-12-13T08:30:23.983128Z"
        },
        "id": "zAhq9WqsrP4d",
        "outputId": "527b6c35-7121-4823-b41e-a5bf0d888eda",
        "trusted": true
      },
      "outputs": [
        {
          "name": "stdout",
          "output_type": "stream",
          "text": [
            "False\n"
          ]
        }
      ],
      "source": [
        "# see if 'mukesh' is in  names_list\n",
        "print('mukesh' in names_list) "
      ]
    },
    {
      "cell_type": "code",
      "execution_count": 116,
      "metadata": {
        "colab": {
          "base_uri": "https://localhost:8080/"
        },
        "execution": {
          "iopub.execute_input": "2021-12-13T08:30:33.933979Z",
          "iopub.status.busy": "2021-12-13T08:30:33.933573Z",
          "iopub.status.idle": "2021-12-13T08:30:33.93938Z",
          "shell.execute_reply": "2021-12-13T08:30:33.938604Z",
          "shell.execute_reply.started": "2021-12-13T08:30:33.933949Z"
        },
        "id": "0LjgT08NrP4d",
        "outputId": "ab713c40-c229-443f-8b19-6d11e1d5eb3a",
        "trusted": true
      },
      "outputs": [
        {
          "name": "stdout",
          "output_type": "stream",
          "text": [
            "True\n"
          ]
        }
      ],
      "source": [
        "# see if 'rawan' is notin names_list\n",
        "print('rawan' not in names_list) "
      ]
    },
    {
      "attachments": {},
      "cell_type": "markdown",
      "metadata": {
        "id": "_jF5-7_PrP4e"
      },
      "source": [
        "## Adding to List\n",
        "* Adding a single element: `append()` => add at the end of the list\n",
        "* Adding multiple elements (adding list in list): `extend()`"
      ]
    },
    {
      "attachments": {},
      "cell_type": "markdown",
      "metadata": {
        "id": "Onk48j8xrP4e"
      },
      "source": [
        "# Use of .append()"
      ]
    },
    {
      "cell_type": "code",
      "execution_count": 117,
      "metadata": {
        "execution": {
          "iopub.execute_input": "2021-12-13T08:31:08.016806Z",
          "iopub.status.busy": "2021-12-13T08:31:08.016526Z",
          "iopub.status.idle": "2021-12-13T08:31:08.023252Z",
          "shell.execute_reply": "2021-12-13T08:31:08.022472Z",
          "shell.execute_reply.started": "2021-12-13T08:31:08.016776Z"
        },
        "id": "ZEo63rVKrP4e",
        "trusted": true
      },
      "outputs": [],
      "source": [
        "#see again names_list elements\n",
        "names_list = ['krishna','mahadev','surya',108,11,21]"
      ]
    },
    {
      "cell_type": "code",
      "execution_count": 118,
      "metadata": {
        "colab": {
          "base_uri": "https://localhost:8080/"
        },
        "execution": {
          "iopub.execute_input": "2021-12-13T08:31:48.35115Z",
          "iopub.status.busy": "2021-12-13T08:31:48.35089Z",
          "iopub.status.idle": "2021-12-13T08:31:48.35939Z",
          "shell.execute_reply": "2021-12-13T08:31:48.358505Z",
          "shell.execute_reply.started": "2021-12-13T08:31:48.351123Z"
        },
        "id": "JWztwD_PrP4e",
        "outputId": "615dd74f-4e70-45d1-9268-6e8e597c2d63",
        "trusted": true
      },
      "outputs": [
        {
          "name": "stdout",
          "output_type": "stream",
          "text": [
            "['krishna', 'mahadev', 'surya', 108, 11, 21]\n",
            "['krishna', 'mahadev', 'surya', 108, 11, 21, 'bhagwan']\n",
            "['krishna', 'mahadev', 'surya', 108, 11, 21, 'bhagwan', [3, 'ok']]\n"
          ]
        }
      ],
      "source": [
        "# #see again names_list list elements\n",
        "print(names_list)\n",
        "\n",
        "#appending 'bhagwan' to list names_list\n",
        "#using append()\n",
        "names_list.append('bhagwan')\n",
        "\n",
        "# print list after appending\n",
        "print(names_list)\n",
        "\n",
        "# append 3,'ok' values as a list of list\n",
        " #<= it will append a list inside a list\n",
        "names_list.append([3,'ok'])\n",
        "# print names_list\n",
        "print(names_list)"
      ]
    },
    {
      "attachments": {},
      "cell_type": "markdown",
      "metadata": {
        "id": "L6_5O9xcrP4e"
      },
      "source": [
        "# Use of .extend()"
      ]
    },
    {
      "cell_type": "code",
      "execution_count": 119,
      "metadata": {
        "colab": {
          "base_uri": "https://localhost:8080/"
        },
        "execution": {
          "iopub.execute_input": "2021-12-13T08:32:56.378121Z",
          "iopub.status.busy": "2021-12-13T08:32:56.377806Z",
          "iopub.status.idle": "2021-12-13T08:32:56.384032Z",
          "shell.execute_reply": "2021-12-13T08:32:56.38291Z",
          "shell.execute_reply.started": "2021-12-13T08:32:56.378087Z"
        },
        "id": "chB2CoWqrP4e",
        "outputId": "7a248268-9428-4351-bf8e-aca75cf8b789",
        "trusted": true
      },
      "outputs": [
        {
          "name": "stdout",
          "output_type": "stream",
          "text": [
            "['krishna', 'mahadev', 'surya', 108, 11, 21, 'bhagwan', [3, 'ok'], 6, 'one more']\n"
          ]
        }
      ],
      "source": [
        "\n",
        "# extend names_list with values 6,'one more' as a list\n",
        "names_list.extend([6,'one more'])\n",
        "# print list after .extend()\n",
        "print(names_list)"
      ]
    },
    {
      "attachments": {},
      "cell_type": "markdown",
      "metadata": {
        "id": "fI6TbJ9IrP4e"
      },
      "source": [
        "## Deleting from list\n",
        "* `.remove()` => delete element by its value\n",
        "* `del` => delete element by index : indexing start from 0"
      ]
    },
    {
      "attachments": {},
      "cell_type": "markdown",
      "metadata": {
        "id": "iwcbBZfrrP4e"
      },
      "source": [
        "# Use of .remove()"
      ]
    },
    {
      "cell_type": "code",
      "execution_count": 120,
      "metadata": {
        "colab": {
          "base_uri": "https://localhost:8080/"
        },
        "execution": {
          "iopub.execute_input": "2021-12-13T08:35:24.870142Z",
          "iopub.status.busy": "2021-12-13T08:35:24.869868Z",
          "iopub.status.idle": "2021-12-13T08:35:24.876688Z",
          "shell.execute_reply": "2021-12-13T08:35:24.875739Z",
          "shell.execute_reply.started": "2021-12-13T08:35:24.870115Z"
        },
        "id": "xYy-KNKxrP4e",
        "outputId": "b1fb41af-cc38-45b6-cf81-357c88a7cdda",
        "trusted": true
      },
      "outputs": [
        {
          "data": {
            "text/plain": [
              "['krishna',\n",
              " 'mahadev',\n",
              " 'surya',\n",
              " 108,\n",
              " 11,\n",
              " 21,\n",
              " 'bhagwan',\n",
              " [3, 'ok'],\n",
              " 6,\n",
              " 'one more']"
            ]
          },
          "execution_count": 120,
          "metadata": {},
          "output_type": "execute_result"
        }
      ],
      "source": [
        "# see names_list\n",
        "names_list"
      ]
    },
    {
      "cell_type": "code",
      "execution_count": 121,
      "metadata": {
        "colab": {
          "base_uri": "https://localhost:8080/"
        },
        "execution": {
          "iopub.execute_input": "2021-12-13T08:35:35.977782Z",
          "iopub.status.busy": "2021-12-13T08:35:35.976582Z",
          "iopub.status.idle": "2021-12-13T08:35:35.982445Z",
          "shell.execute_reply": "2021-12-13T08:35:35.981775Z",
          "shell.execute_reply.started": "2021-12-13T08:35:35.977713Z"
        },
        "id": "8UfKI7MYrP4e",
        "outputId": "e0ed5c23-9956-47a7-d43b-7fea10eea18d",
        "trusted": true
      },
      "outputs": [
        {
          "name": "stdout",
          "output_type": "stream",
          "text": [
            "['krishna', 'mahadev', 'surya', 108, 11, 21, 'bhagwan', [3, 'ok'], 6]\n"
          ]
        }
      ],
      "source": [
        "# remove one more from names_list\n",
        "names_list.remove('one more')\n",
        "# print names_list\n",
        "print(names_list)"
      ]
    },
    {
      "attachments": {},
      "cell_type": "markdown",
      "metadata": {
        "id": "P7mXoDiprP4f"
      },
      "source": [
        "# Use of del"
      ]
    },
    {
      "cell_type": "code",
      "execution_count": 122,
      "metadata": {
        "colab": {
          "base_uri": "https://localhost:8080/"
        },
        "execution": {
          "iopub.execute_input": "2021-12-13T08:35:52.107924Z",
          "iopub.status.busy": "2021-12-13T08:35:52.10741Z",
          "iopub.status.idle": "2021-12-13T08:35:52.114855Z",
          "shell.execute_reply": "2021-12-13T08:35:52.11401Z",
          "shell.execute_reply.started": "2021-12-13T08:35:52.107873Z"
        },
        "id": "AvQDPc_hrP4f",
        "outputId": "c9892133-d330-4123-90a8-8862bddd3976",
        "trusted": true
      },
      "outputs": [],
      "source": [
        "# see names_list"
      ]
    },
    {
      "cell_type": "code",
      "execution_count": 123,
      "metadata": {
        "colab": {
          "base_uri": "https://localhost:8080/"
        },
        "execution": {
          "iopub.execute_input": "2021-12-13T08:35:57.308409Z",
          "iopub.status.busy": "2021-12-13T08:35:57.307742Z",
          "iopub.status.idle": "2021-12-13T08:35:57.312802Z",
          "shell.execute_reply": "2021-12-13T08:35:57.311834Z",
          "shell.execute_reply.started": "2021-12-13T08:35:57.308377Z"
        },
        "id": "oOyXUP0HrP4f",
        "outputId": "aea22467-cc0f-44d3-ea15-3878145c1497",
        "trusted": true
      },
      "outputs": [
        {
          "name": "stdout",
          "output_type": "stream",
          "text": [
            "['krishna', 'mahadev', 'surya', 108, 11, 21, 'bhagwan', 6]\n"
          ]
        }
      ],
      "source": [
        "# del 7 from names_list\n",
        "del(names_list[7])\n",
        "# print names_list\n",
        "print(names_list)"
      ]
    },
    {
      "attachments": {},
      "cell_type": "markdown",
      "metadata": {
        "id": "EPu0UxWCrP4f"
      },
      "source": [
        "## Iterate through list"
      ]
    },
    {
      "cell_type": "code",
      "execution_count": 124,
      "metadata": {
        "colab": {
          "base_uri": "https://localhost:8080/"
        },
        "execution": {
          "iopub.execute_input": "2021-12-13T08:37:14.63231Z",
          "iopub.status.busy": "2021-12-13T08:37:14.631538Z",
          "iopub.status.idle": "2021-12-13T08:37:14.638126Z",
          "shell.execute_reply": "2021-12-13T08:37:14.637474Z",
          "shell.execute_reply.started": "2021-12-13T08:37:14.632274Z"
        },
        "id": "R8Xgr9-BrP4f",
        "outputId": "25b89e67-23fb-48d7-e0b3-3fbdb1bb160b",
        "trusted": true
      },
      "outputs": [
        {
          "name": "stdout",
          "output_type": "stream",
          "text": [
            "krishna\n",
            "mahadev\n",
            "surya\n",
            "108\n",
            "11\n",
            "21\n",
            "bhagwan\n",
            "6\n"
          ]
        }
      ],
      "source": [
        "# interate through list elements \n",
        "for item in names_list:\n",
        "  # print element\n",
        "  print(item)"
      ]
    },
    {
      "attachments": {},
      "cell_type": "markdown",
      "metadata": {
        "id": "q7tmRtqYrP4f"
      },
      "source": [
        "## Some pre-defined method on List\n"
      ]
    },
    {
      "cell_type": "code",
      "execution_count": 125,
      "metadata": {
        "colab": {
          "base_uri": "https://localhost:8080/"
        },
        "execution": {
          "iopub.execute_input": "2021-12-13T08:37:49.527524Z",
          "iopub.status.busy": "2021-12-13T08:37:49.527228Z",
          "iopub.status.idle": "2021-12-13T08:37:49.533884Z",
          "shell.execute_reply": "2021-12-13T08:37:49.532894Z",
          "shell.execute_reply.started": "2021-12-13T08:37:49.527488Z"
        },
        "id": "7xHmcCStrP4f",
        "outputId": "b1251161-3c86-4d91-a166-9dda11f05f38",
        "trusted": true
      },
      "outputs": [
        {
          "data": {
            "text/plain": [
              "['krishna', 'mahadev', 'surya', 108, 11, 21, 'bhagwan', 6]"
            ]
          },
          "execution_count": 125,
          "metadata": {},
          "output_type": "execute_result"
        }
      ],
      "source": [
        "# see names_list\n",
        "names_list"
      ]
    },
    {
      "cell_type": "code",
      "execution_count": 126,
      "metadata": {
        "colab": {
          "base_uri": "https://localhost:8080/"
        },
        "execution": {
          "iopub.execute_input": "2021-12-13T08:37:37.260228Z",
          "iopub.status.busy": "2021-12-13T08:37:37.259131Z",
          "iopub.status.idle": "2021-12-13T08:37:37.265686Z",
          "shell.execute_reply": "2021-12-13T08:37:37.2651Z",
          "shell.execute_reply.started": "2021-12-13T08:37:37.260147Z"
        },
        "id": "hfmxSI0yrP4f",
        "outputId": "14ef3c99-1123-43ac-d275-5d3934d3aa23",
        "trusted": true
      },
      "outputs": [
        {
          "data": {
            "text/plain": [
              "8"
            ]
          },
          "execution_count": 126,
          "metadata": {},
          "output_type": "execute_result"
        }
      ],
      "source": [
        "# find length of list names_list\n",
        "len(names_list)"
      ]
    },
    {
      "cell_type": "code",
      "execution_count": 127,
      "metadata": {
        "colab": {
          "base_uri": "https://localhost:8080/"
        },
        "execution": {
          "iopub.execute_input": "2021-12-13T08:38:29.087211Z",
          "iopub.status.busy": "2021-12-13T08:38:29.086638Z",
          "iopub.status.idle": "2021-12-13T08:38:29.093655Z",
          "shell.execute_reply": "2021-12-13T08:38:29.092331Z",
          "shell.execute_reply.started": "2021-12-13T08:38:29.087163Z"
        },
        "id": "6u--oITYrP4f",
        "outputId": "2061d735-51dc-487d-fde1-2739ce66ae74",
        "trusted": true
      },
      "outputs": [
        {
          "data": {
            "text/plain": [
              "[6, 'bhagwan', 21, 11, 108, 'surya', 'mahadev', 'krishna']"
            ]
          },
          "execution_count": 127,
          "metadata": {},
          "output_type": "execute_result"
        }
      ],
      "source": [
        "# reverse a list names_list\n",
        "names_list.reverse()\n",
        "# see names_list\n",
        "names_list"
      ]
    },
    {
      "cell_type": "code",
      "execution_count": 128,
      "metadata": {
        "colab": {
          "base_uri": "https://localhost:8080/",
          "height": 200
        },
        "execution": {
          "iopub.execute_input": "2021-12-13T08:38:36.562239Z",
          "iopub.status.busy": "2021-12-13T08:38:36.561875Z",
          "iopub.status.idle": "2021-12-13T08:38:36.578288Z",
          "shell.execute_reply": "2021-12-13T08:38:36.577247Z",
          "shell.execute_reply.started": "2021-12-13T08:38:36.562208Z"
        },
        "id": "JnGHTVmBrP4f",
        "outputId": "df37bbbd-6e54-4081-bb07-43e4a8c35a58",
        "trusted": true
      },
      "outputs": [
        {
          "ename": "TypeError",
          "evalue": "'<' not supported between instances of 'str' and 'int'",
          "output_type": "error",
          "traceback": [
            "\u001b[1;31m---------------------------------------------------------------------------\u001b[0m",
            "\u001b[1;31mTypeError\u001b[0m                                 Traceback (most recent call last)",
            "\u001b[1;32m~\\AppData\\Local\\Temp\\ipykernel_10800\\1965395818.py\u001b[0m in \u001b[0;36m<module>\u001b[1;34m\u001b[0m\n\u001b[0;32m      1\u001b[0m \u001b[1;31m# sort a list see condition when it is not possible\u001b[0m\u001b[1;33m\u001b[0m\u001b[1;33m\u001b[0m\u001b[1;33m\u001b[0m\u001b[0m\n\u001b[1;32m----> 2\u001b[1;33m \u001b[0mnames_list\u001b[0m\u001b[1;33m.\u001b[0m\u001b[0msort\u001b[0m\u001b[1;33m(\u001b[0m\u001b[1;33m)\u001b[0m\u001b[1;33m\u001b[0m\u001b[1;33m\u001b[0m\u001b[0m\n\u001b[0m\u001b[0;32m      3\u001b[0m \u001b[0mnames_list\u001b[0m\u001b[1;33m\u001b[0m\u001b[1;33m\u001b[0m\u001b[0m\n",
            "\u001b[1;31mTypeError\u001b[0m: '<' not supported between instances of 'str' and 'int'"
          ]
        }
      ],
      "source": [
        "# sort a list see condition when it is not possible\n",
        "names_list.sort()\n",
        "names_list"
      ]
    },
    {
      "cell_type": "code",
      "execution_count": null,
      "metadata": {
        "colab": {
          "base_uri": "https://localhost:8080/"
        },
        "execution": {
          "iopub.execute_input": "2021-12-13T08:39:03.298835Z",
          "iopub.status.busy": "2021-12-13T08:39:03.298535Z",
          "iopub.status.idle": "2021-12-13T08:39:03.305099Z",
          "shell.execute_reply": "2021-12-13T08:39:03.304468Z",
          "shell.execute_reply.started": "2021-12-13T08:39:03.298805Z"
        },
        "id": "pkHLORxmrP4g",
        "outputId": "01e7f2f9-635a-46d1-c7d3-1bd964a02658",
        "trusted": true
      },
      "outputs": [],
      "source": [
        "# make a list named as numbers_list with values as [51,101,11,21]\n",
        "numbers_list = [51,101,11,21]\n",
        "# sort list numbers_list\n",
        "numbers_list.sort()\n",
        "# see numbers_list output\n",
        "numbers_list"
      ]
    },
    {
      "cell_type": "code",
      "execution_count": null,
      "metadata": {
        "colab": {
          "base_uri": "https://localhost:8080/"
        },
        "execution": {
          "iopub.execute_input": "2021-12-13T08:39:19.768779Z",
          "iopub.status.busy": "2021-12-13T08:39:19.768469Z",
          "iopub.status.idle": "2021-12-13T08:39:19.774375Z",
          "shell.execute_reply": "2021-12-13T08:39:19.773639Z",
          "shell.execute_reply.started": "2021-12-13T08:39:19.768743Z"
        },
        "id": "SrfzuBccrP4g",
        "outputId": "7f12a512-3075-4e0a-ae22-074c8b567586",
        "trusted": true
      },
      "outputs": [],
      "source": [
        "# another way of sorting list\n",
        "sample_list = sorted([51,101,11,21])\n",
        "# use sorted to short list named as sample_list with values as [51,101,11,21]\n",
        "sample_list"
      ]
    },
    {
      "attachments": {},
      "cell_type": "markdown",
      "metadata": {
        "id": "o8uqyHe6rP4g"
      },
      "source": [
        "# Nested List"
      ]
    },
    {
      "cell_type": "code",
      "execution_count": null,
      "metadata": {
        "colab": {
          "base_uri": "https://localhost:8080/"
        },
        "execution": {
          "iopub.execute_input": "2021-12-13T08:40:26.429416Z",
          "iopub.status.busy": "2021-12-13T08:40:26.42915Z",
          "iopub.status.idle": "2021-12-13T08:40:26.435432Z",
          "shell.execute_reply": "2021-12-13T08:40:26.434598Z",
          "shell.execute_reply.started": "2021-12-13T08:40:26.429387Z"
        },
        "id": "1XQjdGSCrP4g",
        "outputId": "86fac088-01a7-49e2-88b4-ffd3e1315d76",
        "trusted": true
      },
      "outputs": [],
      "source": [
        "# defining a sample nested list named as list_of_list and values  [111, 201, [11, 21, 121], ['Aman', 'Bobo', 'Canada'], 'Wangu', ['Aanaya', 'Annu', 'Amanda']]\n",
        "list_of_list = [111, 201, [11, 21, 121], ['Aman', 'Bobo', 'Canada'], 'Wangu', ['Aanaya', 'Annu', 'Amanda']]\n",
        "# print list_of_list\n",
        "print(list_of_list)"
      ]
    },
    {
      "cell_type": "code",
      "execution_count": null,
      "metadata": {
        "colab": {
          "base_uri": "https://localhost:8080/"
        },
        "execution": {
          "iopub.execute_input": "2021-12-13T08:40:32.646942Z",
          "iopub.status.busy": "2021-12-13T08:40:32.646388Z",
          "iopub.status.idle": "2021-12-13T08:40:32.653548Z",
          "shell.execute_reply": "2021-12-13T08:40:32.652533Z",
          "shell.execute_reply.started": "2021-12-13T08:40:32.646904Z"
        },
        "id": "__2KBqwOrP4g",
        "outputId": "6e179df0-6cd1-4f7c-fb84-700d6ef85b65",
        "trusted": true
      },
      "outputs": [],
      "source": [
        "# find length of nested list\n",
        "len(list_of_list)"
      ]
    },
    {
      "cell_type": "code",
      "execution_count": null,
      "metadata": {
        "colab": {
          "base_uri": "https://localhost:8080/"
        },
        "execution": {
          "iopub.execute_input": "2021-12-13T08:41:15.630511Z",
          "iopub.status.busy": "2021-12-13T08:41:15.630168Z",
          "iopub.status.idle": "2021-12-13T08:41:15.637418Z",
          "shell.execute_reply": "2021-12-13T08:41:15.636383Z",
          "shell.execute_reply.started": "2021-12-13T08:41:15.630477Z"
        },
        "id": "yLnuvuLerP4g",
        "outputId": "da8e686f-eb34-437b-dc72-5a11333d4bd2",
        "trusted": true
      },
      "outputs": [],
      "source": [
        "# aces third element of list_of_list\n",
        "list_of_list[2]"
      ]
    },
    {
      "cell_type": "code",
      "execution_count": null,
      "metadata": {
        "colab": {
          "base_uri": "https://localhost:8080/"
        },
        "execution": {
          "iopub.execute_input": "2021-12-13T08:41:43.777576Z",
          "iopub.status.busy": "2021-12-13T08:41:43.777085Z",
          "iopub.status.idle": "2021-12-13T08:41:43.784972Z",
          "shell.execute_reply": "2021-12-13T08:41:43.78417Z",
          "shell.execute_reply.started": "2021-12-13T08:41:43.777528Z"
        },
        "id": "hind6UyKrP4g",
        "outputId": "20bb17a1-56f5-4729-ba55-7845826a96b0",
        "trusted": true
      },
      "outputs": [],
      "source": [
        "# accessing 2nd element of the third element of the primary list named  as list_of_list\n",
        "list_of_list[2][1]"
      ]
    },
    {
      "attachments": {},
      "cell_type": "markdown",
      "metadata": {
        "id": "YxKiQW5frP4g"
      },
      "source": [
        "<a id='12'></a><center> <h3 style=\"background-color:orange; color:white\" ><br>Assignment Python Data Structures List<br></h3>"
      ]
    },
    {
      "attachments": {},
      "cell_type": "markdown",
      "metadata": {
        "id": "E8-7E8mTrP4h"
      },
      "source": [
        "# 💬 **List Problem Statement:**\n",
        "\n",
        "Say XYZ conducted an assessment test to hire a Data Scientist <br>\n",
        "Candidates were evaluated on 5 different subject `Statistics`, `Python`, `SQL`, `ML`, and `DeepLearning` <br> \n",
        "`Help XYZ team to find out answers of following questions` <br>\n",
        "\n",
        "💡 `Find out Who scored highest marks in Python?`\n",
        "* Step1: Select name of student and marks in Python\n",
        "* Step2: Store filtered name and marks in another list\n",
        "* Step3: Sort list. (Kept marks as first index)\n",
        "* Step4: Get final index of sorted list"
      ]
    },
    {
      "cell_type": "code",
      "execution_count": null,
      "metadata": {
        "execution": {
          "iopub.execute_input": "2021-12-11T05:18:24.8457Z",
          "iopub.status.busy": "2021-12-11T05:18:24.845176Z",
          "iopub.status.idle": "2021-12-11T05:18:24.852835Z",
          "shell.execute_reply": "2021-12-11T05:18:24.852031Z",
          "shell.execute_reply.started": "2021-12-11T05:18:24.845665Z"
        },
        "id": "vwDSOqA7rP4h",
        "trusted": true
      },
      "outputs": [],
      "source": [
        "#### Marks of 5 different subjects out of 100 are as ####\n",
        "\n",
        "# make student marks nested list\n",
        "student_marks = [['Name', ['Statistics', 'Python', 'SQL', 'ML', 'DeepLearning']],\n",
        " ['Ananya', [41, 34, 45, 55, 63]],\n",
        " ['Akash', [42, 23, 34, 44, 53]],\n",
        " ['Rahul', [32, 23, 13, 54, 67]],\n",
        " ['Mukesh', [23, 82, 23, 63, 34]],\n",
        " ['Pranav', [21, 23, 25, 56, 56]]]"
      ]
    },
    {
      "cell_type": "code",
      "execution_count": null,
      "metadata": {
        "colab": {
          "base_uri": "https://localhost:8080/"
        },
        "execution": {
          "iopub.execute_input": "2021-12-11T05:18:25.304684Z",
          "iopub.status.busy": "2021-12-11T05:18:25.303946Z",
          "iopub.status.idle": "2021-12-11T05:18:25.313298Z",
          "shell.execute_reply": "2021-12-11T05:18:25.312419Z",
          "shell.execute_reply.started": "2021-12-11T05:18:25.304637Z"
        },
        "id": "Q7ZkPsYtrP4h",
        "outputId": "282db508-921e-4482-f4f7-fbde34672ee3",
        "trusted": true
      },
      "outputs": [],
      "source": [
        "# print student_marks\n",
        "print(student_marks)"
      ]
    },
    {
      "cell_type": "code",
      "execution_count": null,
      "metadata": {
        "colab": {
          "base_uri": "https://localhost:8080/"
        },
        "execution": {
          "iopub.execute_input": "2021-12-11T05:18:25.944893Z",
          "iopub.status.busy": "2021-12-11T05:18:25.944133Z",
          "iopub.status.idle": "2021-12-11T05:18:25.950026Z",
          "shell.execute_reply": "2021-12-11T05:18:25.949155Z",
          "shell.execute_reply.started": "2021-12-11T05:18:25.944856Z"
        },
        "id": "VT7znIVKrP4h",
        "outputId": "f76a8de5-eacc-45af-b56a-b3e2427173e6",
        "trusted": true
      },
      "outputs": [],
      "source": [
        "# access first index of list student_marks\n",
        "student_marks[0]"
      ]
    },
    {
      "attachments": {},
      "cell_type": "markdown",
      "metadata": {
        "id": "3u3-dfkVrP4h"
      },
      "source": [
        "* Slice list from second element"
      ]
    },
    {
      "cell_type": "code",
      "execution_count": null,
      "metadata": {
        "colab": {
          "base_uri": "https://localhost:8080/"
        },
        "execution": {
          "iopub.execute_input": "2021-12-11T05:18:28.949697Z",
          "iopub.status.busy": "2021-12-11T05:18:28.949117Z",
          "iopub.status.idle": "2021-12-11T05:18:28.95532Z",
          "shell.execute_reply": "2021-12-11T05:18:28.95457Z",
          "shell.execute_reply.started": "2021-12-11T05:18:28.94966Z"
        },
        "id": "LPRZOoR6rP4h",
        "outputId": "f854e58c-16ae-4488-ac5b-ff5afe765732",
        "trusted": true
      },
      "outputs": [],
      "source": [
        "# access first index of list student_marks[1]\n",
        "student_marks[1]"
      ]
    },
    {
      "attachments": {},
      "cell_type": "markdown",
      "metadata": {
        "id": "PitdZQvErP4h"
      },
      "source": [
        "See, each element in list from Index-1 contains 2 elements\n",
        "* first is `Name` \n",
        "* second is `list of marks`"
      ]
    },
    {
      "cell_type": "code",
      "execution_count": null,
      "metadata": {
        "colab": {
          "base_uri": "https://localhost:8080/",
          "height": 35
        },
        "execution": {
          "iopub.execute_input": "2021-12-11T05:18:54.137742Z",
          "iopub.status.busy": "2021-12-11T05:18:54.137328Z",
          "iopub.status.idle": "2021-12-11T05:18:54.142584Z",
          "shell.execute_reply": "2021-12-11T05:18:54.142014Z",
          "shell.execute_reply.started": "2021-12-11T05:18:54.137713Z"
        },
        "id": "NoA0T3VRrP4h",
        "outputId": "704dad8c-8fad-4b74-d52c-bc2785f1fd90",
        "trusted": true
      },
      "outputs": [],
      "source": [
        "# acess first student name\n",
        "student_marks[1][0]"
      ]
    },
    {
      "cell_type": "code",
      "execution_count": null,
      "metadata": {
        "colab": {
          "base_uri": "https://localhost:8080/"
        },
        "execution": {
          "iopub.execute_input": "2021-12-11T05:19:31.890553Z",
          "iopub.status.busy": "2021-12-11T05:19:31.890129Z",
          "iopub.status.idle": "2021-12-11T05:19:31.895735Z",
          "shell.execute_reply": "2021-12-11T05:19:31.894943Z",
          "shell.execute_reply.started": "2021-12-11T05:19:31.890522Z"
        },
        "id": "WII68GgKrP4h",
        "outputId": "9713cbdb-2195-4eed-c8bc-4d49b816f59a",
        "trusted": true
      },
      "outputs": [],
      "source": [
        "# acess ananya marks\n",
        "student_marks[1][1]"
      ]
    },
    {
      "attachments": {},
      "cell_type": "markdown",
      "metadata": {
        "id": "vDPny7O1rP4h"
      },
      "source": [
        "Now, student marks are in order **`Statistics`**, **`Python`**, **`SQL`**, **`ML`** and **`DeepLearning`**. and we need to access value at Index-1 to get marks in subject => **`Python`** "
      ]
    },
    {
      "cell_type": "code",
      "execution_count": null,
      "metadata": {
        "colab": {
          "base_uri": "https://localhost:8080/"
        },
        "execution": {
          "iopub.execute_input": "2021-12-11T05:21:26.548879Z",
          "iopub.status.busy": "2021-12-11T05:21:26.548134Z",
          "iopub.status.idle": "2021-12-11T05:21:26.554956Z",
          "shell.execute_reply": "2021-12-11T05:21:26.553864Z",
          "shell.execute_reply.started": "2021-12-11T05:21:26.548833Z"
        },
        "id": "5H7QGuDxrP4i",
        "outputId": "19b82034-d5ba-40b0-ffcc-d107b43e3997",
        "trusted": true
      },
      "outputs": [],
      "source": [
        "# observe the output commend why this is the way it is\n",
        "student_marks[1][1][1]"
      ]
    },
    {
      "attachments": {},
      "cell_type": "markdown",
      "metadata": {
        "id": "7rsQ1IkmrP4i"
      },
      "source": [
        "See above `Ananya` Python marks"
      ]
    },
    {
      "attachments": {},
      "cell_type": "markdown",
      "metadata": {
        "id": "TTBeJoDarP4i"
      },
      "source": [
        "***Now Solving Problem step after step***\n",
        "* `Who scored highest marks in subject Python? `  \n",
        "\n",
        "\n",
        "***Step1: Select name of student and marks in subject Python***"
      ]
    },
    {
      "cell_type": "code",
      "execution_count": null,
      "metadata": {
        "colab": {
          "base_uri": "https://localhost:8080/"
        },
        "execution": {
          "iopub.execute_input": "2021-12-11T05:25:24.612102Z",
          "iopub.status.busy": "2021-12-11T05:25:24.611262Z",
          "iopub.status.idle": "2021-12-11T05:25:24.620706Z",
          "shell.execute_reply": "2021-12-11T05:25:24.619653Z",
          "shell.execute_reply.started": "2021-12-11T05:25:24.612019Z"
        },
        "id": "gs5ozIK6rP4i",
        "outputId": "9411c24c-6a86-4e59-b4f9-8c4326f08ce4",
        "trusted": true
      },
      "outputs": [],
      "source": [
        "for i in range(1,6):\n",
        "  print(student_marks[i][0],\" \",student_marks[i][1][1])"
      ]
    },
    {
      "attachments": {},
      "cell_type": "markdown",
      "metadata": {
        "id": "bVk9RoafrP4i"
      },
      "source": [
        "***Step2: Store filtered Name and Marks in another list***"
      ]
    },
    {
      "cell_type": "code",
      "execution_count": null,
      "metadata": {
        "colab": {
          "base_uri": "https://localhost:8080/"
        },
        "execution": {
          "iopub.execute_input": "2021-12-11T05:27:02.350541Z",
          "iopub.status.busy": "2021-12-11T05:27:02.35026Z",
          "iopub.status.idle": "2021-12-11T05:27:02.357152Z",
          "shell.execute_reply": "2021-12-11T05:27:02.356437Z",
          "shell.execute_reply.started": "2021-12-11T05:27:02.350512Z"
        },
        "id": "syCySARFrP4i",
        "outputId": "09c5c7de-206c-41a8-bcaa-421146b60d11",
        "trusted": true
      },
      "outputs": [],
      "source": [
        "filtered_names = []\n",
        "for i in range(1,6):\n",
        "  filtered_names.append([student_marks[i][1][1],student_marks[i][0]])\n",
        "print(filtered_names)"
      ]
    },
    {
      "attachments": {},
      "cell_type": "markdown",
      "metadata": {
        "id": "EK2lofCarP4i"
      },
      "source": [
        "***Step3: Sort list (Keep marks as first index)***"
      ]
    },
    {
      "cell_type": "code",
      "execution_count": null,
      "metadata": {
        "colab": {
          "base_uri": "https://localhost:8080/"
        },
        "execution": {
          "iopub.execute_input": "2021-12-11T05:27:57.054536Z",
          "iopub.status.busy": "2021-12-11T05:27:57.053964Z",
          "iopub.status.idle": "2021-12-11T05:27:57.059563Z",
          "shell.execute_reply": "2021-12-11T05:27:57.058936Z",
          "shell.execute_reply.started": "2021-12-11T05:27:57.054501Z"
        },
        "id": "76Ld6yVxrP4i",
        "outputId": "16950c02-a596-464b-aa47-00514c3e091e",
        "trusted": true
      },
      "outputs": [],
      "source": [
        "sorted_list = sorted(filtered_names,reverse=True)\n",
        "sorted_list"
      ]
    },
    {
      "attachments": {},
      "cell_type": "markdown",
      "metadata": {
        "id": "W8QJHOwarP4i"
      },
      "source": [
        "***Step4: Get final index of sorted list with student name having max marks in Python subject***"
      ]
    },
    {
      "cell_type": "code",
      "execution_count": null,
      "metadata": {
        "colab": {
          "base_uri": "https://localhost:8080/"
        },
        "execution": {
          "iopub.execute_input": "2021-12-11T05:28:38.167787Z",
          "iopub.status.busy": "2021-12-11T05:28:38.167215Z",
          "iopub.status.idle": "2021-12-11T05:28:38.172981Z",
          "shell.execute_reply": "2021-12-11T05:28:38.172162Z",
          "shell.execute_reply.started": "2021-12-11T05:28:38.167744Z"
        },
        "id": "Zha0IrK5rP4i",
        "outputId": "a5fea8f3-6995-49a3-b1e5-32516dcd8b0e",
        "trusted": true
      },
      "outputs": [],
      "source": [
        "print(f\"{sorted_list[0][1]} has scored higest marks : {sorted_list[0][0]} in the Python subject\")"
      ]
    },
    {
      "attachments": {},
      "cell_type": "markdown",
      "metadata": {
        "id": "_zTy7qCPrP4i"
      },
      "source": [
        "Got answer of first question. Mukesh has scored highest marks in subject Python\n",
        "* You can also do it using loop do it if you want to"
      ]
    },
    {
      "attachments": {},
      "cell_type": "markdown",
      "metadata": {
        "id": "qOrSdhg0rP4j"
      },
      "source": [
        "-----"
      ]
    },
    {
      "attachments": {},
      "cell_type": "markdown",
      "metadata": {
        "id": "OemzDS2WrP4j"
      },
      "source": [
        "# **`Tuple`** <br>\n",
        "\n",
        "Benefit of using tuples:<br>\n",
        "* Faster then list\n",
        "* Provide security over updation => once created cannot be modefyied like list\n",
        "* Can be used as key for dictionarie\n",
        "* We generally use tuple for heterogeneous(different) datatypes and list for homogeneous (similar) datatypes\n",
        "* Since tuples are immutable, iterating through tuple is faster than with list. So there is a slight performance boost\n",
        "* Tuples that contain immutable elements can be used as a key for a dictionary. With lists, this is not possible\n",
        "* If you have data that doesn't change, implementing it as tuple will guarantee that it remains write-protected\n",
        "* We cannot edit/update or delete elements from the tuple"
      ]
    },
    {
      "cell_type": "code",
      "execution_count": null,
      "metadata": {
        "colab": {
          "base_uri": "https://localhost:8080/"
        },
        "execution": {
          "iopub.execute_input": "2021-12-13T09:25:57.996935Z",
          "iopub.status.busy": "2021-12-13T09:25:57.996637Z",
          "iopub.status.idle": "2021-12-13T09:25:58.003016Z",
          "shell.execute_reply": "2021-12-13T09:25:58.002305Z",
          "shell.execute_reply.started": "2021-12-13T09:25:57.996901Z"
        },
        "id": "Xpd2kVRirP4j",
        "outputId": "ea9a8dc6-1f98-4e98-93cb-267bc1918098",
        "trusted": true
      },
      "outputs": [],
      "source": [
        "# make a variable names as data_tuple with values 'krishna', 'mahadev', 'surya', 108, 11, 21, 'bhagwan', 6\n",
        "data_tuple = ('krishna', 'mahadev', 'surya', 108, 11, 21, 'bhagwan', 6)\n",
        "# print data_tuple\n",
        "print(data_tuple)\n",
        "# print type of data_tuple\n",
        "print(type(data_tuple))"
      ]
    },
    {
      "cell_type": "code",
      "execution_count": null,
      "metadata": {
        "colab": {
          "base_uri": "https://localhost:8080/"
        },
        "execution": {
          "iopub.execute_input": "2021-12-13T09:27:06.135979Z",
          "iopub.status.busy": "2021-12-13T09:27:06.135652Z",
          "iopub.status.idle": "2021-12-13T09:27:06.141415Z",
          "shell.execute_reply": "2021-12-13T09:27:06.140855Z",
          "shell.execute_reply.started": "2021-12-13T09:27:06.13594Z"
        },
        "id": "qFKzjV8DrP4j",
        "outputId": "1284e7a9-0208-41a6-8e5a-cb9870eb62de",
        "trusted": true
      },
      "outputs": [],
      "source": [
        "# make a variable named as data_tuple with values as 1,2,3,4,5\n",
        "data_tuple = (1,2,3,4,5)\n",
        "# Acess element at 2nd Index of data_tuple  #<= indexing work same as list as tuple is ordered data structure\n",
        "print(data_tuple[2])"
      ]
    },
    {
      "cell_type": "code",
      "execution_count": null,
      "metadata": {
        "colab": {
          "base_uri": "https://localhost:8080/"
        },
        "execution": {
          "iopub.execute_input": "2021-12-13T09:28:08.921542Z",
          "iopub.status.busy": "2021-12-13T09:28:08.921138Z",
          "iopub.status.idle": "2021-12-13T09:28:08.927847Z",
          "shell.execute_reply": "2021-12-13T09:28:08.926915Z",
          "shell.execute_reply.started": "2021-12-13T09:28:08.921511Z"
        },
        "id": "jdK6gHwprP4j",
        "outputId": "9c953f5f-223b-4273-da26-c04e79224462",
        "trusted": true
      },
      "outputs": [],
      "source": [
        "# think what will be the output of this code then run it\n",
        "data_tuple = ( (1,2,3,4,5),\n",
        "             (4,5,3,4,5),\n",
        "             (3,7,8,9,6) )\n",
        "\n",
        "data_tuple[2][2:4]\n",
        "\n",
        "\n",
        "\n",
        "# Views on why the output is the way it is"
      ]
    },
    {
      "cell_type": "code",
      "execution_count": null,
      "metadata": {
        "colab": {
          "base_uri": "https://localhost:8080/"
        },
        "execution": {
          "iopub.execute_input": "2021-12-13T09:30:54.043384Z",
          "iopub.status.busy": "2021-12-13T09:30:54.043064Z",
          "iopub.status.idle": "2021-12-13T09:30:54.049414Z",
          "shell.execute_reply": "2021-12-13T09:30:54.048781Z",
          "shell.execute_reply.started": "2021-12-13T09:30:54.043336Z"
        },
        "id": "AClKJufdrP4j",
        "outputId": "315f3ebb-3e72-4948-9956-28345239b4f5",
        "trusted": true
      },
      "outputs": [],
      "source": [
        "# find Index of any element, here index of 3 \n",
        "data_tuple = (1,2,3,4,5)\n",
        "   # <= 3 is at 2nd index as indexing start at zero\n",
        "data_tuple[2]"
      ]
    },
    {
      "cell_type": "code",
      "execution_count": null,
      "metadata": {
        "colab": {
          "base_uri": "https://localhost:8080/"
        },
        "execution": {
          "iopub.execute_input": "2021-12-13T09:31:11.760542Z",
          "iopub.status.busy": "2021-12-13T09:31:11.759923Z",
          "iopub.status.idle": "2021-12-13T09:31:11.767097Z",
          "shell.execute_reply": "2021-12-13T09:31:11.766314Z",
          "shell.execute_reply.started": "2021-12-13T09:31:11.760505Z"
        },
        "id": "xCtcvhjIrP4j",
        "outputId": "68ce0fab-a2eb-4376-b601-2a0ded039dc4",
        "trusted": true
      },
      "outputs": [],
      "source": [
        "# count of an element \n",
        "data_tuple = (1,2,3,4,5)\n",
        "# print how many time 4 have come \n",
        "print(data_tuple.count(4))\n",
        "\n",
        "data_tuple = (7,2,7,4,7)\n",
        "# print how many time 7 have come\n",
        "print(data_tuple.count(7)) "
      ]
    },
    {
      "cell_type": "code",
      "execution_count": null,
      "metadata": {
        "colab": {
          "base_uri": "https://localhost:8080/"
        },
        "execution": {
          "iopub.execute_input": "2021-12-13T09:32:03.156908Z",
          "iopub.status.busy": "2021-12-13T09:32:03.156111Z",
          "iopub.status.idle": "2021-12-13T09:32:03.162462Z",
          "shell.execute_reply": "2021-12-13T09:32:03.161615Z",
          "shell.execute_reply.started": "2021-12-13T09:32:03.156827Z"
        },
        "id": "4xAMDPSnrP4j",
        "outputId": "92d37e93-a086-4684-eb9a-df6c2e19328c",
        "trusted": true
      },
      "outputs": [],
      "source": [
        "# iterate through elements of tuple similar to list using for \n",
        "data_tuple = (7,2,7,4,7)\n",
        "for i in data_tuple:\n",
        "  print(i)"
      ]
    },
    {
      "cell_type": "code",
      "execution_count": null,
      "metadata": {
        "colab": {
          "base_uri": "https://localhost:8080/"
        },
        "execution": {
          "iopub.execute_input": "2021-12-13T09:32:27.691011Z",
          "iopub.status.busy": "2021-12-13T09:32:27.690197Z",
          "iopub.status.idle": "2021-12-13T09:32:27.698429Z",
          "shell.execute_reply": "2021-12-13T09:32:27.697623Z",
          "shell.execute_reply.started": "2021-12-13T09:32:27.690955Z"
        },
        "id": "90Fc9IK3rP4k",
        "outputId": "8e1f29d7-528b-4c87-cefe-b7c4059511eb",
        "trusted": true
      },
      "outputs": [],
      "source": [
        "# slicing in tuple\n",
        "data_tuple = (5,2,7,4,6)\n",
        "\n",
        "# slice and print first 2 element\n",
        "#<= exclude 2nd Index\n",
        "print(data_tuple[:2])\n",
        "\n",
        "# defining start pont as 2 and end poin as 4 to slice\n",
        "print(data_tuple[2:4])\n",
        "\n",
        "\n",
        "# by using count method on slice see how many time 2 comes\n",
        "#<= count of 2 if present\n",
        "print(data_tuple.count(2))\n",
        "\n",
        "# index method on slice\n",
        "print(   data_tuple[1:4].index(2)   ) #<= index of 2\n"
      ]
    },
    {
      "cell_type": "code",
      "execution_count": null,
      "metadata": {
        "colab": {
          "base_uri": "https://localhost:8080/",
          "height": 200
        },
        "execution": {
          "iopub.execute_input": "2021-12-13T09:34:00.566648Z",
          "iopub.status.busy": "2021-12-13T09:34:00.565926Z",
          "iopub.status.idle": "2021-12-13T09:34:00.58237Z",
          "shell.execute_reply": "2021-12-13T09:34:00.58128Z",
          "shell.execute_reply.started": "2021-12-13T09:34:00.566613Z"
        },
        "id": "SYHssmIhrP4k",
        "outputId": "8260c3e0-a609-4296-b399-1afc783640ab",
        "trusted": true
      },
      "outputs": [],
      "source": [
        "# Tuple immutable (cant update or delete elements from tuples)\n",
        "## this is one of the reasons it is fast in comparison to list\n",
        "data_tuple[2] = 1 #<= update at index-2 with 1, it will give error"
      ]
    },
    {
      "cell_type": "code",
      "execution_count": null,
      "metadata": {
        "colab": {
          "base_uri": "https://localhost:8080/"
        },
        "execution": {
          "iopub.execute_input": "2021-12-13T09:34:18.357129Z",
          "iopub.status.busy": "2021-12-13T09:34:18.356785Z",
          "iopub.status.idle": "2021-12-13T09:34:18.363026Z",
          "shell.execute_reply": "2021-12-13T09:34:18.361949Z",
          "shell.execute_reply.started": "2021-12-13T09:34:18.357068Z"
        },
        "id": "Z2biiRsirP4k",
        "outputId": "5bfb7717-5f35-425e-e425-1a25a9f62bc3",
        "trusted": true
      },
      "outputs": [],
      "source": [
        "data_tuple"
      ]
    },
    {
      "cell_type": "code",
      "execution_count": null,
      "metadata": {
        "colab": {
          "base_uri": "https://localhost:8080/",
          "height": 165
        },
        "execution": {
          "iopub.execute_input": "2021-12-13T09:34:27.001712Z",
          "iopub.status.busy": "2021-12-13T09:34:27.000985Z",
          "iopub.status.idle": "2021-12-13T09:34:27.016464Z",
          "shell.execute_reply": "2021-12-13T09:34:27.015451Z",
          "shell.execute_reply.started": "2021-12-13T09:34:27.001669Z"
        },
        "id": "KGFbjOiWrP4k",
        "outputId": "b88d6801-5f4f-442d-ffe6-55878ac6ea02",
        "trusted": true
      },
      "outputs": [],
      "source": [
        "del data_tuple[0] #<= del at index-0, again error\n"
      ]
    },
    {
      "attachments": {},
      "cell_type": "markdown",
      "metadata": {
        "id": "Mx7xKlWErP4k"
      },
      "source": [
        "<a id='13'></a><center> <h3 style=\"background-color:orange; color:white\" ><br>Assignment Python Data Structures List&Set<br></h3>"
      ]
    },
    {
      "attachments": {},
      "cell_type": "markdown",
      "metadata": {
        "id": "WvTU5e5QrP4k"
      },
      "source": [
        "# 💬 **List Problem Statement:**\n",
        "\n",
        "Say XYZ conducted an assessment test to hire a Data Scientist <br>\n",
        "Candidates were evaluated on 5 different subject `Statistics`, `Python`, `SQL`, `ML`, and `DeepLearning` <br> \n",
        "`Help XYZ team to find out answers of following questions` <br>\n",
        "\n",
        "💡 `Find out Who scored highest marks in Python?` <br>\n",
        "💡 `Find out average marks scored in subject SQL?` <br>\n",
        "💡 `Find out scored highest percentage of marks?` <br>\n",
        "💡 `If considered only top-4 subjects of a candidate, then who scored highest percentage of marks?` <br>\n"
      ]
    },
    {
      "cell_type": "code",
      "execution_count": null,
      "metadata": {
        "colab": {
          "base_uri": "https://localhost:8080/"
        },
        "execution": {
          "iopub.execute_input": "2021-12-11T07:48:04.967742Z",
          "iopub.status.busy": "2021-12-11T07:48:04.967414Z",
          "iopub.status.idle": "2021-12-11T07:48:04.979905Z",
          "shell.execute_reply": "2021-12-11T07:48:04.979017Z",
          "shell.execute_reply.started": "2021-12-11T07:48:04.96771Z"
        },
        "id": "Dz8vLyD8rP4k",
        "outputId": "5b9a8bf3-e21e-490c-d97c-f7af90d05ad1",
        "trusted": true
      },
      "outputs": [],
      "source": [
        "### Find out Who scored highest marks in Python? ###\n",
        "# student marks nested list\n",
        "student_marks = [['Name',['Statistics','Python','SQL','ML','DeepLearning']],\n",
        "                 ['Ananya',[41, 34, 45, 55, 63]],\n",
        "                 ['Akash',[42, 23, 34, 44, 53]],\n",
        "                 ['Rahul',[32, 23, 13, 54, 67]],\n",
        "                 ['Gyan',[23, 82, 23, 63, 34]],\n",
        "                 ['Pranav',[21, 23, 25, 56, 56]] ]\n",
        "\n",
        "# Find out Who scored highest marks in Python? using for loop, soorted and slicing\n",
        "python_marks = []\n",
        "# used for loop to get the student_names & marks only for python subject\n",
        "for i in range(1,len(student_marks)):\n",
        "  python_marks.append([student_marks[i][1][1],student_marks[i][0]])\n",
        "# sorted it based on the marks\n",
        "python_marks = sorted(python_marks)\n",
        "# \n",
        "python_marks[-1]"
      ]
    },
    {
      "cell_type": "code",
      "execution_count": null,
      "metadata": {
        "colab": {
          "base_uri": "https://localhost:8080/"
        },
        "execution": {
          "iopub.execute_input": "2021-12-11T07:50:08.48356Z",
          "iopub.status.busy": "2021-12-11T07:50:08.483261Z",
          "iopub.status.idle": "2021-12-11T07:50:08.490736Z",
          "shell.execute_reply": "2021-12-11T07:50:08.490115Z",
          "shell.execute_reply.started": "2021-12-11T07:50:08.483531Z"
        },
        "id": "4RNm9UT0rP4k",
        "outputId": "76749c41-4f41-49f6-a777-90dc5890fcc5",
        "trusted": true
      },
      "outputs": [],
      "source": [
        "### Find out average marks scored in subject SQL? ###\n",
        "sql_marks = []\n",
        "\n",
        "# Extracted col= name with SQL_data=marks\n",
        "for i in range(1,len(student_marks)):\n",
        "  sql_marks.append([student_marks[i][1][2],student_marks[i][0]])\n",
        "\n",
        "# Extracted only SQL_data=marks\n",
        "SQL_data = [sql_marks[m][0] for m in range(len(sql_marks))]\n",
        "\n",
        "# mathematical operation\n",
        "avg_of_SQL_marks = sum(SQL_data)/len(sql_marks)\n",
        "\n",
        "print('avg_of_SQL_marks:',avg_of_SQL_marks)"
      ]
    },
    {
      "cell_type": "code",
      "execution_count": null,
      "metadata": {
        "colab": {
          "base_uri": "https://localhost:8080/"
        },
        "execution": {
          "iopub.execute_input": "2021-12-11T07:51:33.252381Z",
          "iopub.status.busy": "2021-12-11T07:51:33.25188Z",
          "iopub.status.idle": "2021-12-11T07:55:09.52883Z",
          "shell.execute_reply": "2021-12-11T07:55:09.527987Z",
          "shell.execute_reply.started": "2021-12-11T07:51:33.252342Z"
        },
        "id": "wz8BshX9rP4k",
        "outputId": "d0c472c5-c161-4a0a-f72a-0caaf85fba47",
        "trusted": true
      },
      "outputs": [],
      "source": [
        "### Find out scored highest percentage of marks? ###\n",
        "num_sub = 5\n",
        "max_mark = 70\n",
        "print(f\"Maximum marks for each subject:{max_mark}\\nNumber of Subjects:{num_sub}\")\n",
        "print()\n",
        "for i in range(1,len(student_marks)):\n",
        "  print(f\"name: {student_marks[i][0]}\")\n",
        "  print(f\"marks: {student_marks[i][1]}\")\n",
        "  print()\n",
        "# name: Ananya\n",
        "# marks: [41, 34, 45, 55, 63]\n",
        "total_marks = []\n",
        "for i in range(1,len(student_marks)):\n",
        "  total_marks.append([sum(student_marks[i][1]),student_marks[i][0]])\n",
        "\n",
        "print(total_marks)\n",
        "print()\n",
        "\n",
        "avg_of_ALL_marks = []\n",
        "for i in range(len(total_marks)):\n",
        "  avg_of_ALL_marks.append([total_marks[i][0]/(num_sub*max_mark)*100,total_marks[i][1]])\n",
        "\n",
        "avg_of_ALL_marks = sorted(avg_of_ALL_marks)\n",
        "\n",
        "print(f\"Topper percentage is: {avg_of_ALL_marks[-1][0]:{2}} % Name is: {avg_of_ALL_marks[-1][1]}\")"
      ]
    },
    {
      "cell_type": "code",
      "execution_count": null,
      "metadata": {
        "colab": {
          "base_uri": "https://localhost:8080/"
        },
        "execution": {
          "iopub.execute_input": "2021-12-11T07:58:52.945655Z",
          "iopub.status.busy": "2021-12-11T07:58:52.945371Z",
          "iopub.status.idle": "2021-12-11T07:58:58.969944Z",
          "shell.execute_reply": "2021-12-11T07:58:58.96934Z",
          "shell.execute_reply.started": "2021-12-11T07:58:52.945623Z"
        },
        "id": "5iPh1wnDrP4k",
        "outputId": "f233cf6e-adbb-498f-e636-6e2046c9baac",
        "trusted": true
      },
      "outputs": [],
      "source": [
        "### solv for `If considered only top-4 subjects of a candidate, then who scored the highest percentage of marks?` ###\n",
        "student_marks = [['Name',['Statistics','Python','SQL','ML','DeepLearning']],\n",
        "                 ['Ananya',[41, 34, 45, 55, 63]],\n",
        "                 ['Akash',[42, 23, 34, 44, 53]],\n",
        "                 ['Rahul',[32, 23, 13, 54, 67]],\n",
        "                 ['Gyan',[23, 82, 23, 63, 34]],\n",
        "                 ['Pranav',[21, 23, 25, 56, 56]] ]\n",
        "num_sub = 5\n",
        "max_mark = 70\n",
        "\n",
        "student_sorted_marks =[]\n",
        "for i in range(1,len(student_marks)):\n",
        "  student_sorted_marks.append([sorted(student_marks[i][1],reverse=True),student_marks[i][0]])\n",
        "\n",
        "student_top4_marks = []\n",
        "for i in range(len(student_marks[0][1])):\n",
        "  student_top4_marks.append([sum(student_sorted_marks[i][0][0:-1]),student_sorted_marks[i][1]])\n",
        "\n",
        "print(student_top4_marks)\n",
        "print()\n",
        "\n",
        "avg_of_ALL_marks = []\n",
        "for i in range(len(student_top4_marks)):\n",
        "  avg_of_ALL_marks.append([student_top4_marks[i][0]/(num_sub*max_mark)*100,student_top4_marks[i][1]])\n",
        "\n",
        "avg_of_ALL_marks = sorted(avg_of_ALL_marks)\n",
        "\n",
        "print(f\"Topper percentage(in Top 4 subjects) is: {round(avg_of_ALL_marks[-1][0])} % Name is: {avg_of_ALL_marks[-1][1]}\")\n",
        "\n",
        "\n"
      ]
    },
    {
      "attachments": {},
      "cell_type": "markdown",
      "metadata": {
        "id": "BM93iUT5rP4l"
      },
      "source": [
        "----"
      ]
    },
    {
      "attachments": {},
      "cell_type": "markdown",
      "metadata": {
        "id": "XsNXA8nhrP4l"
      },
      "source": [
        "# **`Sets`**\n",
        "* Unordered collection of elements (if you put some data in order inside  set it will discard order)\n",
        "    * It shorts elements by itself (see below example)\n",
        "* No duplicates only unique values\n",
        "    * Put duplicates in set it will auto remove them\n",
        "* Mutable can add, remove values\n",
        "* Set Theory operations are possible like Union,Intersection etc...\n",
        "    * `intersection` of 2 sets => set_1.intersection(set_2)\n",
        "    * `union` of 2 sets => set_1.union(set_2) .."
      ]
    },
    {
      "cell_type": "code",
      "execution_count": null,
      "metadata": {
        "colab": {
          "base_uri": "https://localhost:8080/"
        },
        "execution": {
          "iopub.execute_input": "2021-12-13T10:35:08.133731Z",
          "iopub.status.busy": "2021-12-13T10:35:08.133473Z",
          "iopub.status.idle": "2021-12-13T10:35:08.139556Z",
          "shell.execute_reply": "2021-12-13T10:35:08.138794Z",
          "shell.execute_reply.started": "2021-12-13T10:35:08.133703Z"
        },
        "id": "DLSJiWUSrP4l",
        "outputId": "cc89bf55-a5e0-4e3c-94b5-c0288b74806c",
        "trusted": true
      },
      "outputs": [],
      "source": [
        "# define set named as set_ with values 'b','c','a','z'\n",
        "set_ = {'b','c','a','z'}\n",
        "# print set\n",
        "print(set_)\n"
      ]
    },
    {
      "cell_type": "code",
      "execution_count": null,
      "metadata": {
        "colab": {
          "base_uri": "https://localhost:8080/"
        },
        "execution": {
          "iopub.execute_input": "2021-12-13T10:34:31.33395Z",
          "iopub.status.busy": "2021-12-13T10:34:31.333664Z",
          "iopub.status.idle": "2021-12-13T10:34:31.340853Z",
          "shell.execute_reply": "2021-12-13T10:34:31.339951Z",
          "shell.execute_reply.started": "2021-12-13T10:34:31.333921Z"
        },
        "id": "ifReR9qIrP4l",
        "outputId": "3346d97a-a4be-4672-f811-55c100defe2a",
        "trusted": true
      },
      "outputs": [],
      "source": [
        "# define list namead as frt with elements as 'mango','banana','mango','banana'\n",
        "frt = ['mango','banana','mango','banana']\n",
        "# define a set named as set_ with elements as 'mango','banana','mango','banana'\n",
        "set_ = {'mango','banana','mango','banana'}\n",
        "# print set\n",
        "print(set_)"
      ]
    },
    {
      "cell_type": "code",
      "execution_count": null,
      "metadata": {
        "colab": {
          "base_uri": "https://localhost:8080/"
        },
        "execution": {
          "iopub.execute_input": "2021-12-13T10:35:53.059133Z",
          "iopub.status.busy": "2021-12-13T10:35:53.058813Z",
          "iopub.status.idle": "2021-12-13T10:35:53.065121Z",
          "shell.execute_reply": "2021-12-13T10:35:53.064528Z",
          "shell.execute_reply.started": "2021-12-13T10:35:53.0591Z"
        },
        "id": "14_MnlmYrP4l",
        "outputId": "000f1811-427c-4c63-d34f-f48ea951447e",
        "trusted": true
      },
      "outputs": [],
      "source": [
        "# make a set named as set_data and values as 4,'A',5,1,'V','L'\n",
        "set_data = {4,'A',5,1,'V','L'}\n",
        "# print set_data #<= results are shorted\n",
        "print(set_data)\n",
        "\n"
      ]
    },
    {
      "cell_type": "code",
      "execution_count": null,
      "metadata": {
        "colab": {
          "base_uri": "https://localhost:8080/"
        },
        "execution": {
          "iopub.execute_input": "2021-12-13T10:36:04.201965Z",
          "iopub.status.busy": "2021-12-13T10:36:04.201399Z",
          "iopub.status.idle": "2021-12-13T10:36:04.207641Z",
          "shell.execute_reply": "2021-12-13T10:36:04.206918Z",
          "shell.execute_reply.started": "2021-12-13T10:36:04.201927Z"
        },
        "id": "HxKlhWFIrP4l",
        "outputId": "f51760d5-f021-432e-ff85-24322ac293fa",
        "trusted": true
      },
      "outputs": [],
      "source": [
        "# No duplicates only unique values\n",
        "# make a set named as set_data and values as 4,4,5,1,'V','V'\n",
        "set_data = {4,4,5,1,'V','V'}\n",
        "# print set_data\n",
        "print(set_data)\n",
        "\n",
        "\n"
      ]
    },
    {
      "cell_type": "code",
      "execution_count": null,
      "metadata": {
        "colab": {
          "base_uri": "https://localhost:8080/"
        },
        "execution": {
          "iopub.execute_input": "2021-12-13T10:37:15.539051Z",
          "iopub.status.busy": "2021-12-13T10:37:15.538461Z",
          "iopub.status.idle": "2021-12-13T10:37:15.544971Z",
          "shell.execute_reply": "2021-12-13T10:37:15.544206Z",
          "shell.execute_reply.started": "2021-12-13T10:37:15.539016Z"
        },
        "id": "EMm2IUSSrP4l",
        "outputId": "84a45bb7-b962-46ca-9d82-d0122a3821f1",
        "trusted": true
      },
      "outputs": [],
      "source": [
        "# make tuple named  as tuple_data with values as 'A', 'B', 1, 2, 'B', 'A'\n",
        "tuple_data = ('A', 'B', 1, 2, 'B', 'A')\n",
        "# make a variable names as var_1 and convert it into set \n",
        "var_1 = set(tuple_data)\n",
        "# peint var_1\n",
        "print(var_1)\n",
        "\n",
        "\n"
      ]
    },
    {
      "cell_type": "code",
      "execution_count": null,
      "metadata": {
        "colab": {
          "base_uri": "https://localhost:8080/"
        },
        "execution": {
          "iopub.execute_input": "2021-12-13T10:36:12.493797Z",
          "iopub.status.busy": "2021-12-13T10:36:12.493525Z",
          "iopub.status.idle": "2021-12-13T10:36:12.500748Z",
          "shell.execute_reply": "2021-12-13T10:36:12.499845Z",
          "shell.execute_reply.started": "2021-12-13T10:36:12.493769Z"
        },
        "id": "Qs0Fw69SrP4l",
        "outputId": "7bb70fe0-712b-4e7d-9706-901cf0c0c2a8",
        "trusted": true
      },
      "outputs": [],
      "source": [
        "# Defining a set using a List \n",
        "# define a list named as list_data with values as  'A', 'B', 1, 2, 'B', 'A'] # this is a list with duplicate data\n",
        "list_data = ['A', 'B', 1, 2, 'B', 'A']\n",
        "# change set_from_list to  set # set will remove duplicates\n",
        "set_from_list = set(list_data)\n",
        "# print set_from_list)\n",
        "print(set_from_list)\n",
        "# Defining a set using a Tuple named as tuple_data with values as 'A', 'B', 1, 2, 'B', 'A'\n",
        "tuple_data = ('A', 'B', 1, 2, 'B', 'A')\n",
        "# make variable named as set_from_tuple, change tuple_data into set\n",
        "set_from_tuple = set(tuple_data)\n",
        "# print set_from_tuple)\n",
        "print(set_from_tuple)\n",
        "\n",
        "\n"
      ]
    },
    {
      "cell_type": "code",
      "execution_count": null,
      "metadata": {
        "colab": {
          "base_uri": "https://localhost:8080/"
        },
        "execution": {
          "iopub.execute_input": "2021-12-13T10:37:33.379859Z",
          "iopub.status.busy": "2021-12-13T10:37:33.379214Z",
          "iopub.status.idle": "2021-12-13T10:37:33.385068Z",
          "shell.execute_reply": "2021-12-13T10:37:33.383741Z",
          "shell.execute_reply.started": "2021-12-13T10:37:33.379825Z"
        },
        "id": "-zK2B4EVrP4m",
        "outputId": "eb3b6735-4eb3-47be-af94-cfc78d3d8a6a",
        "trusted": true
      },
      "outputs": [],
      "source": [
        "# see set_from_tuple output\n",
        "\n",
        "set_from_tuple\n"
      ]
    },
    {
      "cell_type": "code",
      "execution_count": null,
      "metadata": {
        "colab": {
          "base_uri": "https://localhost:8080/"
        },
        "execution": {
          "iopub.execute_input": "2021-12-13T10:37:50.051518Z",
          "iopub.status.busy": "2021-12-13T10:37:50.051093Z",
          "iopub.status.idle": "2021-12-13T10:37:50.056057Z",
          "shell.execute_reply": "2021-12-13T10:37:50.055307Z",
          "shell.execute_reply.started": "2021-12-13T10:37:50.051475Z"
        },
        "id": "IbTLUsjZrP4m",
        "outputId": "74b2b674-b4fd-40e5-ff03-04b0779e2cd9",
        "trusted": true
      },
      "outputs": [],
      "source": [
        "# add 0 to set_from_tuple\n",
        "# print set_from_tuple\n",
        "set_from_tuple.add(0)\n",
        "print(set_from_tuple)\n",
        "\n"
      ]
    },
    {
      "cell_type": "code",
      "execution_count": null,
      "metadata": {
        "colab": {
          "base_uri": "https://localhost:8080/"
        },
        "execution": {
          "iopub.execute_input": "2021-12-13T10:38:42.235906Z",
          "iopub.status.busy": "2021-12-13T10:38:42.235458Z",
          "iopub.status.idle": "2021-12-13T10:38:42.241784Z",
          "shell.execute_reply": "2021-12-13T10:38:42.241004Z",
          "shell.execute_reply.started": "2021-12-13T10:38:42.235854Z"
        },
        "id": "1UvNVglBrP4m",
        "outputId": "f5654386-9a5c-4de2-ad61-14d5a6f3ac61",
        "trusted": true
      },
      "outputs": [],
      "source": [
        "# make variable named as set_ with values as 'b','c','a','z'\n",
        "set_ = {'b','c','a','z'}\n",
        "# print set_\n",
        "\n",
        "print(set_)\n"
      ]
    },
    {
      "cell_type": "code",
      "execution_count": null,
      "metadata": {
        "colab": {
          "base_uri": "https://localhost:8080/"
        },
        "execution": {
          "iopub.execute_input": "2021-12-13T10:39:16.170247Z",
          "iopub.status.busy": "2021-12-13T10:39:16.169691Z",
          "iopub.status.idle": "2021-12-13T10:39:16.176298Z",
          "shell.execute_reply": "2021-12-13T10:39:16.175352Z",
          "shell.execute_reply.started": "2021-12-13T10:39:16.170208Z"
        },
        "id": "AtqlCQhwrP4m",
        "outputId": "a4e5f9c4-4e81-4352-89ef-9c0c06625b2c",
        "trusted": true
      },
      "outputs": [],
      "source": [
        "# add x to set_\n",
        "set_.add('x')\n",
        "# print set_\n",
        "print(set_)\n",
        "\n"
      ]
    },
    {
      "cell_type": "code",
      "execution_count": null,
      "metadata": {
        "colab": {
          "base_uri": "https://localhost:8080/"
        },
        "execution": {
          "iopub.execute_input": "2021-12-11T06:15:31.956351Z",
          "iopub.status.busy": "2021-12-11T06:15:31.956065Z",
          "iopub.status.idle": "2021-12-11T06:15:31.960879Z",
          "shell.execute_reply": "2021-12-11T06:15:31.960304Z",
          "shell.execute_reply.started": "2021-12-11T06:15:31.956323Z"
        },
        "id": "cDyIT-tlrP4m",
        "outputId": "30a842ed-25cc-4133-fae2-85f8fc2da66a",
        "trusted": true
      },
      "outputs": [],
      "source": [
        "# Add 0 to set set_from_tuple\n",
        "# print set_from_tuple # 0 is added at the starting of set, as set orders by itself\n",
        "set_from_tuple.add(0)\n",
        "print(set_from_tuple)\n",
        "\n",
        "\n",
        "# adding C to set set_from_tuple\n",
        "# print set_from_tuple # c is added at the last of set, as set orders by itself\n",
        "set_from_tuple.add('C')\n",
        "print(set_from_tuple)\n",
        "\n",
        "\n",
        "\n"
      ]
    },
    {
      "attachments": {},
      "cell_type": "markdown",
      "metadata": {
        "id": "EDd-kK1ZrP4m"
      },
      "source": [
        "# delete element from set"
      ]
    },
    {
      "cell_type": "code",
      "execution_count": null,
      "metadata": {
        "colab": {
          "base_uri": "https://localhost:8080/"
        },
        "execution": {
          "iopub.execute_input": "2021-12-13T10:39:44.118756Z",
          "iopub.status.busy": "2021-12-13T10:39:44.118476Z",
          "iopub.status.idle": "2021-12-13T10:39:44.124827Z",
          "shell.execute_reply": "2021-12-13T10:39:44.123926Z",
          "shell.execute_reply.started": "2021-12-13T10:39:44.118721Z"
        },
        "id": "aN2nrR1arP4m",
        "outputId": "b1ddc581-b89a-4f53-d2fe-3ea4d83e385c",
        "trusted": true
      },
      "outputs": [],
      "source": [
        "# see output of set_from_tuple\n",
        "set_from_tuple\n",
        "\n"
      ]
    },
    {
      "cell_type": "code",
      "execution_count": null,
      "metadata": {
        "colab": {
          "base_uri": "https://localhost:8080/"
        },
        "execution": {
          "iopub.execute_input": "2021-12-13T10:40:23.456723Z",
          "iopub.status.busy": "2021-12-13T10:40:23.456412Z",
          "iopub.status.idle": "2021-12-13T10:40:23.464155Z",
          "shell.execute_reply": "2021-12-13T10:40:23.46307Z",
          "shell.execute_reply.started": "2021-12-13T10:40:23.456685Z"
        },
        "id": "j6igfM8nrP4m",
        "outputId": "5353e2ef-cc19-4839-eb19-9232024cb54d",
        "trusted": true
      },
      "outputs": [],
      "source": [
        "# use discard to remove 0 from set_from_tuple\n",
        "set_from_tuple.discard(0)\n",
        "# see output of set_from_tuple\n",
        "\n",
        "set_from_tuple\n"
      ]
    },
    {
      "cell_type": "code",
      "execution_count": null,
      "metadata": {
        "colab": {
          "base_uri": "https://localhost:8080/"
        },
        "execution": {
          "iopub.execute_input": "2021-12-13T10:40:39.372555Z",
          "iopub.status.busy": "2021-12-13T10:40:39.372293Z",
          "iopub.status.idle": "2021-12-13T10:40:39.378787Z",
          "shell.execute_reply": "2021-12-13T10:40:39.377808Z",
          "shell.execute_reply.started": "2021-12-13T10:40:39.372528Z"
        },
        "id": "1nehzTjkrP4m",
        "outputId": "a0a1058a-c764-4d37-fb64-13b4914cb4b6",
        "trusted": true
      },
      "outputs": [],
      "source": [
        "# from set_from_tuple discard 9 \n",
        "# print set_from_tuple\n",
        "\n",
        "set_from_tuple.discard(9)\n",
        "set_from_tuple\n",
        "\n"
      ]
    },
    {
      "cell_type": "code",
      "execution_count": null,
      "metadata": {
        "colab": {
          "base_uri": "https://localhost:8080/",
          "height": 235
        },
        "execution": {
          "iopub.execute_input": "2021-12-11T06:18:45.979547Z",
          "iopub.status.busy": "2021-12-11T06:18:45.978965Z",
          "iopub.status.idle": "2021-12-11T06:18:45.983234Z",
          "shell.execute_reply": "2021-12-11T06:18:45.982497Z",
          "shell.execute_reply.started": "2021-12-11T06:18:45.979512Z"
        },
        "id": "aMvJSw36rP4m",
        "outputId": "96013b33-5351-4f8a-8459-bb04595a5d03",
        "trusted": true
      },
      "outputs": [],
      "source": [
        "# delete element from set (two methods are as)\n",
        "## discard() : if element not in set, it will not show error\n",
        "## remove() : if element not in set, it will show error\n",
        "set_from_tuple.discard(0.0)\n",
        "set_from_tuple.remove(0.0)\n",
        "\n",
        "\n",
        "\n"
      ]
    },
    {
      "attachments": {},
      "cell_type": "markdown",
      "metadata": {
        "id": "GzSBD7aarP4n"
      },
      "source": [
        "# Difference b/w two set (set_1 - set_2)"
      ]
    },
    {
      "cell_type": "code",
      "execution_count": null,
      "metadata": {
        "colab": {
          "base_uri": "https://localhost:8080/"
        },
        "execution": {
          "iopub.execute_input": "2021-12-13T10:43:00.404461Z",
          "iopub.status.busy": "2021-12-13T10:43:00.403679Z",
          "iopub.status.idle": "2021-12-13T10:43:00.411534Z",
          "shell.execute_reply": "2021-12-13T10:43:00.410581Z",
          "shell.execute_reply.started": "2021-12-13T10:43:00.404418Z"
        },
        "id": "yUJSP6ggrP4n",
        "outputId": "f06e1c1d-f9e2-4ee0-8830-397eec73de0f",
        "trusted": true
      },
      "outputs": [],
      "source": [
        "# set_1 - set_2 => states that, collect every element of set_1 after removing thouse element which are common in set_1 and set_2 \n",
        "\n",
        "# define a set named as set_1 with elements as 1,2,3,'A','B'\n",
        "set_1 = {1,2,3,'A','B'}\n",
        "# define a set named as set_2 with elements as 3,'A'\n",
        "set_2 = {3,'A'}\n",
        "# difference of set_1 and set_2\n",
        "set_1 - set_2\n",
        "# see difference between set_1 and set_2)\n",
        "print(set_1 - set_2)\n",
        "# print set_1\n",
        "print(set_1)\n",
        "\n"
      ]
    },
    {
      "cell_type": "code",
      "execution_count": null,
      "metadata": {
        "colab": {
          "base_uri": "https://localhost:8080/"
        },
        "execution": {
          "iopub.execute_input": "2021-12-13T10:43:13.854716Z",
          "iopub.status.busy": "2021-12-13T10:43:13.85441Z",
          "iopub.status.idle": "2021-12-13T10:43:13.860912Z",
          "shell.execute_reply": "2021-12-13T10:43:13.860085Z",
          "shell.execute_reply.started": "2021-12-13T10:43:13.85468Z"
        },
        "id": "2iJJJttErP4n",
        "outputId": "f5d54b40-0d3f-436c-b630-afcfa6344388",
        "trusted": true
      },
      "outputs": [],
      "source": [
        "# if you want ot update set_1 by difference\n",
        "\n",
        "# using difference_update update set_1 and set_2\n",
        "set_1.difference_update(set_2)\n",
        "# print set_1\n",
        "print(set_1)\n",
        "\n",
        "\n"
      ]
    },
    {
      "attachments": {},
      "cell_type": "markdown",
      "metadata": {
        "id": "M-ocEPqmrP4n"
      },
      "source": [
        "# Intersection b/w two set (set_1 - set_2)"
      ]
    },
    {
      "cell_type": "code",
      "execution_count": null,
      "metadata": {
        "colab": {
          "base_uri": "https://localhost:8080/"
        },
        "execution": {
          "iopub.execute_input": "2021-12-13T10:43:58.377355Z",
          "iopub.status.busy": "2021-12-13T10:43:58.377047Z",
          "iopub.status.idle": "2021-12-13T10:43:58.384648Z",
          "shell.execute_reply": "2021-12-13T10:43:58.383813Z",
          "shell.execute_reply.started": "2021-12-13T10:43:58.377316Z"
        },
        "id": "o25pTFa5rP4n",
        "outputId": "951280fe-eb63-4730-d933-0a052f081613",
        "trusted": true
      },
      "outputs": [],
      "source": [
        "# collect only elements which are common b/w both sets\n",
        "set_1 = {1,2,3,'A','B'}\n",
        "set_2 = {3,'A'}\n",
        "set_1.intersection(set_2)\n",
        "set_1"
      ]
    },
    {
      "cell_type": "code",
      "execution_count": null,
      "metadata": {
        "colab": {
          "base_uri": "https://localhost:8080/"
        },
        "execution": {
          "iopub.execute_input": "2021-12-13T10:44:04.443196Z",
          "iopub.status.busy": "2021-12-13T10:44:04.442569Z",
          "iopub.status.idle": "2021-12-13T10:44:04.449452Z",
          "shell.execute_reply": "2021-12-13T10:44:04.448782Z",
          "shell.execute_reply.started": "2021-12-13T10:44:04.44314Z"
        },
        "id": "ONav5Mx6rP4n",
        "outputId": "94574a6a-2d30-41b2-d310-706e7e9e1811",
        "trusted": true
      },
      "outputs": [],
      "source": [
        "# if you want ot update set_1 by intersection\n",
        "set_1.intersection_update(set_2)\n",
        "set_1"
      ]
    },
    {
      "attachments": {},
      "cell_type": "markdown",
      "metadata": {
        "id": "1F9jH1x7rP4n"
      },
      "source": [
        "----"
      ]
    },
    {
      "attachments": {},
      "cell_type": "markdown",
      "metadata": {
        "id": "1jNZ_aKnrP4n"
      },
      "source": [
        "# **`Dictionary`** => `key:value`\n",
        "* Unordered data structure\n",
        "* Collection of multiple lists can say, looks like set{} but have {key:value} pairs for storing elements\n",
        "    * student_information is a dictionay and it have name,age,email,adress etc store in form of list how see bellow example\n",
        "* `Element of dictionary can only be acessed by using key not Index`\n",
        "* Every key must be unique\n",
        "\n",
        "`{} -> curly brac`"
      ]
    },
    {
      "cell_type": "code",
      "execution_count": null,
      "metadata": {
        "execution": {
          "iopub.execute_input": "2021-12-13T09:55:55.008155Z",
          "iopub.status.busy": "2021-12-13T09:55:55.007857Z",
          "iopub.status.idle": "2021-12-13T09:55:55.016151Z",
          "shell.execute_reply": "2021-12-13T09:55:55.015078Z",
          "shell.execute_reply.started": "2021-12-13T09:55:55.008123Z"
        },
        "id": "vhdeUMEarP4n",
        "trusted": true
      },
      "outputs": [],
      "source": [
        "# student details\n",
        "names = ['Viranda','Sandhu','Rama','Yoga']\n",
        "height = [120,130,140,150]\n",
        "weight = [56,60,45,90]\n",
        "age = [23,34,56,55]\n",
        "\n",
        "\"\"\"\n",
        "dict = { key:values }\n",
        "\"\"\"\n",
        "\n",
        "### storing all these 4 lists in a dict using key:value  # once data structure inside other\n",
        "student_details_dict = {\n",
        "    'names' : ['Viranda','Sandhu','Rama','Yoga'],\n",
        "    'height' : [120,130,140,150],\n",
        "    'weight' : [56,60,45,90],\n",
        "    'age' : [23,34,56,55]\n",
        "}"
      ]
    },
    {
      "attachments": {},
      "cell_type": "markdown",
      "metadata": {
        "id": "FFiDiI_PrP4o"
      },
      "source": [
        "* Above name,height are the `key` and list's data are the `value pair` associated with the key\n",
        "    * can say each key is mapped to multiple values\n",
        "* Above is the representation of advanced data structure as you can see list inside a dictionary"
      ]
    },
    {
      "cell_type": "code",
      "execution_count": null,
      "metadata": {
        "colab": {
          "base_uri": "https://localhost:8080/",
          "height": 200
        },
        "execution": {
          "iopub.execute_input": "2021-12-13T09:57:01.9233Z",
          "iopub.status.busy": "2021-12-13T09:57:01.923008Z",
          "iopub.status.idle": "2021-12-13T09:57:01.940278Z",
          "shell.execute_reply": "2021-12-13T09:57:01.939181Z",
          "shell.execute_reply.started": "2021-12-13T09:57:01.92327Z"
        },
        "id": "E-Fr1AeJrP4o",
        "outputId": "ffe9a8a3-d7fa-4962-ceab-30a2b3cbac2d",
        "trusted": true
      },
      "outputs": [],
      "source": [
        "### Acessing elements of dict ###\n",
        "student_details_dict = {\n",
        "    'names' : ['Ohm','Sandhu','Rama','Yoga'],\n",
        "    'height' : [120,130,140,150],\n",
        "    'weight' : [56,60,45,90],\n",
        "    'age' : [23,34,56,55]\n",
        "}\n",
        "\n",
        "# trying to acess using index will give error\n",
        "student_details_dict[0]"
      ]
    },
    {
      "cell_type": "code",
      "execution_count": null,
      "metadata": {
        "colab": {
          "base_uri": "https://localhost:8080/"
        },
        "execution": {
          "iopub.execute_input": "2021-12-13T09:58:13.100392Z",
          "iopub.status.busy": "2021-12-13T09:58:13.100091Z",
          "iopub.status.idle": "2021-12-13T09:58:13.106757Z",
          "shell.execute_reply": "2021-12-13T09:58:13.105836Z",
          "shell.execute_reply.started": "2021-12-13T09:58:13.100356Z"
        },
        "id": "yBZ4q0E2rP4o",
        "outputId": "d4469213-3261-4d7f-efcb-edbb40e580ec",
        "trusted": true
      },
      "outputs": [],
      "source": [
        "student_details_dict['age']"
      ]
    },
    {
      "cell_type": "code",
      "execution_count": null,
      "metadata": {
        "colab": {
          "base_uri": "https://localhost:8080/"
        },
        "execution": {
          "iopub.execute_input": "2021-12-13T09:58:55.922743Z",
          "iopub.status.busy": "2021-12-13T09:58:55.922327Z",
          "iopub.status.idle": "2021-12-13T09:58:55.928051Z",
          "shell.execute_reply": "2021-12-13T09:58:55.927326Z",
          "shell.execute_reply.started": "2021-12-13T09:58:55.92271Z"
        },
        "id": "82I92AVerP4o",
        "outputId": "bba262c5-feb8-463f-df9e-8cacd9810d70",
        "trusted": true
      },
      "outputs": [],
      "source": [
        "student_details_dict"
      ]
    },
    {
      "cell_type": "code",
      "execution_count": null,
      "metadata": {
        "colab": {
          "base_uri": "https://localhost:8080/",
          "height": 35
        },
        "execution": {
          "iopub.execute_input": "2021-12-13T10:00:03.888355Z",
          "iopub.status.busy": "2021-12-13T10:00:03.888062Z",
          "iopub.status.idle": "2021-12-13T10:00:03.894125Z",
          "shell.execute_reply": "2021-12-13T10:00:03.8932Z",
          "shell.execute_reply.started": "2021-12-13T10:00:03.888323Z"
        },
        "id": "fTkrcNdCrP4o",
        "outputId": "fd84ef72-5c98-4abd-c4c1-3d1bec1dd016",
        "trusted": true
      },
      "outputs": [],
      "source": [
        "student_details_dict['names'][-1]"
      ]
    },
    {
      "cell_type": "code",
      "execution_count": null,
      "metadata": {
        "colab": {
          "base_uri": "https://localhost:8080/"
        },
        "execution": {
          "iopub.execute_input": "2021-12-13T09:57:39.804977Z",
          "iopub.status.busy": "2021-12-13T09:57:39.804262Z",
          "iopub.status.idle": "2021-12-13T09:57:39.810231Z",
          "shell.execute_reply": "2021-12-13T09:57:39.809595Z",
          "shell.execute_reply.started": "2021-12-13T09:57:39.804939Z"
        },
        "id": "5HnJNpSVrP4o",
        "outputId": "dc058aef-ac03-49ed-9e02-23f60304299b",
        "trusted": true
      },
      "outputs": [],
      "source": [
        "# trying to acess using key will give error\n",
        "\n",
        "print(student_details_dict['names'],'\\n')\n",
        "\n",
        "#getting into name key values\n",
        "print(student_details_dict['names'][1:])"
      ]
    },
    {
      "cell_type": "code",
      "execution_count": null,
      "metadata": {
        "colab": {
          "base_uri": "https://localhost:8080/"
        },
        "execution": {
          "iopub.execute_input": "2021-12-13T10:00:32.522566Z",
          "iopub.status.busy": "2021-12-13T10:00:32.522274Z",
          "iopub.status.idle": "2021-12-13T10:00:32.528149Z",
          "shell.execute_reply": "2021-12-13T10:00:32.527394Z",
          "shell.execute_reply.started": "2021-12-13T10:00:32.522535Z"
        },
        "id": "MkV-hbCLrP4o",
        "outputId": "34cf9c97-0a58-4c2d-c70d-584432daf8c0",
        "trusted": true
      },
      "outputs": [],
      "source": [
        "### Acessing keys ###\n",
        "student_details_dict.keys()"
      ]
    },
    {
      "cell_type": "code",
      "execution_count": null,
      "metadata": {
        "colab": {
          "base_uri": "https://localhost:8080/"
        },
        "execution": {
          "iopub.execute_input": "2021-12-13T10:00:42.766841Z",
          "iopub.status.busy": "2021-12-13T10:00:42.766539Z",
          "iopub.status.idle": "2021-12-13T10:00:42.772659Z",
          "shell.execute_reply": "2021-12-13T10:00:42.771701Z",
          "shell.execute_reply.started": "2021-12-13T10:00:42.766808Z"
        },
        "id": "sxApYLKkrP4o",
        "outputId": "49284c85-3024-4974-b2c9-e70bf90c78a8",
        "trusted": true
      },
      "outputs": [],
      "source": [
        "### Acessing values ###\n",
        "student_details_dict.values()"
      ]
    },
    {
      "attachments": {},
      "cell_type": "markdown",
      "metadata": {
        "id": "PpsBjTaVrP4o"
      },
      "source": [
        "# Adding single element to dictionary"
      ]
    },
    {
      "cell_type": "code",
      "execution_count": null,
      "metadata": {
        "colab": {
          "base_uri": "https://localhost:8080/"
        },
        "execution": {
          "iopub.execute_input": "2021-12-13T10:01:17.756917Z",
          "iopub.status.busy": "2021-12-13T10:01:17.756443Z",
          "iopub.status.idle": "2021-12-13T10:01:17.762487Z",
          "shell.execute_reply": "2021-12-13T10:01:17.761665Z",
          "shell.execute_reply.started": "2021-12-13T10:01:17.756852Z"
        },
        "id": "_FBTPjTZrP4p",
        "outputId": "f53af9de-c5de-4233-c094-38282d1f3fc1",
        "trusted": true
      },
      "outputs": [],
      "source": [
        "student_details_dict"
      ]
    },
    {
      "cell_type": "code",
      "execution_count": null,
      "metadata": {
        "colab": {
          "base_uri": "https://localhost:8080/"
        },
        "execution": {
          "iopub.execute_input": "2021-12-13T10:01:41.411494Z",
          "iopub.status.busy": "2021-12-13T10:01:41.410772Z",
          "iopub.status.idle": "2021-12-13T10:01:41.417072Z",
          "shell.execute_reply": "2021-12-13T10:01:41.416524Z",
          "shell.execute_reply.started": "2021-12-13T10:01:41.411448Z"
        },
        "id": "0wKUkHGFrP4p",
        "outputId": "aea98578-ec5a-41f9-c76c-fca1fe95d53d",
        "trusted": true
      },
      "outputs": [],
      "source": [
        "# dict_name['key_name'] = [values to update]\n",
        "student_details_dict['emails'] = ['as@gmail.com','asd@gmail.com','d@gmail.com','sd@gmail.com']\n",
        "\n",
        "student_details_dict"
      ]
    },
    {
      "attachments": {},
      "cell_type": "markdown",
      "metadata": {
        "id": "WmJ6exLbrP4p"
      },
      "source": [
        "# Adding multiple element to dictionary "
      ]
    },
    {
      "cell_type": "code",
      "execution_count": null,
      "metadata": {
        "colab": {
          "base_uri": "https://localhost:8080/"
        },
        "execution": {
          "iopub.execute_input": "2021-12-13T10:02:34.603596Z",
          "iopub.status.busy": "2021-12-13T10:02:34.602964Z",
          "iopub.status.idle": "2021-12-13T10:02:34.609421Z",
          "shell.execute_reply": "2021-12-13T10:02:34.608851Z",
          "shell.execute_reply.started": "2021-12-13T10:02:34.603556Z"
        },
        "id": "EA49XnzsrP4p",
        "outputId": "7503bfeb-81e2-4811-88be-5319d7558728",
        "trusted": true
      },
      "outputs": [],
      "source": [
        "student_details_dict"
      ]
    },
    {
      "cell_type": "code",
      "execution_count": null,
      "metadata": {
        "colab": {
          "base_uri": "https://localhost:8080/"
        },
        "execution": {
          "iopub.execute_input": "2021-12-13T10:02:45.620076Z",
          "iopub.status.busy": "2021-12-13T10:02:45.619188Z",
          "iopub.status.idle": "2021-12-13T10:02:45.627322Z",
          "shell.execute_reply": "2021-12-13T10:02:45.626391Z",
          "shell.execute_reply.started": "2021-12-13T10:02:45.620025Z"
        },
        "id": "VO6IrvskrP4p",
        "outputId": "3759f8b6-4b1b-4fd4-cd3d-bd691e75ff1d",
        "trusted": true
      },
      "outputs": [],
      "source": [
        "# use of .update({'key':[value],'key1':[value1]})\n",
        "\n",
        "student_details_dict.update({'adress':['ana','dasd','asdad','adasd'],'sex':['m','m','m','m']})\n",
        "student_details_dict"
      ]
    },
    {
      "attachments": {},
      "cell_type": "markdown",
      "metadata": {
        "id": "pPXUz271rP4p"
      },
      "source": [
        "# Deleting element of dictionary"
      ]
    },
    {
      "cell_type": "code",
      "execution_count": null,
      "metadata": {
        "colab": {
          "base_uri": "https://localhost:8080/"
        },
        "execution": {
          "iopub.execute_input": "2021-12-13T10:03:17.732961Z",
          "iopub.status.busy": "2021-12-13T10:03:17.732651Z",
          "iopub.status.idle": "2021-12-13T10:03:17.739801Z",
          "shell.execute_reply": "2021-12-13T10:03:17.738946Z",
          "shell.execute_reply.started": "2021-12-13T10:03:17.732932Z"
        },
        "id": "tdOxfYdCrP4p",
        "outputId": "9361394b-2b4f-42fc-d0ab-2f801a1be86b",
        "trusted": true
      },
      "outputs": [],
      "source": [
        "student_details_dict"
      ]
    },
    {
      "cell_type": "code",
      "execution_count": null,
      "metadata": {
        "colab": {
          "base_uri": "https://localhost:8080/"
        },
        "execution": {
          "iopub.execute_input": "2021-12-13T10:03:34.612505Z",
          "iopub.status.busy": "2021-12-13T10:03:34.61224Z",
          "iopub.status.idle": "2021-12-13T10:03:34.619065Z",
          "shell.execute_reply": "2021-12-13T10:03:34.618374Z",
          "shell.execute_reply.started": "2021-12-13T10:03:34.612477Z"
        },
        "id": "Iu1l27PNrP4p",
        "outputId": "f7ea82ed-709a-4f20-fc4c-4e2f53e8507c",
        "trusted": true
      },
      "outputs": [],
      "source": [
        "# use of del\n",
        "del student_details_dict['sex'] #<= removing sex key totaly from key\n",
        "student_details_dict"
      ]
    },
    {
      "attachments": {},
      "cell_type": "markdown",
      "metadata": {
        "id": "VrRk_bhJrP4p"
      },
      "source": [
        "# Updating dict with dicts"
      ]
    },
    {
      "cell_type": "code",
      "execution_count": null,
      "metadata": {
        "colab": {
          "base_uri": "https://localhost:8080/"
        },
        "execution": {
          "iopub.execute_input": "2021-12-13T10:04:32.718812Z",
          "iopub.status.busy": "2021-12-13T10:04:32.718516Z",
          "iopub.status.idle": "2021-12-13T10:04:32.726459Z",
          "shell.execute_reply": "2021-12-13T10:04:32.725624Z",
          "shell.execute_reply.started": "2021-12-13T10:04:32.718775Z"
        },
        "id": "1v2BgiPUrP4p",
        "outputId": "04a7e9e6-1662-42bd-8ab1-0a2c483d7512",
        "trusted": true
      },
      "outputs": [],
      "source": [
        "# Make a dict named as student_data_dictionary  with value which are given bellow as output\n",
        "student_data_dictionary = {'age': 21,\n",
        "'attendance': 74,\n",
        "'city': 'Gurugram',\n",
        "'country': 'India',\n",
        "'name': 'Vany',\n",
        "'percentage': 85,\n",
        "'roll_no': 'CSE100'}\n",
        "\n",
        "# print student_data_dictionary\n",
        "\n",
        "student_data_dictionary"
      ]
    },
    {
      "cell_type": "code",
      "execution_count": null,
      "metadata": {
        "colab": {
          "base_uri": "https://localhost:8080/"
        },
        "execution": {
          "iopub.execute_input": "2021-12-13T10:04:55.19956Z",
          "iopub.status.busy": "2021-12-13T10:04:55.199263Z",
          "iopub.status.idle": "2021-12-13T10:04:55.205958Z",
          "shell.execute_reply": "2021-12-13T10:04:55.205314Z",
          "shell.execute_reply.started": "2021-12-13T10:04:55.199526Z"
        },
        "id": "2GhXVhlFrP4q",
        "outputId": "92ee33e2-8cfe-463e-ba34-66a7968dbdc2",
        "trusted": true
      },
      "outputs": [],
      "source": [
        "# update student_data_dictionary by observing output \n",
        "student_data_dictionary.update({'last_name': 'Unicorn',\n",
        "'pincode': 345467,})\n",
        "# print student_data_dictionary\n",
        "student_data_dictionary\n",
        "\n"
      ]
    },
    {
      "attachments": {},
      "cell_type": "markdown",
      "metadata": {
        "id": "w7yMNpcArP4q"
      },
      "source": [
        "# Updating dict with list of tuples"
      ]
    },
    {
      "cell_type": "code",
      "execution_count": null,
      "metadata": {
        "colab": {
          "base_uri": "https://localhost:8080/"
        },
        "execution": {
          "iopub.execute_input": "2021-12-13T10:05:27.964104Z",
          "iopub.status.busy": "2021-12-13T10:05:27.96382Z",
          "iopub.status.idle": "2021-12-13T10:05:27.969942Z",
          "shell.execute_reply": "2021-12-13T10:05:27.96922Z",
          "shell.execute_reply.started": "2021-12-13T10:05:27.964075Z"
        },
        "id": "z9a5hByPrP4q",
        "outputId": "b51b3c27-3a61-4c63-d6e1-eb71111e60be",
        "trusted": true
      },
      "outputs": [],
      "source": [
        "# print student_data_dictionary\n",
        "\n",
        "student_data_dictionary\n",
        "\n",
        "\n"
      ]
    },
    {
      "cell_type": "code",
      "execution_count": null,
      "metadata": {
        "colab": {
          "base_uri": "https://localhost:8080/"
        },
        "execution": {
          "iopub.execute_input": "2021-12-13T10:05:55.922063Z",
          "iopub.status.busy": "2021-12-13T10:05:55.921547Z",
          "iopub.status.idle": "2021-12-13T10:05:55.929415Z",
          "shell.execute_reply": "2021-12-13T10:05:55.928555Z",
          "shell.execute_reply.started": "2021-12-13T10:05:55.922011Z"
        },
        "id": "VTT_BZycrP4q",
        "outputId": "6c9ad1fb-1609-4ca4-ee6b-493c9f8b90ba",
        "trusted": true
      },
      "outputs": [],
      "source": [
        "# update student_data_dictionary by observing output \n",
        "\n",
        "\n",
        "\n",
        "\n",
        "# print student_data_dictionary\n",
        "student_data_dictionary\n",
        "\n"
      ]
    },
    {
      "cell_type": "code",
      "execution_count": null,
      "metadata": {
        "colab": {
          "base_uri": "https://localhost:8080/"
        },
        "execution": {
          "iopub.execute_input": "2021-12-13T10:06:27.959221Z",
          "iopub.status.busy": "2021-12-13T10:06:27.958345Z",
          "iopub.status.idle": "2021-12-13T10:06:27.965493Z",
          "shell.execute_reply": "2021-12-13T10:06:27.964809Z",
          "shell.execute_reply.started": "2021-12-13T10:06:27.959177Z"
        },
        "id": "6YtALcserP4q",
        "outputId": "554829a7-be7e-4b3b-b461-158bdf23f0e5",
        "trusted": true
      },
      "outputs": [],
      "source": [
        "# observe this code\n",
        "### dictionary key can be anything string,integer,float,boolean ###\n",
        "dict_sample = {\n",
        "    'string' : 'string can be used as key',\n",
        "    777 : 'interger can be used as key',\n",
        "    777.77 : 'float can be used as key',\n",
        "    False : 'boolean can be used as key'\n",
        "}\n",
        "\n",
        "dict_sample.keys()\n"
      ]
    },
    {
      "attachments": {},
      "cell_type": "markdown",
      "metadata": {
        "id": "fb2iby4NrP4q"
      },
      "source": [
        "Mostly String and Integer are used as key"
      ]
    },
    {
      "cell_type": "code",
      "execution_count": null,
      "metadata": {
        "colab": {
          "base_uri": "https://localhost:8080/",
          "height": 35
        },
        "execution": {
          "iopub.execute_input": "2021-12-13T10:06:55.138726Z",
          "iopub.status.busy": "2021-12-13T10:06:55.138268Z",
          "iopub.status.idle": "2021-12-13T10:06:55.145072Z",
          "shell.execute_reply": "2021-12-13T10:06:55.144269Z",
          "shell.execute_reply.started": "2021-12-13T10:06:55.138678Z"
        },
        "id": "RKwzFxeyrP4q",
        "outputId": "b7b8b109-7b66-4ab9-a965-9d7d39bb3912",
        "trusted": true
      },
      "outputs": [],
      "source": [
        "dict_sample[777.77]"
      ]
    },
    {
      "cell_type": "code",
      "execution_count": null,
      "metadata": {
        "colab": {
          "base_uri": "https://localhost:8080/"
        },
        "execution": {
          "iopub.execute_input": "2021-12-13T10:07:55.651142Z",
          "iopub.status.busy": "2021-12-13T10:07:55.65068Z",
          "iopub.status.idle": "2021-12-13T10:07:55.658826Z",
          "shell.execute_reply": "2021-12-13T10:07:55.65794Z",
          "shell.execute_reply.started": "2021-12-13T10:07:55.651108Z"
        },
        "id": "l532yInzrP4q",
        "outputId": "28af488a-a5f2-4db2-c479-ad83705d4a30",
        "trusted": true
      },
      "outputs": [],
      "source": [
        "# observe this code\n",
        "### Duplicate keys ###\n",
        "# every key must be unique\n",
        "dict_sample = {\n",
        "    'a':1,\n",
        "    'b':2,\n",
        "    'c':3,\n",
        "    'a':23\n",
        "}\n",
        "\n",
        "dict_sample['c'] = 50\n",
        "dict_sample"
      ]
    },
    {
      "attachments": {},
      "cell_type": "markdown",
      "metadata": {
        "id": "xI9wusR1rP4q"
      },
      "source": [
        "`If we add duplicate keys, it will not throw an error instead it will overwrite value which is added at last`"
      ]
    },
    {
      "attachments": {},
      "cell_type": "markdown",
      "metadata": {
        "id": "bmvif_zLrP4q"
      },
      "source": [
        "# Iterating through key:value pair"
      ]
    },
    {
      "cell_type": "code",
      "execution_count": null,
      "metadata": {
        "colab": {
          "base_uri": "https://localhost:8080/"
        },
        "execution": {
          "iopub.execute_input": "2021-12-13T10:09:28.180905Z",
          "iopub.status.busy": "2021-12-13T10:09:28.18039Z",
          "iopub.status.idle": "2021-12-13T10:09:28.186513Z",
          "shell.execute_reply": "2021-12-13T10:09:28.185948Z",
          "shell.execute_reply.started": "2021-12-13T10:09:28.180849Z"
        },
        "id": "pOOp6yYGrP4q",
        "outputId": "b83acb8d-8c95-4af9-8649-2ee3aa4d10a7",
        "trusted": true
      },
      "outputs": [],
      "source": [
        "dict_sample.items()"
      ]
    },
    {
      "cell_type": "code",
      "execution_count": null,
      "metadata": {
        "colab": {
          "base_uri": "https://localhost:8080/"
        },
        "execution": {
          "iopub.execute_input": "2021-12-13T10:09:14.520808Z",
          "iopub.status.busy": "2021-12-13T10:09:14.519994Z",
          "iopub.status.idle": "2021-12-13T10:09:14.52646Z",
          "shell.execute_reply": "2021-12-13T10:09:14.525536Z",
          "shell.execute_reply.started": "2021-12-13T10:09:14.520766Z"
        },
        "id": "5UvSJz_3rP4r",
        "outputId": "fa07348d-515a-43ef-eca3-73624c34ef0e",
        "trusted": true
      },
      "outputs": [],
      "source": [
        "for key,value in dict_sample.items():\n",
        "    print(key,value)"
      ]
    },
    {
      "cell_type": "code",
      "execution_count": null,
      "metadata": {
        "colab": {
          "base_uri": "https://localhost:8080/",
          "height": 183
        },
        "execution": {
          "iopub.execute_input": "2021-12-13T10:09:51.898107Z",
          "iopub.status.busy": "2021-12-13T10:09:51.897343Z",
          "iopub.status.idle": "2021-12-13T10:09:51.916454Z",
          "shell.execute_reply": "2021-12-13T10:09:51.915316Z",
          "shell.execute_reply.started": "2021-12-13T10:09:51.898047Z"
        },
        "id": "Oml0jnO3rP4r",
        "outputId": "5b9a3bd8-ff5f-4707-f8ee-16107503f66a",
        "trusted": true
      },
      "outputs": [],
      "source": [
        "for key,value in dict_sample:\n",
        "    print(key,value)"
      ]
    },
    {
      "attachments": {},
      "cell_type": "markdown",
      "metadata": {
        "id": "ew5FtqDsrP4r"
      },
      "source": [
        "# sorting a dictionary based on keys"
      ]
    },
    {
      "cell_type": "code",
      "execution_count": null,
      "metadata": {
        "colab": {
          "base_uri": "https://localhost:8080/"
        },
        "execution": {
          "iopub.execute_input": "2021-12-13T10:10:06.684854Z",
          "iopub.status.busy": "2021-12-13T10:10:06.684311Z",
          "iopub.status.idle": "2021-12-13T10:10:06.69042Z",
          "shell.execute_reply": "2021-12-13T10:10:06.689667Z",
          "shell.execute_reply.started": "2021-12-13T10:10:06.684817Z"
        },
        "id": "qwC2NSGYrP4r",
        "outputId": "0b504dff-cf0c-413e-c588-02b9d40eba3b",
        "trusted": true
      },
      "outputs": [],
      "source": [
        "sorted(dict_sample.items())"
      ]
    },
    {
      "cell_type": "code",
      "execution_count": null,
      "metadata": {
        "colab": {
          "base_uri": "https://localhost:8080/"
        },
        "execution": {
          "iopub.execute_input": "2021-12-11T13:32:34.935219Z",
          "iopub.status.busy": "2021-12-11T13:32:34.934905Z",
          "iopub.status.idle": "2021-12-11T13:32:34.938482Z",
          "shell.execute_reply": "2021-12-11T13:32:34.937905Z",
          "shell.execute_reply.started": "2021-12-11T13:32:34.935186Z"
        },
        "id": "DGpnyumDrP4r",
        "outputId": "91ef61b4-02c4-44fb-a1d8-6c155fb1f754",
        "trusted": true
      },
      "outputs": [],
      "source": [
        "# sorting a dictionary based on values\n",
        "# it requires concept of lambda expression \n",
        "\n",
        "sorted_dict = sorted(dict_sample.items(), key=lambda x: x[1])\n",
        "\n",
        "# print the sorted dictionary\n",
        "print(sorted_dict)\n"
      ]
    },
    {
      "attachments": {},
      "cell_type": "markdown",
      "metadata": {
        "id": "be3IXjFNrP4r"
      },
      "source": [
        "---"
      ]
    },
    {
      "attachments": {},
      "cell_type": "markdown",
      "metadata": {
        "id": "PMmen0JyrP4r"
      },
      "source": [
        "# **`String Manipulation`** [More Resources](https://docs.python.org/3.7/library/stdtypes.html#text-sequence-type-str)"
      ]
    },
    {
      "attachments": {},
      "cell_type": "markdown",
      "metadata": {
        "id": "kXsEjLZ03YnR"
      },
      "source": [
        "# observe bellow code"
      ]
    },
    {
      "cell_type": "code",
      "execution_count": null,
      "metadata": {
        "id": "8J1dpy6rrP4r"
      },
      "outputs": [],
      "source": [
        "string_ = '' or \"\" or \"\"\" \"\"\""
      ]
    },
    {
      "cell_type": "code",
      "execution_count": null,
      "metadata": {
        "colab": {
          "base_uri": "https://localhost:8080/",
          "height": 35
        },
        "execution": {
          "iopub.execute_input": "2021-12-13T11:01:34.238451Z",
          "iopub.status.busy": "2021-12-13T11:01:34.238169Z",
          "iopub.status.idle": "2021-12-13T11:01:34.244158Z",
          "shell.execute_reply": "2021-12-13T11:01:34.243186Z",
          "shell.execute_reply.started": "2021-12-13T11:01:34.238418Z"
        },
        "id": "P4TiJEQCrP4s",
        "outputId": "34e8d7e5-4269-405b-d169-b113cbb62054",
        "trusted": true
      },
      "outputs": [],
      "source": [
        "# defining a string\n",
        "string = \"We are creating next generation data science eco-system at our organization\"\n",
        "string"
      ]
    },
    {
      "cell_type": "code",
      "execution_count": null,
      "metadata": {
        "colab": {
          "base_uri": "https://localhost:8080/"
        },
        "execution": {
          "iopub.execute_input": "2021-12-13T11:01:34.958307Z",
          "iopub.status.busy": "2021-12-13T11:01:34.957656Z",
          "iopub.status.idle": "2021-12-13T11:01:34.963401Z",
          "shell.execute_reply": "2021-12-13T11:01:34.96252Z",
          "shell.execute_reply.started": "2021-12-13T11:01:34.958266Z"
        },
        "id": "Ujfo-CHZrP4s",
        "outputId": "d3cdad5b-7d67-42cd-d549-de990377c089",
        "trusted": true
      },
      "outputs": [],
      "source": [
        "# length of string including spaces\n",
        "len(string)"
      ]
    },
    {
      "cell_type": "code",
      "execution_count": null,
      "metadata": {
        "colab": {
          "base_uri": "https://localhost:8080/",
          "height": 35
        },
        "execution": {
          "iopub.execute_input": "2021-12-13T11:01:42.029037Z",
          "iopub.status.busy": "2021-12-13T11:01:42.028477Z",
          "iopub.status.idle": "2021-12-13T11:01:42.035886Z",
          "shell.execute_reply": "2021-12-13T11:01:42.035025Z",
          "shell.execute_reply.started": "2021-12-13T11:01:42.02899Z"
        },
        "id": "huRY2kW4rP4s",
        "outputId": "ce400a9e-006f-401f-8f52-99f881f41be3",
        "trusted": true
      },
      "outputs": [],
      "source": [
        "# Accessing characters in a string\n",
        "string[0]"
      ]
    },
    {
      "cell_type": "code",
      "execution_count": null,
      "metadata": {
        "colab": {
          "base_uri": "https://localhost:8080/",
          "height": 35
        },
        "execution": {
          "iopub.execute_input": "2021-12-13T11:01:54.758166Z",
          "iopub.status.busy": "2021-12-13T11:01:54.757886Z",
          "iopub.status.idle": "2021-12-13T11:01:54.76332Z",
          "shell.execute_reply": "2021-12-13T11:01:54.762662Z",
          "shell.execute_reply.started": "2021-12-13T11:01:54.758136Z"
        },
        "id": "ynPqdSYdrP4s",
        "outputId": "1e800281-65b0-4d25-a8e2-f884c28ebcc1",
        "trusted": true
      },
      "outputs": [],
      "source": [
        "# Accessing characters with negative indexing\n",
        "string[-1]"
      ]
    },
    {
      "attachments": {},
      "cell_type": "markdown",
      "metadata": {
        "id": "O9VaefTGrP4s"
      },
      "source": [
        "# String Slicing"
      ]
    },
    {
      "cell_type": "code",
      "execution_count": null,
      "metadata": {
        "colab": {
          "base_uri": "https://localhost:8080/",
          "height": 35
        },
        "execution": {
          "iopub.execute_input": "2021-12-13T11:02:05.078251Z",
          "iopub.status.busy": "2021-12-13T11:02:05.077467Z",
          "iopub.status.idle": "2021-12-13T11:02:05.08393Z",
          "shell.execute_reply": "2021-12-13T11:02:05.083137Z",
          "shell.execute_reply.started": "2021-12-13T11:02:05.078214Z"
        },
        "id": "ry8spVYHrP4s",
        "outputId": "99c849d0-614d-43f6-f37b-988acaecb55b",
        "trusted": true
      },
      "outputs": [],
      "source": [
        "string[:6]"
      ]
    },
    {
      "cell_type": "code",
      "execution_count": null,
      "metadata": {
        "colab": {
          "base_uri": "https://localhost:8080/",
          "height": 35
        },
        "execution": {
          "iopub.execute_input": "2021-12-13T11:02:17.092026Z",
          "iopub.status.busy": "2021-12-13T11:02:17.091514Z",
          "iopub.status.idle": "2021-12-13T11:02:17.098478Z",
          "shell.execute_reply": "2021-12-13T11:02:17.097041Z",
          "shell.execute_reply.started": "2021-12-13T11:02:17.091993Z"
        },
        "id": "9yyS6grLrP4s",
        "outputId": "15cde9d3-4eb9-4045-a05b-b7c2951ed50c",
        "trusted": true
      },
      "outputs": [],
      "source": [
        "string[7:-10]"
      ]
    },
    {
      "attachments": {},
      "cell_type": "markdown",
      "metadata": {
        "id": "IE-m76lwrP4s"
      },
      "source": [
        "# Count of a particular `character` in a string"
      ]
    },
    {
      "cell_type": "code",
      "execution_count": null,
      "metadata": {
        "colab": {
          "base_uri": "https://localhost:8080/"
        },
        "execution": {
          "iopub.execute_input": "2021-12-13T11:02:32.813513Z",
          "iopub.status.busy": "2021-12-13T11:02:32.813226Z",
          "iopub.status.idle": "2021-12-13T11:02:32.820308Z",
          "shell.execute_reply": "2021-12-13T11:02:32.819443Z",
          "shell.execute_reply.started": "2021-12-13T11:02:32.813481Z"
        },
        "id": "036-jd2TrP4s",
        "outputId": "dd1bf258-a1f6-4273-eea1-f2850440cbe7",
        "trusted": true
      },
      "outputs": [],
      "source": [
        "print(string)\n",
        "\n",
        "string.count('e')"
      ]
    },
    {
      "attachments": {},
      "cell_type": "markdown",
      "metadata": {
        "id": "6BhlvAFmrP4s"
      },
      "source": [
        "# Count of a particular `sub-string` in a string "
      ]
    },
    {
      "cell_type": "code",
      "execution_count": null,
      "metadata": {
        "colab": {
          "base_uri": "https://localhost:8080/"
        },
        "execution": {
          "iopub.execute_input": "2021-12-13T11:02:46.68983Z",
          "iopub.status.busy": "2021-12-13T11:02:46.689548Z",
          "iopub.status.idle": "2021-12-13T11:02:46.696782Z",
          "shell.execute_reply": "2021-12-13T11:02:46.69582Z",
          "shell.execute_reply.started": "2021-12-13T11:02:46.6898Z"
        },
        "id": "pzaxuLCarP4s",
        "outputId": "a6466821-2fdc-4a8c-d1bd-99c661146d2c",
        "trusted": true
      },
      "outputs": [],
      "source": [
        "print(string[7:-10])\n",
        "string.count('ea')"
      ]
    },
    {
      "attachments": {},
      "cell_type": "markdown",
      "metadata": {
        "id": "gbyWCeAwrP4s"
      },
      "source": [
        "# Find a substring in string using `find` and `index` function"
      ]
    },
    {
      "cell_type": "code",
      "execution_count": null,
      "metadata": {
        "colab": {
          "base_uri": "https://localhost:8080/",
          "height": 35
        },
        "execution": {
          "iopub.execute_input": "2021-12-13T11:03:20.049531Z",
          "iopub.status.busy": "2021-12-13T11:03:20.048474Z",
          "iopub.status.idle": "2021-12-13T11:03:20.055836Z",
          "shell.execute_reply": "2021-12-13T11:03:20.055006Z",
          "shell.execute_reply.started": "2021-12-13T11:03:20.049443Z"
        },
        "id": "08PNFmYPrP4s",
        "outputId": "b23e2479-ff19-4ceb-efaf-6c5d40d75b67",
        "trusted": true
      },
      "outputs": [],
      "source": [
        "string"
      ]
    },
    {
      "cell_type": "code",
      "execution_count": null,
      "metadata": {
        "colab": {
          "base_uri": "https://localhost:8080/"
        },
        "execution": {
          "iopub.execute_input": "2021-12-13T11:03:44.010815Z",
          "iopub.status.busy": "2021-12-13T11:03:44.010507Z",
          "iopub.status.idle": "2021-12-13T11:03:44.017299Z",
          "shell.execute_reply": "2021-12-13T11:03:44.016185Z",
          "shell.execute_reply.started": "2021-12-13T11:03:44.010781Z"
        },
        "id": "tfFcaCXxrP4t",
        "outputId": "1d814624-2dd8-4713-f3c9-9fb6835f1ad7",
        "trusted": true
      },
      "outputs": [],
      "source": [
        "# .find() => if present it will return starting index, not found then it will return -1\n",
        "# .index() => if present it will return starting index, not found then it will give error\n",
        "\n",
        "\n",
        "string.find('eaq') "
      ]
    },
    {
      "cell_type": "code",
      "execution_count": null,
      "metadata": {
        "colab": {
          "base_uri": "https://localhost:8080/",
          "height": 165
        },
        "execution": {
          "iopub.execute_input": "2021-12-13T11:03:59.412482Z",
          "iopub.status.busy": "2021-12-13T11:03:59.411717Z",
          "iopub.status.idle": "2021-12-13T11:03:59.428379Z",
          "shell.execute_reply": "2021-12-13T11:03:59.427526Z",
          "shell.execute_reply.started": "2021-12-13T11:03:59.412439Z"
        },
        "id": "tZd5IH_DrP4t",
        "outputId": "ed347753-82ee-4b44-9c3d-3412482a5fc4",
        "trusted": true
      },
      "outputs": [],
      "source": [
        "string.index('eaq')"
      ]
    },
    {
      "cell_type": "code",
      "execution_count": null,
      "metadata": {
        "colab": {
          "base_uri": "https://localhost:8080/",
          "height": 35
        },
        "execution": {
          "iopub.execute_input": "2021-12-13T11:04:25.2175Z",
          "iopub.status.busy": "2021-12-13T11:04:25.216906Z",
          "iopub.status.idle": "2021-12-13T11:04:25.223138Z",
          "shell.execute_reply": "2021-12-13T11:04:25.222063Z",
          "shell.execute_reply.started": "2021-12-13T11:04:25.217463Z"
        },
        "id": "foaVXpRQrP4t",
        "outputId": "deeec172-d680-4b38-b4d5-cc18897f266d",
        "trusted": true
      },
      "outputs": [],
      "source": [
        "string"
      ]
    },
    {
      "cell_type": "code",
      "execution_count": null,
      "metadata": {
        "colab": {
          "base_uri": "https://localhost:8080/"
        },
        "execution": {
          "iopub.execute_input": "2021-12-13T11:04:48.605999Z",
          "iopub.status.busy": "2021-12-13T11:04:48.605575Z",
          "iopub.status.idle": "2021-12-13T11:04:48.611854Z",
          "shell.execute_reply": "2021-12-13T11:04:48.611143Z",
          "shell.execute_reply.started": "2021-12-13T11:04:48.605962Z"
        },
        "id": "QK6TfpWyrP4t",
        "outputId": "7eb9a30d-df7d-4286-c166-02f5f8df45df",
        "trusted": true
      },
      "outputs": [],
      "source": [
        "### Checking whether string `startswith` or `endswith` a particular substring or not ###\n",
        "string.endswith('organization')"
      ]
    },
    {
      "cell_type": "code",
      "execution_count": null,
      "metadata": {
        "colab": {
          "base_uri": "https://localhost:8080/"
        },
        "execution": {
          "iopub.execute_input": "2021-12-13T11:05:06.532097Z",
          "iopub.status.busy": "2021-12-13T11:05:06.531667Z",
          "iopub.status.idle": "2021-12-13T11:05:06.53704Z",
          "shell.execute_reply": "2021-12-13T11:05:06.536136Z",
          "shell.execute_reply.started": "2021-12-13T11:05:06.532065Z"
        },
        "id": "KEUqKWYqrP4t",
        "outputId": "4518ee13-fe19-468a-eabb-ca24cab871d8",
        "trusted": true
      },
      "outputs": [],
      "source": [
        "string.startswith('We')"
      ]
    },
    {
      "cell_type": "code",
      "execution_count": null,
      "metadata": {
        "colab": {
          "base_uri": "https://localhost:8080/",
          "height": 35
        },
        "execution": {
          "iopub.execute_input": "2021-12-13T11:05:27.880521Z",
          "iopub.status.busy": "2021-12-13T11:05:27.880252Z",
          "iopub.status.idle": "2021-12-13T11:05:27.88631Z",
          "shell.execute_reply": "2021-12-13T11:05:27.885395Z",
          "shell.execute_reply.started": "2021-12-13T11:05:27.880493Z"
        },
        "id": "Rh26zLoUrP4t",
        "outputId": "6aecd975-4199-429b-b041-0af47e4eb734",
        "trusted": true
      },
      "outputs": [],
      "source": [
        "string"
      ]
    },
    {
      "cell_type": "code",
      "execution_count": null,
      "metadata": {
        "colab": {
          "base_uri": "https://localhost:8080/",
          "height": 35
        },
        "execution": {
          "iopub.execute_input": "2021-12-13T11:05:29.695055Z",
          "iopub.status.busy": "2021-12-13T11:05:29.694529Z",
          "iopub.status.idle": "2021-12-13T11:05:29.700213Z",
          "shell.execute_reply": "2021-12-13T11:05:29.699432Z",
          "shell.execute_reply.started": "2021-12-13T11:05:29.695023Z"
        },
        "id": "LpEf2Vi_rP4t",
        "outputId": "4ce59c75-586e-40a4-95a6-c44ed36adbf4",
        "trusted": true
      },
      "outputs": [],
      "source": [
        "### Converting string to upper case ###\n",
        "string.upper()"
      ]
    },
    {
      "cell_type": "code",
      "execution_count": null,
      "metadata": {
        "colab": {
          "base_uri": "https://localhost:8080/",
          "height": 35
        },
        "execution": {
          "iopub.execute_input": "2021-12-13T11:05:43.600499Z",
          "iopub.status.busy": "2021-12-13T11:05:43.599994Z",
          "iopub.status.idle": "2021-12-13T11:05:43.605902Z",
          "shell.execute_reply": "2021-12-13T11:05:43.604859Z",
          "shell.execute_reply.started": "2021-12-13T11:05:43.600462Z"
        },
        "id": "C-lc1BM5rP4t",
        "outputId": "13d35b46-5f4c-4b02-cf44-20a10196d368",
        "trusted": true
      },
      "outputs": [],
      "source": [
        "### Converting only first character of string to upper case ###\n",
        "string.capitalize()"
      ]
    },
    {
      "cell_type": "code",
      "execution_count": null,
      "metadata": {
        "colab": {
          "base_uri": "https://localhost:8080/",
          "height": 35
        },
        "execution": {
          "iopub.execute_input": "2021-12-13T11:06:42.096011Z",
          "iopub.status.busy": "2021-12-13T11:06:42.095694Z",
          "iopub.status.idle": "2021-12-13T11:06:42.101516Z",
          "shell.execute_reply": "2021-12-13T11:06:42.100946Z",
          "shell.execute_reply.started": "2021-12-13T11:06:42.095976Z"
        },
        "id": "nzVmwn0nrP4t",
        "outputId": "619fba25-f5bb-46c0-dae1-7f016270f2ee",
        "trusted": true
      },
      "outputs": [],
      "source": [
        "string"
      ]
    },
    {
      "cell_type": "code",
      "execution_count": null,
      "metadata": {
        "colab": {
          "base_uri": "https://localhost:8080/"
        },
        "execution": {
          "iopub.execute_input": "2021-12-13T11:06:19.800912Z",
          "iopub.status.busy": "2021-12-13T11:06:19.800396Z",
          "iopub.status.idle": "2021-12-13T11:06:19.806627Z",
          "shell.execute_reply": "2021-12-13T11:06:19.805745Z",
          "shell.execute_reply.started": "2021-12-13T11:06:19.800858Z"
        },
        "id": "eUfso5gHrP4t",
        "outputId": "0331dd0b-4b0b-48a8-bea5-05bb8e4febc5",
        "trusted": true
      },
      "outputs": [],
      "source": [
        "### Checking if string is in lower case or upper case ###\n",
        "string.islower()"
      ]
    },
    {
      "cell_type": "code",
      "execution_count": null,
      "metadata": {
        "colab": {
          "base_uri": "https://localhost:8080/"
        },
        "execution": {
          "iopub.execute_input": "2021-12-13T11:07:00.135958Z",
          "iopub.status.busy": "2021-12-13T11:07:00.135595Z",
          "iopub.status.idle": "2021-12-13T11:07:00.141703Z",
          "shell.execute_reply": "2021-12-13T11:07:00.140776Z",
          "shell.execute_reply.started": "2021-12-13T11:07:00.135922Z"
        },
        "id": "oQKoh8lZrP4t",
        "outputId": "fc942deb-acac-4092-b349-d85b268e2632",
        "trusted": true
      },
      "outputs": [],
      "source": [
        "string.isupper()"
      ]
    },
    {
      "cell_type": "code",
      "execution_count": null,
      "metadata": {
        "colab": {
          "base_uri": "https://localhost:8080/"
        },
        "execution": {
          "iopub.execute_input": "2021-12-13T11:07:14.639468Z",
          "iopub.status.busy": "2021-12-13T11:07:14.639007Z",
          "iopub.status.idle": "2021-12-13T11:07:14.645717Z",
          "shell.execute_reply": "2021-12-13T11:07:14.644712Z",
          "shell.execute_reply.started": "2021-12-13T11:07:14.639422Z"
        },
        "id": "4KJ8oYacrP4t",
        "outputId": "e9964632-f7f4-4dd4-8c1f-72b62f2022f0",
        "trusted": true
      },
      "outputs": [],
      "source": [
        "### Checking if string is digit, alpabetic, alpha-numeric ###\n",
        "\"1\".isnumeric()"
      ]
    },
    {
      "cell_type": "code",
      "execution_count": null,
      "metadata": {
        "colab": {
          "base_uri": "https://localhost:8080/"
        },
        "execution": {
          "iopub.execute_input": "2021-12-13T11:07:27.40006Z",
          "iopub.status.busy": "2021-12-13T11:07:27.399606Z",
          "iopub.status.idle": "2021-12-13T11:07:27.406609Z",
          "shell.execute_reply": "2021-12-13T11:07:27.405918Z",
          "shell.execute_reply.started": "2021-12-13T11:07:27.400026Z"
        },
        "id": "MQf-h42zrP4u",
        "outputId": "aa2a5649-2c2a-4a3e-e35f-ad6c125ccf6b",
        "trusted": true
      },
      "outputs": [],
      "source": [
        "\"1s\".isnumeric()"
      ]
    },
    {
      "cell_type": "code",
      "execution_count": null,
      "metadata": {
        "colab": {
          "base_uri": "https://localhost:8080/"
        },
        "execution": {
          "iopub.execute_input": "2021-12-13T11:07:35.333175Z",
          "iopub.status.busy": "2021-12-13T11:07:35.332841Z",
          "iopub.status.idle": "2021-12-13T11:07:35.33955Z",
          "shell.execute_reply": "2021-12-13T11:07:35.338458Z",
          "shell.execute_reply.started": "2021-12-13T11:07:35.333132Z"
        },
        "id": "eDfyzQXRrP4u",
        "outputId": "21a255b0-23fc-4a74-98d6-a7d3830711e6",
        "trusted": true
      },
      "outputs": [],
      "source": [
        "\"name\".isalpha()"
      ]
    },
    {
      "cell_type": "code",
      "execution_count": null,
      "metadata": {
        "colab": {
          "base_uri": "https://localhost:8080/"
        },
        "execution": {
          "iopub.execute_input": "2021-12-13T11:07:41.412261Z",
          "iopub.status.busy": "2021-12-13T11:07:41.411144Z",
          "iopub.status.idle": "2021-12-13T11:07:41.417409Z",
          "shell.execute_reply": "2021-12-13T11:07:41.416764Z",
          "shell.execute_reply.started": "2021-12-13T11:07:41.412215Z"
        },
        "id": "mfQwti3VrP4u",
        "outputId": "d8f6a0ed-1512-417f-d55c-b24a961a2a30",
        "trusted": true
      },
      "outputs": [],
      "source": [
        "\"name777\".isalpha()"
      ]
    },
    {
      "cell_type": "code",
      "execution_count": null,
      "metadata": {
        "colab": {
          "base_uri": "https://localhost:8080/"
        },
        "execution": {
          "iopub.execute_input": "2021-12-13T11:07:53.778573Z",
          "iopub.status.busy": "2021-12-13T11:07:53.77645Z",
          "iopub.status.idle": "2021-12-13T11:07:53.785577Z",
          "shell.execute_reply": "2021-12-13T11:07:53.784799Z",
          "shell.execute_reply.started": "2021-12-13T11:07:53.77853Z"
        },
        "id": "ib584RVBrP4u",
        "outputId": "f9c6db95-f82f-4b30-e786-2a22281d93b5",
        "trusted": true
      },
      "outputs": [],
      "source": [
        "\"name777\".isalnum()"
      ]
    },
    {
      "cell_type": "code",
      "execution_count": null,
      "metadata": {
        "colab": {
          "base_uri": "https://localhost:8080/"
        },
        "execution": {
          "iopub.execute_input": "2021-12-13T11:08:16.523252Z",
          "iopub.status.busy": "2021-12-13T11:08:16.522815Z",
          "iopub.status.idle": "2021-12-13T11:08:16.528809Z",
          "shell.execute_reply": "2021-12-13T11:08:16.527918Z",
          "shell.execute_reply.started": "2021-12-13T11:08:16.523221Z"
        },
        "id": "nYARRCJ7rP4u",
        "outputId": "a205ed43-c408-4ced-9f92-0b2501a71c64",
        "trusted": true
      },
      "outputs": [],
      "source": [
        "string = 'organiz ation'\n",
        "string.isalpha()"
      ]
    },
    {
      "cell_type": "code",
      "execution_count": null,
      "metadata": {
        "colab": {
          "base_uri": "https://localhost:8080/"
        },
        "execution": {
          "iopub.execute_input": "2021-12-13T11:08:23.657281Z",
          "iopub.status.busy": "2021-12-13T11:08:23.656846Z",
          "iopub.status.idle": "2021-12-13T11:08:23.662296Z",
          "shell.execute_reply": "2021-12-13T11:08:23.661419Z",
          "shell.execute_reply.started": "2021-12-13T11:08:23.657249Z"
        },
        "id": "YsjZDgA8rP4u",
        "outputId": "f1fcef66-ac4b-4e5d-8ebc-ba2f678c65d8",
        "trusted": true
      },
      "outputs": [],
      "source": [
        "string = 'organization'\n",
        "string.isalpha()"
      ]
    },
    {
      "cell_type": "code",
      "execution_count": null,
      "metadata": {
        "colab": {
          "base_uri": "https://localhost:8080/",
          "height": 35
        },
        "execution": {
          "iopub.execute_input": "2021-12-13T11:08:59.303427Z",
          "iopub.status.busy": "2021-12-13T11:08:59.302982Z",
          "iopub.status.idle": "2021-12-13T11:08:59.310259Z",
          "shell.execute_reply": "2021-12-13T11:08:59.309168Z",
          "shell.execute_reply.started": "2021-12-13T11:08:59.303392Z"
        },
        "id": "SGBdMJeurP4u",
        "outputId": "61568b21-b063-4ddc-aaee-d52813bf6d1c",
        "trusted": true
      },
      "outputs": [],
      "source": [
        "str_ = \"C++ is easy to learn\"\n",
        "str_"
      ]
    },
    {
      "cell_type": "code",
      "execution_count": null,
      "metadata": {
        "colab": {
          "base_uri": "https://localhost:8080/",
          "height": 35
        },
        "execution": {
          "iopub.execute_input": "2021-12-13T11:09:12.005822Z",
          "iopub.status.busy": "2021-12-13T11:09:12.005323Z",
          "iopub.status.idle": "2021-12-13T11:09:12.012082Z",
          "shell.execute_reply": "2021-12-13T11:09:12.011148Z",
          "shell.execute_reply.started": "2021-12-13T11:09:12.005782Z"
        },
        "id": "o3IMBWfqrP4u",
        "outputId": "addd3302-a066-42d9-c5ae-0b2914260d36",
        "trusted": true
      },
      "outputs": [],
      "source": [
        "### Replacing substrings ###\n",
        "str_.replace('C++', 'Python')"
      ]
    },
    {
      "cell_type": "code",
      "execution_count": null,
      "metadata": {
        "colab": {
          "base_uri": "https://localhost:8080/"
        },
        "execution": {
          "iopub.execute_input": "2021-12-13T11:09:37.127736Z",
          "iopub.status.busy": "2021-12-13T11:09:37.127294Z",
          "iopub.status.idle": "2021-12-13T11:09:37.133848Z",
          "shell.execute_reply": "2021-12-13T11:09:37.133093Z",
          "shell.execute_reply.started": "2021-12-13T11:09:37.127695Z"
        },
        "id": "himKDrvcrP4u",
        "outputId": "dcb895fe-9e9f-4e58-b9d5-b3cd164f49df",
        "trusted": true
      },
      "outputs": [],
      "source": [
        "### using Split function ###\n",
        "'Python is easy to learn'.split()"
      ]
    },
    {
      "cell_type": "code",
      "execution_count": null,
      "metadata": {
        "colab": {
          "base_uri": "https://localhost:8080/"
        },
        "execution": {
          "iopub.execute_input": "2021-12-13T11:09:45.285163Z",
          "iopub.status.busy": "2021-12-13T11:09:45.284668Z",
          "iopub.status.idle": "2021-12-13T11:09:45.291474Z",
          "shell.execute_reply": "2021-12-13T11:09:45.290548Z",
          "shell.execute_reply.started": "2021-12-13T11:09:45.285128Z"
        },
        "id": "cCDcaUzHrP4u",
        "outputId": "cd895d40-82c8-4301-9be5-cd1319c24170",
        "trusted": true
      },
      "outputs": [],
      "source": [
        "'Python is easy to learn'.split('easy')"
      ]
    },
    {
      "attachments": {},
      "cell_type": "markdown",
      "metadata": {
        "id": "1RMWovf4rP4u"
      },
      "source": [
        "<a id='14'></a><center> <h3 style=\"background-color:orange; color:white\" ><br>Functions<br></h3>"
      ]
    },
    {
      "attachments": {},
      "cell_type": "markdown",
      "metadata": {
        "id": "7w6F0GNErP4v"
      },
      "source": [
        "* `Purpose of functions is to group some particular lines of code that needs to be executed multiple times`\n",
        "    * keyword `def` introduces a function definition and it must be followed by function name\n",
        "* Function is Reusable piece of code\n",
        "* We create function to solve specific problem"
      ]
    },
    {
      "cell_type": "code",
      "execution_count": null,
      "metadata": {
        "colab": {
          "base_uri": "https://localhost:8080/",
          "height": 35
        },
        "execution": {
          "iopub.execute_input": "2021-12-14T10:18:36.097257Z",
          "iopub.status.busy": "2021-12-14T10:18:36.096956Z",
          "iopub.status.idle": "2021-12-14T10:18:36.102958Z",
          "shell.execute_reply": "2021-12-14T10:18:36.102283Z",
          "shell.execute_reply.started": "2021-12-14T10:18:36.097225Z"
        },
        "id": "4jqkxfNdrP4z",
        "outputId": "2220195e-181c-47dc-8666-0daf3e544108",
        "trusted": true
      },
      "outputs": [],
      "source": [
        "\"\"\"\n",
        "def function_name():\n",
        "    stetement(s)\n",
        "\"\"\""
      ]
    },
    {
      "cell_type": "code",
      "execution_count": null,
      "metadata": {
        "execution": {
          "iopub.execute_input": "2021-12-14T10:41:22.778938Z",
          "iopub.status.busy": "2021-12-14T10:41:22.778217Z",
          "iopub.status.idle": "2021-12-14T10:41:22.783295Z",
          "shell.execute_reply": "2021-12-14T10:41:22.782386Z",
          "shell.execute_reply.started": "2021-12-14T10:41:22.778903Z"
        },
        "id": "L8OCfOyPrP4z",
        "trusted": true
      },
      "outputs": [],
      "source": [
        "# define a function\n",
        "def welcome_message(name):\n",
        "    \"\"\"\n",
        "    This is to represent docstring, \n",
        "    optionsl documentation is a good \n",
        "    programming practice\n",
        "    \"\"\"\n",
        " "
      ]
    },
    {
      "cell_type": "code",
      "execution_count": null,
      "metadata": {
        "execution": {
          "iopub.execute_input": "2021-12-14T10:41:28.898798Z",
          "iopub.status.busy": "2021-12-14T10:41:28.89826Z",
          "iopub.status.idle": "2021-12-14T10:41:28.902844Z",
          "shell.execute_reply": "2021-12-14T10:41:28.902223Z",
          "shell.execute_reply.started": "2021-12-14T10:41:28.898763Z"
        },
        "id": "asBr2ewErP4z",
        "trusted": true
      },
      "outputs": [],
      "source": [
        "# call a function with Mukesh and input\n",
        "welcome_message(\"Mukesh\")"
      ]
    },
    {
      "cell_type": "code",
      "execution_count": null,
      "metadata": {
        "colab": {
          "base_uri": "https://localhost:8080/"
        },
        "execution": {
          "iopub.execute_input": "2021-12-14T10:42:10.098566Z",
          "iopub.status.busy": "2021-12-14T10:42:10.098273Z",
          "iopub.status.idle": "2021-12-14T10:42:10.103854Z",
          "shell.execute_reply": "2021-12-14T10:42:10.103098Z",
          "shell.execute_reply.started": "2021-12-14T10:42:10.098536Z"
        },
        "id": "EaWRKsE6rP4z",
        "outputId": "28fc478e-7cfb-482a-e940-503e9e2e1236",
        "trusted": true
      },
      "outputs": [],
      "source": [
        "#obseve the output\n",
        "print(welcome_message.__doc__)"
      ]
    },
    {
      "cell_type": "code",
      "execution_count": null,
      "metadata": {
        "colab": {
          "base_uri": "https://localhost:8080/"
        },
        "execution": {
          "iopub.execute_input": "2021-12-14T10:43:46.234449Z",
          "iopub.status.busy": "2021-12-14T10:43:46.233989Z",
          "iopub.status.idle": "2021-12-14T10:43:46.238798Z",
          "shell.execute_reply": "2021-12-14T10:43:46.237995Z",
          "shell.execute_reply.started": "2021-12-14T10:43:46.234401Z"
        },
        "id": "Ht8XXDzfrP4z",
        "outputId": "b0d83825-7f62-478d-d8d2-736a82f6ba00",
        "trusted": true
      },
      "outputs": [],
      "source": [
        "#obseve the output\n",
        "print(print.__doc__)"
      ]
    },
    {
      "attachments": {},
      "cell_type": "markdown",
      "metadata": {
        "id": "YKfp2X2irP4z"
      },
      "source": [
        "* `def` Keyword marking start of function\n",
        "* `function name` to uniquely identify function\n",
        "    * `function naming` follows same `rules of writing identifiers`\n",
        "* `parameters`(arguments) to pass values to a function => totally optional\n",
        "* `()` paranthesis\n",
        "* `colon (:)` start of function\n",
        "* `documentation string`(docstring) describe's what function does => totally optional\n",
        "* `return statement` returns a value from function => totally optional\n",
        "* inside colon is `function definition` it should always be present before function call or get an error"
      ]
    },
    {
      "attachments": {},
      "cell_type": "markdown",
      "metadata": {
        "id": "hpC8Bl5arP4z"
      },
      "source": [
        "# `Type of Functions`\n",
        "|Built-in|User-Defined|Lambda Functions|Recursion Function\n",
        "|----|----|---|---|\n",
        "|`print()` | `add_two_number(defined by user i.e. you)`|``|``|\n",
        "|`range()` | ``|``|``|\n",
        "| `append()`|`` |``|``|\n",
        "| `extend()`|`` |``|``|"
      ]
    },
    {
      "cell_type": "code",
      "execution_count": null,
      "metadata": {
        "colab": {
          "base_uri": "https://localhost:8080/"
        },
        "execution": {
          "iopub.execute_input": "2021-12-14T10:46:10.134296Z",
          "iopub.status.busy": "2021-12-14T10:46:10.133283Z",
          "iopub.status.idle": "2021-12-14T10:46:10.138594Z",
          "shell.execute_reply": "2021-12-14T10:46:10.137987Z",
          "shell.execute_reply.started": "2021-12-14T10:46:10.134236Z"
        },
        "id": "TbWL-gm-rP4z",
        "outputId": "a4a4f329-4fe5-49c6-f534-2bbdafc6f9cc",
        "trusted": true
      },
      "outputs": [],
      "source": [
        "### using print ###\n",
        "# function to add two number which are as 3 and 4\n",
        "def two_number_addition(a,b):\n",
        "  print(a+b)\n",
        " # in total variable store adition of 3 + 4\n",
        "  # print total variable \n",
        "two_number_addition(3,4)"
      ]
    },
    {
      "cell_type": "code",
      "execution_count": null,
      "metadata": {
        "colab": {
          "base_uri": "https://localhost:8080/"
        },
        "execution": {
          "iopub.execute_input": "2021-12-14T10:46:07.389537Z",
          "iopub.status.busy": "2021-12-14T10:46:07.38924Z",
          "iopub.status.idle": "2021-12-14T10:46:07.394356Z",
          "shell.execute_reply": "2021-12-14T10:46:07.393771Z",
          "shell.execute_reply.started": "2021-12-14T10:46:07.389508Z"
        },
        "id": "4a3G3_cDrP40",
        "outputId": "0f4b11d2-7674-4c2a-9437-f1ced7469edf",
        "trusted": true
      },
      "outputs": [],
      "source": [
        "### using return ###\n",
        "def two_number_addition_with_return():\n",
        "    total = 3 + 4\n",
        "    return (total) #returning value of total\n",
        "\n",
        "\n",
        "# observe output\n",
        "print(two_number_addition_with_return())"
      ]
    },
    {
      "cell_type": "code",
      "execution_count": null,
      "metadata": {
        "colab": {
          "base_uri": "https://localhost:8080/"
        },
        "execution": {
          "iopub.execute_input": "2021-12-14T10:46:33.509914Z",
          "iopub.status.busy": "2021-12-14T10:46:33.509633Z",
          "iopub.status.idle": "2021-12-14T10:46:33.515225Z",
          "shell.execute_reply": "2021-12-14T10:46:33.514366Z",
          "shell.execute_reply.started": "2021-12-14T10:46:33.509886Z"
        },
        "id": "hrVwYigOrP40",
        "outputId": "54a2c5e2-2ea1-4c58-ba2f-9d26ab437eb5",
        "trusted": true
      },
      "outputs": [],
      "source": [
        "print_output = two_number_addition(3,4)"
      ]
    },
    {
      "cell_type": "code",
      "execution_count": null,
      "metadata": {
        "execution": {
          "iopub.execute_input": "2021-12-14T10:46:48.459242Z",
          "iopub.status.busy": "2021-12-14T10:46:48.458961Z",
          "iopub.status.idle": "2021-12-14T10:46:48.463459Z",
          "shell.execute_reply": "2021-12-14T10:46:48.462708Z",
          "shell.execute_reply.started": "2021-12-14T10:46:48.459212Z"
        },
        "id": "1I6kqwXcrP40",
        "trusted": true
      },
      "outputs": [],
      "source": [
        "# see this variable cannot store above value as value was not saved\n",
        "print_output"
      ]
    },
    {
      "attachments": {},
      "cell_type": "markdown",
      "metadata": {
        "id": "SHvIgCE6rP40"
      },
      "source": [
        "See above variable cannot store above value as return was not used in fucntion, so every calculation is being done inside the function two_number_addition() and if you come out of function thouse value do not exist, to solv this problem we use `return`, after using return we can store output of function for other use in our program"
      ]
    },
    {
      "cell_type": "code",
      "execution_count": null,
      "metadata": {
        "execution": {
          "iopub.execute_input": "2021-12-14T10:47:38.817507Z",
          "iopub.status.busy": "2021-12-14T10:47:38.817248Z",
          "iopub.status.idle": "2021-12-14T10:47:38.82225Z",
          "shell.execute_reply": "2021-12-14T10:47:38.821109Z",
          "shell.execute_reply.started": "2021-12-14T10:47:38.817481Z"
        },
        "id": "-fBWnS8-rP40",
        "trusted": true
      },
      "outputs": [],
      "source": [
        "return_output = two_number_addition_with_return()"
      ]
    },
    {
      "cell_type": "code",
      "execution_count": null,
      "metadata": {
        "colab": {
          "base_uri": "https://localhost:8080/"
        },
        "execution": {
          "iopub.execute_input": "2021-12-14T10:47:43.959868Z",
          "iopub.status.busy": "2021-12-14T10:47:43.959551Z",
          "iopub.status.idle": "2021-12-14T10:47:43.966393Z",
          "shell.execute_reply": "2021-12-14T10:47:43.965352Z",
          "shell.execute_reply.started": "2021-12-14T10:47:43.959839Z"
        },
        "id": "LbZu9vBprP40",
        "outputId": "3da86faa-6168-46b1-e8cd-58bfb57688d1",
        "trusted": true
      },
      "outputs": [],
      "source": [
        "# as return was used in two_number_addition_with_return() function so we can take out value \n",
        "return_output"
      ]
    },
    {
      "attachments": {},
      "cell_type": "markdown",
      "metadata": {
        "id": "qy_mlgUorP40"
      },
      "source": [
        "Here in above code value to funtion is being returned and we are saving that returned value to a variable return_output for maybee any other further use. "
      ]
    },
    {
      "attachments": {},
      "cell_type": "markdown",
      "metadata": {
        "id": "06kIfiPsrP40"
      },
      "source": [
        "# **`Passing Parameters to function`**"
      ]
    },
    {
      "cell_type": "code",
      "execution_count": null,
      "metadata": {
        "execution": {
          "iopub.execute_input": "2021-12-11T10:14:43.448529Z",
          "iopub.status.busy": "2021-12-11T10:14:43.448272Z",
          "iopub.status.idle": "2021-12-11T10:14:43.453987Z",
          "shell.execute_reply": "2021-12-11T10:14:43.453125Z",
          "shell.execute_reply.started": "2021-12-11T10:14:43.448498Z"
        },
        "id": "5AnZuBkLrP40",
        "trusted": true
      },
      "outputs": [],
      "source": [
        "# defining a function\n",
        "def welcome_message(name):\n",
        "    return 'Welcome to Python Funcions!! ' + name\n",
        "    \n",
        "# calling function in python with name Akash\n"
      ]
    },
    {
      "cell_type": "code",
      "execution_count": null,
      "metadata": {
        "colab": {
          "base_uri": "https://localhost:8080/",
          "height": 35
        },
        "execution": {
          "iopub.execute_input": "2021-12-11T10:15:25.291791Z",
          "iopub.status.busy": "2021-12-11T10:15:25.291359Z",
          "iopub.status.idle": "2021-12-11T10:15:25.297224Z",
          "shell.execute_reply": "2021-12-11T10:15:25.296648Z",
          "shell.execute_reply.started": "2021-12-11T10:15:25.291745Z"
        },
        "id": "QWOG3EOBrP40",
        "outputId": "8d37df4e-690c-4605-9b80-7351369f561b",
        "trusted": true
      },
      "outputs": [],
      "source": [
        "# reusing above function (see it as a login windo of a website)\n",
        "welcome_message('Krishna')"
      ]
    },
    {
      "attachments": {},
      "cell_type": "markdown",
      "metadata": {
        "id": "TI0CMNN3rP41"
      },
      "source": [
        "# ***`Passing Default Parameter value to function`*** <br>\n",
        "Works in case you dont provide any value to the required parameter\n",
        "* This is good practice to provide default value to a parameter\n",
        "    * As it reduces many errors"
      ]
    },
    {
      "cell_type": "code",
      "execution_count": null,
      "metadata": {
        "colab": {
          "base_uri": "https://localhost:8080/",
          "height": 35
        },
        "execution": {
          "iopub.execute_input": "2021-12-11T10:18:28.863195Z",
          "iopub.status.busy": "2021-12-11T10:18:28.862638Z",
          "iopub.status.idle": "2021-12-11T10:18:28.869209Z",
          "shell.execute_reply": "2021-12-11T10:18:28.868493Z",
          "shell.execute_reply.started": "2021-12-11T10:18:28.863152Z"
        },
        "id": "nSw9ggNCrP41",
        "outputId": "150b6b68-7d5f-4ad8-bbd4-7e2a29ee6bc4",
        "trusted": true
      },
      "outputs": [],
      "source": [
        "def welcome_message(name='Learner'):\n",
        "    return 'Welcome to Python Funcions!! ' + name\n",
        "    \n",
        "# calling function in python\n",
        "welcome_message('Akash')"
      ]
    },
    {
      "cell_type": "code",
      "execution_count": null,
      "metadata": {
        "colab": {
          "base_uri": "https://localhost:8080/",
          "height": 35
        },
        "execution": {
          "iopub.execute_input": "2021-12-11T10:19:14.334172Z",
          "iopub.status.busy": "2021-12-11T10:19:14.333861Z",
          "iopub.status.idle": "2021-12-11T10:19:14.34035Z",
          "shell.execute_reply": "2021-12-11T10:19:14.339723Z",
          "shell.execute_reply.started": "2021-12-11T10:19:14.334138Z"
        },
        "id": "JPOpKKy5rP41",
        "outputId": "c32e7f38-dbe2-415a-90cf-b79470c792e6",
        "trusted": true
      },
      "outputs": [],
      "source": [
        "# not providing parameter value, now it will take default one i.e. Learner\n",
        "welcome_message()"
      ]
    },
    {
      "attachments": {},
      "cell_type": "markdown",
      "metadata": {
        "id": "JzTJaFZirP41"
      },
      "source": [
        "# ***`Positional Arguments`*** \n",
        "Most arguments are identified by their position in function call\n",
        "* Say `print(x,y)` will give different results from `print(y,x)`\n",
        "\n",
        "What ever sequence is given while defining a function values must be taken in that sequence only\n",
        "* Otherwise use argument name **`(keyword arguments)`** to take values\n",
        "* We first define `positional argument` and then `keyword arguments`\n"
      ]
    },
    {
      "cell_type": "code",
      "execution_count": null,
      "metadata": {
        "execution": {
          "iopub.execute_input": "2021-12-11T10:24:26.570469Z",
          "iopub.status.busy": "2021-12-11T10:24:26.570183Z",
          "iopub.status.idle": "2021-12-11T10:24:26.574882Z",
          "shell.execute_reply": "2021-12-11T10:24:26.574072Z",
          "shell.execute_reply.started": "2021-12-11T10:24:26.570434Z"
        },
        "id": "LpgDIWcYrP41",
        "trusted": true
      },
      "outputs": [],
      "source": [
        "#### Observe every output from here onwords #####\n",
        "\n",
        "def substraction_function(small_number,large_number):\n",
        "    difference = large_number - small_number\n",
        "    return difference"
      ]
    },
    {
      "cell_type": "code",
      "execution_count": null,
      "metadata": {
        "colab": {
          "base_uri": "https://localhost:8080/"
        },
        "execution": {
          "iopub.execute_input": "2021-12-11T10:26:55.88569Z",
          "iopub.status.busy": "2021-12-11T10:26:55.88516Z",
          "iopub.status.idle": "2021-12-11T10:26:55.890293Z",
          "shell.execute_reply": "2021-12-11T10:26:55.889589Z",
          "shell.execute_reply.started": "2021-12-11T10:26:55.885652Z"
        },
        "id": "AX6Ku1j9rP41",
        "outputId": "09960226-44a2-436b-d794-7451c66b378f",
        "trusted": true
      },
      "outputs": [],
      "source": [
        "# passing arguments in right order\n",
        "substraction_function(7,84)"
      ]
    },
    {
      "cell_type": "code",
      "execution_count": null,
      "metadata": {
        "colab": {
          "base_uri": "https://localhost:8080/"
        },
        "execution": {
          "iopub.execute_input": "2021-12-11T10:27:15.453063Z",
          "iopub.status.busy": "2021-12-11T10:27:15.452368Z",
          "iopub.status.idle": "2021-12-11T10:27:15.458033Z",
          "shell.execute_reply": "2021-12-11T10:27:15.457478Z",
          "shell.execute_reply.started": "2021-12-11T10:27:15.453022Z"
        },
        "id": "9Vzlfk4frP41",
        "outputId": "e58dafdd-d747-4b4c-e376-5c46df3d5421",
        "trusted": true
      },
      "outputs": [],
      "source": [
        "# passing arguments in wrong order (produces negative result)\n",
        "substraction_function(84,7)"
      ]
    },
    {
      "cell_type": "code",
      "execution_count": null,
      "metadata": {
        "colab": {
          "base_uri": "https://localhost:8080/"
        },
        "execution": {
          "iopub.execute_input": "2021-12-11T10:27:51.964287Z",
          "iopub.status.busy": "2021-12-11T10:27:51.963803Z",
          "iopub.status.idle": "2021-12-11T10:27:51.969195Z",
          "shell.execute_reply": "2021-12-11T10:27:51.968619Z",
          "shell.execute_reply.started": "2021-12-11T10:27:51.964251Z"
        },
        "id": "zSWT96GurP41",
        "outputId": "e7499f8c-66ff-42a8-ebd6-8b8db2c91b7e",
        "trusted": true
      },
      "outputs": [],
      "source": [
        "# always pass arguments using there name(keyword arguments) then order does not matter\n",
        "substraction_function(large_number=84,small_number=7)"
      ]
    },
    {
      "cell_type": "code",
      "execution_count": null,
      "metadata": {
        "colab": {
          "base_uri": "https://localhost:8080/"
        },
        "execution": {
          "iopub.execute_input": "2021-12-11T10:39:36.008176Z",
          "iopub.status.busy": "2021-12-11T10:39:36.00778Z",
          "iopub.status.idle": "2021-12-11T10:39:36.01423Z",
          "shell.execute_reply": "2021-12-11T10:39:36.013192Z",
          "shell.execute_reply.started": "2021-12-11T10:39:36.008129Z"
        },
        "id": "fkwtjVwGrP41",
        "outputId": "678c8a25-af5c-439b-e833-75a4b514ef3c",
        "trusted": true
      },
      "outputs": [],
      "source": [
        "# defining positional argument and then keyword arguments => valid in python\n",
        "substraction_function(7,large_number=84)"
      ]
    },
    {
      "cell_type": "code",
      "execution_count": null,
      "metadata": {
        "colab": {
          "base_uri": "https://localhost:8080/",
          "height": 131
        },
        "execution": {
          "iopub.execute_input": "2021-12-11T10:40:23.885814Z",
          "iopub.status.busy": "2021-12-11T10:40:23.884999Z",
          "iopub.status.idle": "2021-12-11T10:40:23.891881Z",
          "shell.execute_reply": "2021-12-11T10:40:23.890735Z",
          "shell.execute_reply.started": "2021-12-11T10:40:23.885757Z"
        },
        "id": "Or_Jf_6KrP41",
        "outputId": "5e8d184c-fa15-47cb-a9a8-ed46fb27d66c",
        "trusted": true
      },
      "outputs": [],
      "source": [
        "# defining keyword arguments and then positional argument => not vaid in python\n",
        "substraction_function(large_number=84,7)"
      ]
    },
    {
      "attachments": {},
      "cell_type": "markdown",
      "metadata": {
        "id": "Y5UrdLZlrP41"
      },
      "source": [
        "# ***`Variable Length Arguments`***\n",
        "Used when we need more flexibility while defining functions like we don't know in advance fixed number of arguments\n",
        "* Python allows us to make function calls with variable length arguments\n",
        "* In argument use an **(*)** astrick sign before argument"
      ]
    },
    {
      "cell_type": "code",
      "execution_count": null,
      "metadata": {
        "execution": {
          "iopub.execute_input": "2021-12-11T10:54:19.850114Z",
          "iopub.status.busy": "2021-12-11T10:54:19.849737Z",
          "iopub.status.idle": "2021-12-11T10:54:19.853423Z",
          "shell.execute_reply": "2021-12-11T10:54:19.852892Z",
          "shell.execute_reply.started": "2021-12-11T10:54:19.850085Z"
        },
        "id": "6-Sm8XtorP42",
        "trusted": true
      },
      "outputs": [],
      "source": [
        "##### Observe code from here ######\n",
        "\n",
        "# defining a randome function using (*args)\n",
        "def arguments_function(*args):  # => used for positional arguments will variable lengths\n",
        "    for i in args:\n",
        "        print(i)"
      ]
    },
    {
      "cell_type": "code",
      "execution_count": null,
      "metadata": {
        "colab": {
          "base_uri": "https://localhost:8080/"
        },
        "execution": {
          "iopub.execute_input": "2021-12-11T10:54:20.094689Z",
          "iopub.status.busy": "2021-12-11T10:54:20.094285Z",
          "iopub.status.idle": "2021-12-11T10:54:20.099439Z",
          "shell.execute_reply": "2021-12-11T10:54:20.098625Z",
          "shell.execute_reply.started": "2021-12-11T10:54:20.094658Z"
        },
        "id": "aGg6U4SCrP42",
        "outputId": "d600673f-ee91-4314-d976-7c3385600afb",
        "trusted": true
      },
      "outputs": [],
      "source": [
        "# passing n-number of positional arguments to fucntion as we are using (*args)\n",
        "arguments_function(1,2,3,4,5)"
      ]
    },
    {
      "attachments": {},
      "cell_type": "markdown",
      "metadata": {
        "id": "yKxx6-FIrP42"
      },
      "source": [
        "* Everything given to function if it is using *args, arguments will be saved as `tuples`"
      ]
    },
    {
      "cell_type": "code",
      "execution_count": null,
      "metadata": {
        "execution": {
          "iopub.execute_input": "2021-12-11T10:52:56.976171Z",
          "iopub.status.busy": "2021-12-11T10:52:56.975291Z",
          "iopub.status.idle": "2021-12-11T10:52:56.980446Z",
          "shell.execute_reply": "2021-12-11T10:52:56.979797Z",
          "shell.execute_reply.started": "2021-12-11T10:52:56.976118Z"
        },
        "id": "qE5Zn3ZnrP42",
        "trusted": true
      },
      "outputs": [],
      "source": [
        "#### Observe every output from here onwords #####\n",
        "# defining a randome function using (**kwargs)\n",
        "\n",
        "def keyword_arguments_function(**kwargs): # => used for keyword arguments will variable lengths\n",
        "    for key,value in kwargs.items():\n",
        "        print(key,value)"
      ]
    },
    {
      "cell_type": "code",
      "execution_count": null,
      "metadata": {
        "colab": {
          "base_uri": "https://localhost:8080/"
        },
        "execution": {
          "iopub.execute_input": "2021-12-11T10:54:10.89681Z",
          "iopub.status.busy": "2021-12-11T10:54:10.896266Z",
          "iopub.status.idle": "2021-12-11T10:54:10.902543Z",
          "shell.execute_reply": "2021-12-11T10:54:10.90162Z",
          "shell.execute_reply.started": "2021-12-11T10:54:10.896756Z"
        },
        "id": "m-EYKFbvrP42",
        "outputId": "07872ebc-0336-4a5d-88f1-84d85c80f055",
        "trusted": true
      },
      "outputs": [],
      "source": [
        "# passing n-number of keyword arguments to fucntion as we are using (*args)\n",
        "keyword_arguments_function(a=1,b=2,c=3,d=4,e=5)"
      ]
    },
    {
      "attachments": {},
      "cell_type": "markdown",
      "metadata": {
        "id": "ACo85WuXrP42"
      },
      "source": [
        "* Everything given to function if it is using *kwargs, arguments will be saved as `dict`"
      ]
    },
    {
      "attachments": {},
      "cell_type": "markdown",
      "metadata": {
        "id": "_NUdf1OsrP42"
      },
      "source": [
        "# ***`Scope of Variables`*** means that part of program where we can access particular variable\n",
        "* `Local Variable` => variables defined inside a function and can be only accessed from inside of that particular function\n",
        "* `Global Variable` => variables defined outside a function and can be accessed throughout program\n",
        "\n",
        "Let's define a global variable, `\"global_variable\"` outside function\n",
        "* We will return its value using a function `\"randome_function\"` and see that we would be able to access its value using that function also"
      ]
    },
    {
      "cell_type": "code",
      "execution_count": null,
      "metadata": {
        "execution": {
          "iopub.execute_input": "2021-12-11T11:00:38.758741Z",
          "iopub.status.busy": "2021-12-11T11:00:38.758474Z",
          "iopub.status.idle": "2021-12-11T11:00:38.762182Z",
          "shell.execute_reply": "2021-12-11T11:00:38.761618Z",
          "shell.execute_reply.started": "2021-12-11T11:00:38.758716Z"
        },
        "id": "e0BDQ-ccrP42",
        "trusted": true
      },
      "outputs": [],
      "source": [
        "#### Observe every output from here onwords #####\n",
        "# defining a global variable\n",
        "global_variable = 'variable outside of function'\n",
        "\n",
        "# defining function\n",
        "def random_function():\n",
        "    # accessing variable which is outside of this function\n",
        "    return global_variable"
      ]
    },
    {
      "cell_type": "code",
      "execution_count": null,
      "metadata": {
        "colab": {
          "base_uri": "https://localhost:8080/",
          "height": 35
        },
        "execution": {
          "iopub.execute_input": "2021-12-11T11:00:58.33357Z",
          "iopub.status.busy": "2021-12-11T11:00:58.33313Z",
          "iopub.status.idle": "2021-12-11T11:00:58.337597Z",
          "shell.execute_reply": "2021-12-11T11:00:58.337038Z",
          "shell.execute_reply.started": "2021-12-11T11:00:58.333513Z"
        },
        "id": "2hYmUr5BrP42",
        "outputId": "aa07d9c3-4808-4c3b-89a7-38b814557bce",
        "trusted": true
      },
      "outputs": [],
      "source": [
        "random_function()"
      ]
    },
    {
      "attachments": {},
      "cell_type": "markdown",
      "metadata": {
        "id": "w7AB55isrP42"
      },
      "source": [
        "`See we can acess the data of golbal variable from Inside of the Function`\n",
        "\n",
        "# **`=> Let's see what will happen if we try to change value of global variable from Inside of the Function`**"
      ]
    },
    {
      "cell_type": "code",
      "execution_count": null,
      "metadata": {
        "execution": {
          "iopub.execute_input": "2021-12-11T11:08:27.657115Z",
          "iopub.status.busy": "2021-12-11T11:08:27.656836Z",
          "iopub.status.idle": "2021-12-11T11:08:27.661916Z",
          "shell.execute_reply": "2021-12-11T11:08:27.661004Z",
          "shell.execute_reply.started": "2021-12-11T11:08:27.657086Z"
        },
        "id": "1cOFox6FrP43",
        "trusted": true
      },
      "outputs": [],
      "source": [
        "#### Observe every output from here onwords #####\n",
        "# defining a global variable\n",
        "global_variable = 'variable outside of function'\n",
        "\n",
        "# defining function\n",
        "def random_function():\n",
        "    # changing value of global variable from inside of the function\n",
        "    global_variable = 'changing variable outside of function from inside of function'\n",
        "    # accessing variable which is outside of this function\n",
        "    return global_variable"
      ]
    },
    {
      "cell_type": "code",
      "execution_count": null,
      "metadata": {
        "colab": {
          "base_uri": "https://localhost:8080/"
        },
        "execution": {
          "iopub.execute_input": "2021-12-11T11:32:36.29647Z",
          "iopub.status.busy": "2021-12-11T11:32:36.296167Z",
          "iopub.status.idle": "2021-12-11T11:32:36.300653Z",
          "shell.execute_reply": "2021-12-11T11:32:36.30002Z",
          "shell.execute_reply.started": "2021-12-11T11:32:36.29644Z"
        },
        "id": "8ScwL6OUrP43",
        "outputId": "9ad401ea-a093-483a-e50a-f9f096ecd4b2",
        "trusted": true
      },
      "outputs": [],
      "source": [
        "print(random_function())\n",
        "print(global_variable)"
      ]
    },
    {
      "attachments": {},
      "cell_type": "markdown",
      "metadata": {
        "id": "ePWwQg-ErP43"
      },
      "source": [
        "It does not mean that we can change global variable from inside the function but this is somthing different story going on here:\n",
        "* function named as random_function()'s, global_variable have limited scope which is only of inside its function, that is why when we print function it returns the local variable value not the changed global variable value \n",
        "* variable defined locally is taking precedence over variable defined globally as there name are same\n",
        "\n",
        "The only shortcomming with local variable is it stayes inside the function, the minute you come out of function you dont get the updated value <br>\n",
        "So in above code we are not abble to change global variable locally, but we have made a new variable which is only working inside of the function. <br>\n",
        "Approach we shoudl follow is given bellow:"
      ]
    },
    {
      "attachments": {},
      "cell_type": "markdown",
      "metadata": {
        "id": "ySj5UsYdrP43"
      },
      "source": [
        "# **`Updating value of global variable from inside of any user_defined function using  Global Keyword`** <br>\n",
        "`global` keyword tells program that there is no need to make a new variable locally but the variable we are using locally is a global variable, which has benn defined"
      ]
    },
    {
      "cell_type": "code",
      "execution_count": null,
      "metadata": {
        "execution": {
          "iopub.execute_input": "2021-12-11T11:44:42.576513Z",
          "iopub.status.busy": "2021-12-11T11:44:42.576243Z",
          "iopub.status.idle": "2021-12-11T11:44:42.58185Z",
          "shell.execute_reply": "2021-12-11T11:44:42.580668Z",
          "shell.execute_reply.started": "2021-12-11T11:44:42.57648Z"
        },
        "id": "mGro89w7rP43",
        "trusted": true
      },
      "outputs": [],
      "source": [
        "#### Observe every output from here onwords #####\n",
        "# defining a global variable\n",
        "global_variable = 'variable outside of function'\n",
        "\n",
        "# defining function\n",
        "def random_function():\n",
        "    # telling function which variables is/are global\n",
        "    global global_variable\n",
        "    # changing value of global variable from inside of the function\n",
        "    global_variable = 'changing variable outside of function from inside of function'\n",
        "    # accessing variable which is outside of this function\n",
        "    return global_variable"
      ]
    },
    {
      "cell_type": "code",
      "execution_count": null,
      "metadata": {
        "colab": {
          "base_uri": "https://localhost:8080/"
        },
        "execution": {
          "iopub.execute_input": "2021-12-11T11:44:50.853721Z",
          "iopub.status.busy": "2021-12-11T11:44:50.853448Z",
          "iopub.status.idle": "2021-12-11T11:44:50.858786Z",
          "shell.execute_reply": "2021-12-11T11:44:50.857754Z",
          "shell.execute_reply.started": "2021-12-11T11:44:50.853693Z"
        },
        "id": "kE3EOtIfrP43",
        "outputId": "d60d0b5d-0cd8-4bd4-ef29-4c3b27416f23",
        "trusted": true
      },
      "outputs": [],
      "source": [
        "print(random_function())\n",
        "print(global_variable)"
      ]
    },
    {
      "attachments": {},
      "cell_type": "markdown",
      "metadata": {
        "id": "rcFgfqTwrP43"
      },
      "source": [
        "<a id='15'></a><center> <h3 style=\"background-color:orange; color:white\" ><br>Lambda Expressions<br></h3>"
      ]
    },
    {
      "attachments": {},
      "cell_type": "markdown",
      "metadata": {
        "id": "WEq89rm1rP43"
      },
      "source": [
        "`Lambda function can have any number of arguments but only one expression, which is evaluated and returned`\n",
        "* `Lambda Functions` are syntactically restricted to a single expression\n",
        "* More efficient than function when task of  function is small\n",
        "* Do not use Lambda functions when task is complex\n",
        "* It works best when you have to call a function more of times but execution task is simple\n",
        "\n",
        "`Write a regular function instead of a lambda when function is to be used multiple times`\n",
        "* `Key`= Lambda must be used once\n",
        "* Lambdas are supposed to be used for just once and thus there is no reason to assign a lambda to a variable.\n",
        "* Major reason for avoiding assigning a lambda to a variable is for debugging/maintainability purposes, especially in a production/teamwork environment\n",
        "\n",
        "\n",
        "* Use of function is good choice when assignment of variable is compulsary \n",
        "* While debugging if any error accurs it will point out to the function creating error\n",
        "* In case of lambda function it will throw `lambda error` and ther can be many lambda in out code which makes is difficult to debug error "
      ]
    },
    {
      "cell_type": "code",
      "execution_count": null,
      "metadata": {
        "id": "xg6eKbLRaRJH"
      },
      "outputs": [],
      "source": []
    },
    {
      "cell_type": "code",
      "execution_count": null,
      "metadata": {
        "execution": {
          "iopub.execute_input": "2021-12-11T12:00:22.685235Z",
          "iopub.status.busy": "2021-12-11T12:00:22.684948Z",
          "iopub.status.idle": "2021-12-11T12:00:22.690396Z",
          "shell.execute_reply": "2021-12-11T12:00:22.689805Z",
          "shell.execute_reply.started": "2021-12-11T12:00:22.685204Z"
        },
        "id": "VXxZTJZirP43",
        "trusted": true
      },
      "outputs": [],
      "source": [
        "# define a function that adds 100 to number that is passed as an argument\n",
        "def adds(num):\n",
        "  return num + 100"
      ]
    },
    {
      "cell_type": "code",
      "execution_count": null,
      "metadata": {
        "colab": {
          "base_uri": "https://localhost:8080/"
        },
        "execution": {
          "iopub.execute_input": "2021-12-11T12:05:30.28859Z",
          "iopub.status.busy": "2021-12-11T12:05:30.288288Z",
          "iopub.status.idle": "2021-12-11T12:05:30.294691Z",
          "shell.execute_reply": "2021-12-11T12:05:30.293705Z",
          "shell.execute_reply.started": "2021-12-11T12:05:30.288548Z"
        },
        "id": "U5_RDfAirP43",
        "outputId": "c7240149-f6f6-458f-b6b8-1c21d67cb776",
        "trusted": true
      },
      "outputs": [],
      "source": [
        "# lambda function named as increaseBy_100 that adds 100 to number that is passed as an argument\n",
        "increaseBy_100 = lambda x: x + 100\n",
        "# print value for increaseBy_100(1), using f string\n",
        "print(f'{increaseBy_100(1)}')\n",
        "# print value for increaseBy_100(22), using f string\n",
        "print(f'{increaseBy_100(22)}')"
      ]
    },
    {
      "attachments": {},
      "cell_type": "markdown",
      "metadata": {
        "id": "2nDrVMrorP44"
      },
      "source": [
        "# **`Lambda function with two arguments`**"
      ]
    },
    {
      "cell_type": "code",
      "execution_count": null,
      "metadata": {
        "colab": {
          "base_uri": "https://localhost:8080/"
        },
        "execution": {
          "iopub.execute_input": "2021-12-11T12:03:26.870492Z",
          "iopub.status.busy": "2021-12-11T12:03:26.870187Z",
          "iopub.status.idle": "2021-12-11T12:03:26.876301Z",
          "shell.execute_reply": "2021-12-11T12:03:26.8755Z",
          "shell.execute_reply.started": "2021-12-11T12:03:26.870463Z"
        },
        "id": "3hb3McqDrP44",
        "outputId": "70a0a2ce-80b4-4d6e-ffc9-63febd3dfc78",
        "trusted": true
      },
      "outputs": [],
      "source": [
        "# write a lambda fucntion named as subtract_two_number which can take any two number as input and subtract thouse two number\n",
        "subtract_two_number = lambda a,b : a-b\n",
        "print(f'{subtract_two_number(1,2)}')"
      ]
    },
    {
      "attachments": {},
      "cell_type": "markdown",
      "metadata": {
        "id": "i5Q_GCA1rP44"
      },
      "source": [
        "# ***`filter() function`*** takes in a function and a list as arguments <br>\n",
        "`It filters out all elements of a sequence, for which function returns True`"
      ]
    },
    {
      "cell_type": "code",
      "execution_count": null,
      "metadata": {
        "execution": {
          "iopub.execute_input": "2021-12-11T12:16:47.959928Z",
          "iopub.status.busy": "2021-12-11T12:16:47.959669Z",
          "iopub.status.idle": "2021-12-11T12:16:47.964627Z",
          "shell.execute_reply": "2021-12-11T12:16:47.963957Z",
          "shell.execute_reply.started": "2021-12-11T12:16:47.959902Z"
        },
        "id": "s8waRBHerP44",
        "trusted": true
      },
      "outputs": [],
      "source": [
        "#### Observe every output from here onwords #####\n",
        "# function to check if given number is even \n",
        "def divisible_two(x):\n",
        "    if x%2 == 0:\n",
        "        return True #odd \n",
        "    else:\n",
        "        return False #not odd\n",
        "    \n",
        "# given list to filter for odd number\n",
        "check_list = [4,8,0,11,456,777,999,777]"
      ]
    },
    {
      "cell_type": "code",
      "execution_count": null,
      "metadata": {
        "colab": {
          "base_uri": "https://localhost:8080/"
        },
        "execution": {
          "iopub.execute_input": "2021-12-11T12:16:49.025528Z",
          "iopub.status.busy": "2021-12-11T12:16:49.025265Z",
          "iopub.status.idle": "2021-12-11T12:16:49.032015Z",
          "shell.execute_reply": "2021-12-11T12:16:49.030928Z",
          "shell.execute_reply.started": "2021-12-11T12:16:49.025499Z"
        },
        "id": "OSf2QniarP44",
        "outputId": "76533338-4e13-40b4-a8ab-04bbbee092b2",
        "trusted": true
      },
      "outputs": [],
      "source": [
        "#### Observe every output from here onwords #####\n",
        "odd_number_filtered_list = list(filter(divisible_two,check_list))\n",
        "odd_number_filtered_list"
      ]
    },
    {
      "cell_type": "code",
      "execution_count": null,
      "metadata": {
        "colab": {
          "base_uri": "https://localhost:8080/"
        },
        "execution": {
          "iopub.execute_input": "2021-12-11T12:16:49.726825Z",
          "iopub.status.busy": "2021-12-11T12:16:49.72659Z",
          "iopub.status.idle": "2021-12-11T12:16:49.731947Z",
          "shell.execute_reply": "2021-12-11T12:16:49.731354Z",
          "shell.execute_reply.started": "2021-12-11T12:16:49.7268Z"
        },
        "id": "0kta1jnvrP44",
        "outputId": "0ba584d7-07ed-4246-b259-7927087055e4",
        "trusted": true
      },
      "outputs": [],
      "source": [
        "# writing lambda function for above code (we need not to define function sepratly)\n",
        "odd_number_filtered_list_using_lambda = list(filter(lambda x:(x%2==0),check_list))\n",
        "odd_number_filtered_list_using_lambda"
      ]
    },
    {
      "attachments": {},
      "cell_type": "markdown",
      "metadata": {
        "id": "mx2z069urP44"
      },
      "source": [
        "How easy lamda can make our task now understand\n"
      ]
    },
    {
      "attachments": {},
      "cell_type": "markdown",
      "metadata": {
        "id": "Vv_hbB-arP45"
      },
      "source": [
        "# ***`map() function`*** takes in a function and a list as argument\n",
        "* Function is called with a lambda function and a list\n",
        "* A new list is returned which contains all lambda modified items returned by that function for each item"
      ]
    },
    {
      "cell_type": "code",
      "execution_count": null,
      "metadata": {
        "colab": {
          "base_uri": "https://localhost:8080/"
        },
        "execution": {
          "iopub.execute_input": "2021-12-11T12:21:37.036641Z",
          "iopub.status.busy": "2021-12-11T12:21:37.036314Z",
          "iopub.status.idle": "2021-12-11T12:21:37.043569Z",
          "shell.execute_reply": "2021-12-11T12:21:37.042921Z",
          "shell.execute_reply.started": "2021-12-11T12:21:37.036606Z"
        },
        "id": "pTnlcYcirP45",
        "outputId": "adfcfe72-fa0d-4e0e-ce1d-f42dab6f1c03",
        "trusted": true
      },
      "outputs": [],
      "source": [
        "#### Observe every output from here onwords #####\n",
        "check_list = [4,8,0,11,456,777,999,777]\n",
        "\n",
        "#increse every element of check_list by 4\n",
        "mapped_check_list = list(map(lambda x:x*4,check_list ))\n",
        "mapped_check_list"
      ]
    },
    {
      "cell_type": "code",
      "execution_count": null,
      "metadata": {
        "colab": {
          "base_uri": "https://localhost:8080/"
        },
        "execution": {
          "iopub.execute_input": "2021-12-11T12:23:30.07096Z",
          "iopub.status.busy": "2021-12-11T12:23:30.070668Z",
          "iopub.status.idle": "2021-12-11T12:23:30.078246Z",
          "shell.execute_reply": "2021-12-11T12:23:30.077438Z",
          "shell.execute_reply.started": "2021-12-11T12:23:30.07093Z"
        },
        "id": "UjkGFcOurP45",
        "outputId": "1a713ea6-46f4-4816-c030-5c5078d6f307",
        "trusted": true
      },
      "outputs": [],
      "source": [
        "#### Observe every output from here onwords #####\n",
        "check_list = ['north','see','king','himalayas','east']\n",
        "# capatilize first letter of each  word in the original list\n",
        "# mapped_check_list = list(map(lambda x: x[0].upper()+x[1:],check_list)) \n",
        "mapped_check_list = list(map(lambda x: x.capitalize(),check_list)) \n",
        "mapped_check_list"
      ]
    },
    {
      "attachments": {},
      "cell_type": "markdown",
      "metadata": {
        "id": "DNAZjcndrP45"
      },
      "source": [
        "# **`reduce() Function`** takes in a function and a list as argument\n",
        "* The function is called with a lambda function and a list\n",
        "* A new reduced result is returned\n",
        "* This performs a repetitive operation over pairs of list\n",
        "\n",
        "`Reduce Function will always take two parameters`"
      ]
    },
    {
      "cell_type": "code",
      "execution_count": null,
      "metadata": {
        "colab": {
          "base_uri": "https://localhost:8080/"
        },
        "execution": {
          "iopub.execute_input": "2021-12-11T12:26:20.942969Z",
          "iopub.status.busy": "2021-12-11T12:26:20.94267Z",
          "iopub.status.idle": "2021-12-11T12:26:20.949205Z",
          "shell.execute_reply": "2021-12-11T12:26:20.948607Z",
          "shell.execute_reply.started": "2021-12-11T12:26:20.942936Z"
        },
        "id": "C2cKnRQRrP45",
        "outputId": "45aa56c1-7d41-4c34-f1b3-9e0fce85a898",
        "trusted": true
      },
      "outputs": [],
      "source": [
        "#### Observe every output from here onwords #####\n",
        "#importing reduce using functools\n",
        "from functools import reduce\n",
        "\n",
        "\n",
        "check_list = [4,8,0,11,456,777,999,777]\n",
        "#using reduce function to find sum of numbers in check_list\n",
        "sum_of_list = reduce((lambda x, y : x + y),check_list) \n",
        "sum_of_list"
      ]
    },
    {
      "cell_type": "code",
      "execution_count": null,
      "metadata": {
        "colab": {
          "base_uri": "https://localhost:8080/"
        },
        "execution": {
          "iopub.execute_input": "2021-12-11T12:27:05.948578Z",
          "iopub.status.busy": "2021-12-11T12:27:05.947988Z",
          "iopub.status.idle": "2021-12-11T12:27:05.954115Z",
          "shell.execute_reply": "2021-12-11T12:27:05.953544Z",
          "shell.execute_reply.started": "2021-12-11T12:27:05.948527Z"
        },
        "id": "AxB-1xvYrP45",
        "outputId": "c0bac436-ab4c-40c8-9402-a32894c3ccff",
        "trusted": true
      },
      "outputs": [],
      "source": [
        "#### Observe every output from here onwords #####\n",
        "check_list = [4,8,0,11,456,777,999,777]\n",
        "#using reduce function to find largest number in check_list\n",
        "largest_number = reduce((lambda x, y: x if (x > y) else y ),check_list) \n",
        "largest_number"
      ]
    },
    {
      "attachments": {},
      "cell_type": "markdown",
      "metadata": {
        "id": "hZ15dPrLrP45"
      },
      "source": [
        "<a id='16'></a><center> <h3 style=\"background-color:orange; color:white\" ><br>Comprehensions<br></h3>"
      ]
    },
    {
      "attachments": {},
      "cell_type": "markdown",
      "metadata": {
        "id": "Q50giP1JSRht"
      },
      "source": [
        "#### **BELOW CODE IS GIVEN FOR YOU TO OBSERVE HOW COMPREHENSIONS WORK.**"
      ]
    },
    {
      "attachments": {},
      "cell_type": "markdown",
      "metadata": {
        "execution": {
          "iopub.execute_input": "2021-12-11T12:40:13.51405Z",
          "iopub.status.busy": "2021-12-11T12:40:13.513306Z",
          "iopub.status.idle": "2021-12-11T12:40:13.516965Z",
          "shell.execute_reply": "2021-12-11T12:40:13.516398Z",
          "shell.execute_reply.started": "2021-12-11T12:40:13.51401Z"
        },
        "id": "kPw6N8X_rP45"
      },
      "source": [
        "# **`Type of Comprehensions`**:\n",
        "1. `List Comprehension`\n",
        "2. `Set Comprehension` \n",
        "3. `Dict Comprehension`"
      ]
    },
    {
      "attachments": {},
      "cell_type": "markdown",
      "metadata": {
        "id": "BmN5iDJyrP45"
      },
      "source": [
        "# 1. List Comprehension\n",
        "`Syntex:`\n",
        "\n",
        "**[expression for item in iterable]**\n",
        "\n",
        "\n",
        "**Expanded Form**<br>\n",
        "for item in iterable: <br>\n",
        "....expression"
      ]
    },
    {
      "attachments": {},
      "cell_type": "markdown",
      "metadata": {
        "id": "DF7cNPLerP45"
      },
      "source": [
        "**`Converet all element of below tuple in upper case and change datatype into list`**"
      ]
    },
    {
      "cell_type": "code",
      "execution_count": null,
      "metadata": {
        "colab": {
          "base_uri": "https://localhost:8080/"
        },
        "execution": {
          "iopub.execute_input": "2021-12-11T12:44:52.832229Z",
          "iopub.status.busy": "2021-12-11T12:44:52.831783Z",
          "iopub.status.idle": "2021-12-11T12:44:52.839423Z",
          "shell.execute_reply": "2021-12-11T12:44:52.838508Z",
          "shell.execute_reply.started": "2021-12-11T12:44:52.832175Z"
        },
        "id": "v9pd74p_rP45",
        "outputId": "f76e73e7-ad1a-4c49-a5aa-f28851b4c591",
        "trusted": true
      },
      "outputs": [],
      "source": [
        "animals = ('bird', 'snake', 'dog', 'turtle', 'cat', 'hamster')\n",
        "type(animals)"
      ]
    },
    {
      "cell_type": "code",
      "execution_count": null,
      "metadata": {
        "colab": {
          "base_uri": "https://localhost:8080/"
        },
        "execution": {
          "iopub.execute_input": "2021-12-11T12:46:10.788709Z",
          "iopub.status.busy": "2021-12-11T12:46:10.788116Z",
          "iopub.status.idle": "2021-12-11T12:46:10.795836Z",
          "shell.execute_reply": "2021-12-11T12:46:10.794758Z",
          "shell.execute_reply.started": "2021-12-11T12:46:10.788656Z"
        },
        "id": "_8Vxa7vbrP46",
        "outputId": "90063ec4-54f7-4ae7-cc35-4a7ad99abdcb",
        "trusted": true
      },
      "outputs": [],
      "source": [
        "# good => way using list comprehension\n",
        "\n",
        "[x.upper()for x in animals]"
      ]
    },
    {
      "cell_type": "code",
      "execution_count": null,
      "metadata": {
        "colab": {
          "base_uri": "https://localhost:8080/"
        },
        "execution": {
          "iopub.execute_input": "2021-12-11T12:47:45.247201Z",
          "iopub.status.busy": "2021-12-11T12:47:45.24633Z",
          "iopub.status.idle": "2021-12-11T12:47:45.255041Z",
          "shell.execute_reply": "2021-12-11T12:47:45.254315Z",
          "shell.execute_reply.started": "2021-12-11T12:47:45.247159Z"
        },
        "id": "cWkErTE-rP46",
        "outputId": "5226186e-6aab-44ad-97bb-284642da0a23",
        "trusted": true
      },
      "outputs": [],
      "source": [
        "# Not Good way => using list comprehension\n",
        "animalss = []\n",
        "for x in animals:\n",
        "    animalss.append(x.upper())\n",
        "animalss"
      ]
    },
    {
      "attachments": {},
      "cell_type": "markdown",
      "metadata": {
        "id": "qODAY6rvrP46"
      },
      "source": [
        "# List Comprehension for Conditional statement or For Filtering</b>\n",
        "\n",
        "`Syntex:`\n",
        "\n",
        "**[expression `for` item in iterable `if` some_condition]**\n",
        "\n",
        "`Expended Form:`\n",
        "\n",
        "`for` item in iterable:\n",
        "<br>___    `if` some_condition:\n",
        "<br>________        expression "
      ]
    },
    {
      "cell_type": "code",
      "execution_count": null,
      "metadata": {
        "execution": {
          "iopub.execute_input": "2021-12-11T12:49:28.837034Z",
          "iopub.status.busy": "2021-12-11T12:49:28.836631Z",
          "iopub.status.idle": "2021-12-11T12:49:28.841127Z",
          "shell.execute_reply": "2021-12-11T12:49:28.840118Z",
          "shell.execute_reply.started": "2021-12-11T12:49:28.837003Z"
        },
        "id": "aiz3zeKzrP46",
        "trusted": true
      },
      "outputs": [],
      "source": [
        "#find the prime number and square them\n",
        "\n",
        "primes = [2,3,4,5,6,8,7,9]"
      ]
    },
    {
      "cell_type": "code",
      "execution_count": null,
      "metadata": {
        "colab": {
          "base_uri": "https://localhost:8080/"
        },
        "execution": {
          "iopub.execute_input": "2021-12-11T12:49:34.511914Z",
          "iopub.status.busy": "2021-12-11T12:49:34.511204Z",
          "iopub.status.idle": "2021-12-11T12:49:34.520236Z",
          "shell.execute_reply": "2021-12-11T12:49:34.518769Z",
          "shell.execute_reply.started": "2021-12-11T12:49:34.511869Z"
        },
        "id": "wzASeS9erP46",
        "outputId": "f75d91da-ade0-419a-de5f-e2e28102c36c",
        "trusted": true
      },
      "outputs": [],
      "source": [
        "# good\n",
        "[x*x for x in primes if x%2 == 0]"
      ]
    },
    {
      "cell_type": "code",
      "execution_count": null,
      "metadata": {
        "colab": {
          "base_uri": "https://localhost:8080/"
        },
        "execution": {
          "iopub.execute_input": "2021-12-11T12:49:59.636937Z",
          "iopub.status.busy": "2021-12-11T12:49:59.636651Z",
          "iopub.status.idle": "2021-12-11T12:49:59.643965Z",
          "shell.execute_reply": "2021-12-11T12:49:59.642794Z",
          "shell.execute_reply.started": "2021-12-11T12:49:59.636901Z"
        },
        "id": "3j3aW1LLrP46",
        "outputId": "d86497be-ec1a-4ca3-b8c4-56c9043e690b",
        "trusted": true
      },
      "outputs": [],
      "source": [
        "# not good\n",
        "ls = []\n",
        "for x in primes:\n",
        "    if x % 2 == 0:\n",
        "        ls.append(x*x)\n",
        "ls"
      ]
    },
    {
      "attachments": {},
      "cell_type": "markdown",
      "metadata": {
        "id": "W9XTKbOyrP46"
      },
      "source": [
        "**`For more complex conditions we can use function along with`**"
      ]
    },
    {
      "cell_type": "code",
      "execution_count": null,
      "metadata": {
        "execution": {
          "iopub.execute_input": "2021-12-11T12:52:17.507335Z",
          "iopub.status.busy": "2021-12-11T12:52:17.506505Z",
          "iopub.status.idle": "2021-12-11T12:52:17.513214Z",
          "shell.execute_reply": "2021-12-11T12:52:17.512673Z",
          "shell.execute_reply.started": "2021-12-11T12:52:17.507296Z"
        },
        "id": "XKdSFtStrP46",
        "trusted": true
      },
      "outputs": [],
      "source": [
        "#find from below given animal which have 4 leags \n",
        "\n",
        "animals = ('bird','snake','dog','turtle','cat','hamster')"
      ]
    },
    {
      "cell_type": "code",
      "execution_count": null,
      "metadata": {
        "colab": {
          "base_uri": "https://localhost:8080/"
        },
        "execution": {
          "iopub.execute_input": "2021-12-11T12:53:07.832355Z",
          "iopub.status.busy": "2021-12-11T12:53:07.831737Z",
          "iopub.status.idle": "2021-12-11T12:53:07.838511Z",
          "shell.execute_reply": "2021-12-11T12:53:07.837769Z",
          "shell.execute_reply.started": "2021-12-11T12:53:07.832313Z"
        },
        "id": "s-A0LhR4rP46",
        "outputId": "a030fb12-58d0-449e-f7a0-0af7e6a1179a",
        "trusted": true
      },
      "outputs": [],
      "source": [
        "# good\n",
        "def has_4_legs(animal):\n",
        "    return animal in ('dog','turtle','cat')\n",
        "\n",
        "[x for x in animals if has_4_legs(x)]"
      ]
    },
    {
      "cell_type": "code",
      "execution_count": null,
      "metadata": {
        "colab": {
          "base_uri": "https://localhost:8080/"
        },
        "execution": {
          "iopub.execute_input": "2021-12-11T12:52:40.234732Z",
          "iopub.status.busy": "2021-12-11T12:52:40.234165Z",
          "iopub.status.idle": "2021-12-11T12:52:40.241024Z",
          "shell.execute_reply": "2021-12-11T12:52:40.240303Z",
          "shell.execute_reply.started": "2021-12-11T12:52:40.234691Z"
        },
        "id": "Rvku5z7XrP46",
        "outputId": "f1837f36-1bb5-4c97-f580-ceed128c337e",
        "trusted": true
      },
      "outputs": [],
      "source": [
        "# not good\n",
        "l = []\n",
        "for x in animals:\n",
        "    if has_4_legs(x):\n",
        "        l.append(x)\n",
        "l"
      ]
    },
    {
      "attachments": {},
      "cell_type": "markdown",
      "metadata": {
        "id": "VcEa0wckrP47"
      },
      "source": [
        "# 2. Set Comprehension\n",
        "* Set have unique element\n",
        "* Only use curly bracket then that of square bracket\n",
        "\n",
        "`Syntax:`\n",
        "\n",
        "**{expression `for` item in iterable}**"
      ]
    },
    {
      "cell_type": "code",
      "execution_count": null,
      "metadata": {
        "colab": {
          "base_uri": "https://localhost:8080/"
        },
        "execution": {
          "iopub.execute_input": "2021-12-11T12:54:59.598315Z",
          "iopub.status.busy": "2021-12-11T12:54:59.597912Z",
          "iopub.status.idle": "2021-12-11T12:54:59.605267Z",
          "shell.execute_reply": "2021-12-11T12:54:59.604646Z",
          "shell.execute_reply.started": "2021-12-11T12:54:59.598279Z"
        },
        "id": "ZbjZrX_mrP47",
        "outputId": "275e59fb-9245-45d2-c988-cda81dd08f4e",
        "trusted": true
      },
      "outputs": [],
      "source": [
        "# find odds\n",
        "numbers_set = (1, 34, 5, 8, 10, 12, 3, 90, 70, 70, 90)\n",
        "\n",
        "unique_even_numbers = {number for number in numbers_set if number%2 == 0}\n",
        "unique_even_numbers"
      ]
    },
    {
      "attachments": {},
      "cell_type": "markdown",
      "metadata": {
        "id": "vGX5yVFwrP47"
      },
      "source": [
        "# 3. Dict Comprehension\n",
        "`Syntax:`\n",
        "\n",
        "**{key_expression : value_expression `for` item in iterable}**"
      ]
    },
    {
      "cell_type": "code",
      "execution_count": null,
      "metadata": {
        "colab": {
          "base_uri": "https://localhost:8080/"
        },
        "execution": {
          "iopub.execute_input": "2021-12-11T12:56:55.240073Z",
          "iopub.status.busy": "2021-12-11T12:56:55.239796Z",
          "iopub.status.idle": "2021-12-11T12:56:55.246199Z",
          "shell.execute_reply": "2021-12-11T12:56:55.245205Z",
          "shell.execute_reply.started": "2021-12-11T12:56:55.24004Z"
        },
        "id": "80TTyMXwrP47",
        "outputId": "c40df057-2061-4081-f41d-ff3fbd3fcb70",
        "trusted": true
      },
      "outputs": [],
      "source": [
        "words = ('python', 'is', 'a', 'big', 'snake')\n",
        "\n",
        "len_words = {word : len(word) for word in words}\n",
        "len_words"
      ]
    },
    {
      "cell_type": "code",
      "execution_count": null,
      "metadata": {
        "colab": {
          "base_uri": "https://localhost:8080/"
        },
        "execution": {
          "iopub.execute_input": "2021-12-11T12:57:09.958085Z",
          "iopub.status.busy": "2021-12-11T12:57:09.957799Z",
          "iopub.status.idle": "2021-12-11T12:57:09.96422Z",
          "shell.execute_reply": "2021-12-11T12:57:09.96331Z",
          "shell.execute_reply.started": "2021-12-11T12:57:09.958056Z"
        },
        "id": "0zjPld8qrP47",
        "outputId": "31cdd8cb-7407-4c70-cdbd-ff35ca5c5add",
        "trusted": true
      },
      "outputs": [],
      "source": [
        "# acessing key which start with p letter\n",
        "len_words_p = {word : len(word) for word in words if word.startswith('p')}\n",
        "len_words_p"
      ]
    },
    {
      "attachments": {},
      "cell_type": "markdown",
      "metadata": {
        "id": "7bhKjiMBrP47"
      },
      "source": [
        "<a id='17'></a><center> <h3 style=\"background-color:orange; color:white\" ><br>Enumerate<br></h3>"
      ]
    },
    {
      "attachments": {},
      "cell_type": "markdown",
      "metadata": {
        "id": "ct5JcFIYrP47"
      },
      "source": [
        "Used for efficient looping\n",
        "* Use enumerate function when `needed an index` while looping\n",
        "* Often used in list comprehensions or for loops and does not spit out tuples itself\n",
        "* Enumerate is an `iterator`, this means ``nothing gets stored``\n",
        "* Processes only one item at a time\n",
        "* This can be useful when you have large datasets/files.\n",
        "\n",
        "`Syntax:` <br>\n",
        "**enumerate(iterable, start)**\n",
        "**<br>_____start = starting index**\n",
        "* `Returns a tuple of type (index,values)`\n",
        "\n",
        "Whenever you see within your code `range(len(..))` there is a better way to loop than through using an index\n",
        "* This is where built-in function `Enumerate` can help"
      ]
    },
    {
      "attachments": {},
      "cell_type": "markdown",
      "metadata": {
        "id": "dJSxHP0-rP47"
      },
      "source": [
        "# Enumerate Working\n",
        "* Enumerate built-in function assigns an index to every item in an itterable object\n",
        "* This could be a set, list, string anything that can be iterated over"
      ]
    },
    {
      "cell_type": "code",
      "execution_count": null,
      "metadata": {
        "colab": {
          "base_uri": "https://localhost:8080/"
        },
        "execution": {
          "iopub.execute_input": "2021-12-11T13:06:43.886422Z",
          "iopub.status.busy": "2021-12-11T13:06:43.886137Z",
          "iopub.status.idle": "2021-12-11T13:06:43.891775Z",
          "shell.execute_reply": "2021-12-11T13:06:43.890646Z",
          "shell.execute_reply.started": "2021-12-11T13:06:43.886391Z"
        },
        "id": "5i1oBdIcrP47",
        "outputId": "7b2230d2-7301-4cf6-fe70-ca57b6252bd1",
        "trusted": true
      },
      "outputs": [],
      "source": [
        "colors = ['red','green','blue','purple']\n",
        "print(enumerate(colors))"
      ]
    },
    {
      "cell_type": "code",
      "execution_count": null,
      "metadata": {
        "colab": {
          "base_uri": "https://localhost:8080/"
        },
        "execution": {
          "iopub.execute_input": "2021-12-11T13:07:21.237003Z",
          "iopub.status.busy": "2021-12-11T13:07:21.236285Z",
          "iopub.status.idle": "2021-12-11T13:07:21.242931Z",
          "shell.execute_reply": "2021-12-11T13:07:21.241939Z",
          "shell.execute_reply.started": "2021-12-11T13:07:21.236946Z"
        },
        "id": "WGutH8TCrP47",
        "outputId": "d05703a9-6baf-4b59-da3c-41a98d702a33",
        "trusted": true
      },
      "outputs": [],
      "source": [
        "#enumerate gives us index which starts from 0\n",
        "for index,start in enumerate(colors):\n",
        "    print(index,start)"
      ]
    },
    {
      "cell_type": "code",
      "execution_count": null,
      "metadata": {
        "colab": {
          "base_uri": "https://localhost:8080/"
        },
        "execution": {
          "iopub.execute_input": "2021-12-11T13:07:59.98795Z",
          "iopub.status.busy": "2021-12-11T13:07:59.98731Z",
          "iopub.status.idle": "2021-12-11T13:07:59.993868Z",
          "shell.execute_reply": "2021-12-11T13:07:59.992926Z",
          "shell.execute_reply.started": "2021-12-11T13:07:59.987901Z"
        },
        "id": "6bdVzFdmrP48",
        "outputId": "ca7068e8-5f42-4f61-c78b-1b2b2cd1c076",
        "trusted": true
      },
      "outputs": [],
      "source": [
        "# index starting from 1 maybee\n",
        "for index,start in enumerate(colors,start=1):\n",
        "    print(index,start)"
      ]
    },
    {
      "attachments": {},
      "cell_type": "markdown",
      "metadata": {
        "id": "0j32rPMorP48"
      },
      "source": [
        "In above code we define variables index and item and they get assigned to first and second items of each tuple \n",
        "* This is called `sequence unpacking`\n",
        "* We then print index and item of items object"
      ]
    },
    {
      "cell_type": "code",
      "execution_count": null,
      "metadata": {
        "colab": {
          "base_uri": "https://localhost:8080/"
        },
        "execution": {
          "iopub.execute_input": "2021-12-11T13:10:46.872664Z",
          "iopub.status.busy": "2021-12-11T13:10:46.872378Z",
          "iopub.status.idle": "2021-12-11T13:10:46.877838Z",
          "shell.execute_reply": "2021-12-11T13:10:46.877244Z",
          "shell.execute_reply.started": "2021-12-11T13:10:46.872632Z"
        },
        "id": "JbaxHHKLrP48",
        "outputId": "028035ea-d42b-4f01-a348-67c8671ffc76",
        "trusted": true
      },
      "outputs": [],
      "source": [
        "# using Enumerate to skip over one index\n",
        "for index,start in enumerate(colors,start=1):\n",
        "    if index == 3: # skipping index 3 \n",
        "        continue\n",
        "    print(index,start)"
      ]
    }
  ],
  "metadata": {
    "colab": {
      "collapsed_sections": [
        "slh282AprP4M",
        "W-7tOm5CrP4P",
        "7Mo7XNVNrP4W",
        "_jF5-7_PrP4e",
        "fI6TbJ9IrP4e",
        "kPw6N8X_rP45"
      ],
      "provenance": []
    },
    "kernelspec": {
      "display_name": "Python 3",
      "language": "python",
      "name": "python3"
    },
    "language_info": {
      "codemirror_mode": {
        "name": "ipython",
        "version": 3
      },
      "file_extension": ".py",
      "mimetype": "text/x-python",
      "name": "python",
      "nbconvert_exporter": "python",
      "pygments_lexer": "ipython3",
      "version": "3.7.12"
    }
  },
  "nbformat": 4,
  "nbformat_minor": 0
}
